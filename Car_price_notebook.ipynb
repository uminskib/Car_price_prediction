{
 "cells": [
  {
   "cell_type": "markdown",
   "metadata": {},
   "source": [
    "## 1.Introduction"
   ]
  },
  {
   "cell_type": "markdown",
   "metadata": {},
   "source": [
    "The data come from the Kaggle dataset Car Features and MSRP of Kaggle. It describes almost 12 000 car models sold in the USA between 1990 and 2018 with the market price and some features. This study is intended to conduct an analysis leading to the construction of a model that will best predict the price of a car based on the information collected in this database.\n",
    "\n",
    "This is a regression problem that will be solved using 3 models: Linear Regression, Support Vector Machine and Random Forest. \n",
    "Statistics such as mean squared error, mean absolute error and R^2 will be used to evaluate the models."
   ]
  },
  {
   "cell_type": "markdown",
   "metadata": {},
   "source": [
    "The main focus will be on the modeling process and the selection of appropriate hyperparameters"
   ]
  },
  {
   "cell_type": "markdown",
   "metadata": {},
   "source": [
    "Data description:"
   ]
  },
  {
   "cell_type": "code",
   "execution_count": 1,
   "metadata": {},
   "outputs": [],
   "source": [
    "# Make                Car Make\n",
    "# Model               Car Model\n",
    "# Year                Car Year Productuin\n",
    "# Engine Fuel Type    Engine Fuel Type\n",
    "# Engine HP           Engine Horse Power (HP)\n",
    "# Engine Cylinders    Engine Cylinders\n",
    "# Transmission Type   Transmission Type\n",
    "# Driven_Wheels       Driven Wheels\n",
    "# Number of Doors     Number of Doors\n",
    "# Market Category     Market Category\n",
    "# Vehicle Size        Size of Vehicle\n",
    "# Vehicle Style       Type of Vehicle\n",
    "# highway MPG         Highway MPG\n",
    "# city mpg            City MPG\n",
    "# Popularity          Popularity (Twitter)\n",
    "# MSRP                Manufacturer Suggested Retail Price\n"
   ]
  },
  {
   "cell_type": "markdown",
   "metadata": {},
   "source": [
    "## 2. Development environment preparation"
   ]
  },
  {
   "cell_type": "code",
   "execution_count": 2,
   "metadata": {},
   "outputs": [],
   "source": [
    "import pandas as pd \n",
    "import numpy as np\n",
    "import matplotlib.pyplot as plt\n",
    "plt.rcParams[\"figure.figsize\"] = (7, 5)\n",
    "import seaborn as sns\n",
    "sns.set_theme()\n",
    "import os\n",
    "from sklearn.model_selection import train_test_split\n",
    "from sklearn import preprocessing\n",
    "from sklearn import feature_selection\n",
    "from sklearn import linear_model\n",
    "import sklearn.metrics as metrics\n",
    "import statsmodels.api as sm\n",
    "from sklearn.svm import SVR\n",
    "from sklearn.model_selection import KFold\n",
    "from sklearn.ensemble import RandomForestRegressor\n",
    "path=os.getcwd()\n",
    "pd.options.mode.chained_assignment = None  # default='warn'\n",
    "\n"
   ]
  },
  {
   "cell_type": "markdown",
   "metadata": {},
   "source": [
    "## 3. Data structure and data cleaning"
   ]
  },
  {
   "cell_type": "markdown",
   "metadata": {},
   "source": [
    "We start the analysis by reviewing the data structure."
   ]
  },
  {
   "cell_type": "code",
   "execution_count": 3,
   "metadata": {
    "scrolled": true
   },
   "outputs": [
    {
     "data": {
      "text/html": [
       "<div>\n",
       "<style scoped>\n",
       "    .dataframe tbody tr th:only-of-type {\n",
       "        vertical-align: middle;\n",
       "    }\n",
       "\n",
       "    .dataframe tbody tr th {\n",
       "        vertical-align: top;\n",
       "    }\n",
       "\n",
       "    .dataframe thead th {\n",
       "        text-align: right;\n",
       "    }\n",
       "</style>\n",
       "<table border=\"1\" class=\"dataframe\">\n",
       "  <thead>\n",
       "    <tr style=\"text-align: right;\">\n",
       "      <th></th>\n",
       "      <th>Make</th>\n",
       "      <th>Model</th>\n",
       "      <th>Year</th>\n",
       "      <th>Engine Fuel Type</th>\n",
       "      <th>Engine HP</th>\n",
       "      <th>Engine Cylinders</th>\n",
       "      <th>Transmission Type</th>\n",
       "      <th>Driven_Wheels</th>\n",
       "      <th>Number of Doors</th>\n",
       "      <th>Market Category</th>\n",
       "      <th>Vehicle Size</th>\n",
       "      <th>Vehicle Style</th>\n",
       "      <th>highway MPG</th>\n",
       "      <th>city mpg</th>\n",
       "      <th>Popularity</th>\n",
       "      <th>MSRP</th>\n",
       "    </tr>\n",
       "  </thead>\n",
       "  <tbody>\n",
       "    <tr>\n",
       "      <th>0</th>\n",
       "      <td>BMW</td>\n",
       "      <td>1 Series M</td>\n",
       "      <td>2011</td>\n",
       "      <td>premium unleaded (required)</td>\n",
       "      <td>335.0</td>\n",
       "      <td>6.0</td>\n",
       "      <td>MANUAL</td>\n",
       "      <td>rear wheel drive</td>\n",
       "      <td>2.0</td>\n",
       "      <td>Factory Tuner,Luxury,High-Performance</td>\n",
       "      <td>Compact</td>\n",
       "      <td>Coupe</td>\n",
       "      <td>26</td>\n",
       "      <td>19</td>\n",
       "      <td>3916</td>\n",
       "      <td>46135</td>\n",
       "    </tr>\n",
       "    <tr>\n",
       "      <th>1</th>\n",
       "      <td>BMW</td>\n",
       "      <td>1 Series</td>\n",
       "      <td>2011</td>\n",
       "      <td>premium unleaded (required)</td>\n",
       "      <td>300.0</td>\n",
       "      <td>6.0</td>\n",
       "      <td>MANUAL</td>\n",
       "      <td>rear wheel drive</td>\n",
       "      <td>2.0</td>\n",
       "      <td>Luxury,Performance</td>\n",
       "      <td>Compact</td>\n",
       "      <td>Convertible</td>\n",
       "      <td>28</td>\n",
       "      <td>19</td>\n",
       "      <td>3916</td>\n",
       "      <td>40650</td>\n",
       "    </tr>\n",
       "    <tr>\n",
       "      <th>2</th>\n",
       "      <td>BMW</td>\n",
       "      <td>1 Series</td>\n",
       "      <td>2011</td>\n",
       "      <td>premium unleaded (required)</td>\n",
       "      <td>300.0</td>\n",
       "      <td>6.0</td>\n",
       "      <td>MANUAL</td>\n",
       "      <td>rear wheel drive</td>\n",
       "      <td>2.0</td>\n",
       "      <td>Luxury,High-Performance</td>\n",
       "      <td>Compact</td>\n",
       "      <td>Coupe</td>\n",
       "      <td>28</td>\n",
       "      <td>20</td>\n",
       "      <td>3916</td>\n",
       "      <td>36350</td>\n",
       "    </tr>\n",
       "    <tr>\n",
       "      <th>3</th>\n",
       "      <td>BMW</td>\n",
       "      <td>1 Series</td>\n",
       "      <td>2011</td>\n",
       "      <td>premium unleaded (required)</td>\n",
       "      <td>230.0</td>\n",
       "      <td>6.0</td>\n",
       "      <td>MANUAL</td>\n",
       "      <td>rear wheel drive</td>\n",
       "      <td>2.0</td>\n",
       "      <td>Luxury,Performance</td>\n",
       "      <td>Compact</td>\n",
       "      <td>Coupe</td>\n",
       "      <td>28</td>\n",
       "      <td>18</td>\n",
       "      <td>3916</td>\n",
       "      <td>29450</td>\n",
       "    </tr>\n",
       "    <tr>\n",
       "      <th>4</th>\n",
       "      <td>BMW</td>\n",
       "      <td>1 Series</td>\n",
       "      <td>2011</td>\n",
       "      <td>premium unleaded (required)</td>\n",
       "      <td>230.0</td>\n",
       "      <td>6.0</td>\n",
       "      <td>MANUAL</td>\n",
       "      <td>rear wheel drive</td>\n",
       "      <td>2.0</td>\n",
       "      <td>Luxury</td>\n",
       "      <td>Compact</td>\n",
       "      <td>Convertible</td>\n",
       "      <td>28</td>\n",
       "      <td>18</td>\n",
       "      <td>3916</td>\n",
       "      <td>34500</td>\n",
       "    </tr>\n",
       "  </tbody>\n",
       "</table>\n",
       "</div>"
      ],
      "text/plain": [
       "  Make       Model  Year             Engine Fuel Type  Engine HP  \\\n",
       "0  BMW  1 Series M  2011  premium unleaded (required)      335.0   \n",
       "1  BMW    1 Series  2011  premium unleaded (required)      300.0   \n",
       "2  BMW    1 Series  2011  premium unleaded (required)      300.0   \n",
       "3  BMW    1 Series  2011  premium unleaded (required)      230.0   \n",
       "4  BMW    1 Series  2011  premium unleaded (required)      230.0   \n",
       "\n",
       "   Engine Cylinders Transmission Type     Driven_Wheels  Number of Doors  \\\n",
       "0               6.0            MANUAL  rear wheel drive              2.0   \n",
       "1               6.0            MANUAL  rear wheel drive              2.0   \n",
       "2               6.0            MANUAL  rear wheel drive              2.0   \n",
       "3               6.0            MANUAL  rear wheel drive              2.0   \n",
       "4               6.0            MANUAL  rear wheel drive              2.0   \n",
       "\n",
       "                         Market Category Vehicle Size Vehicle Style  \\\n",
       "0  Factory Tuner,Luxury,High-Performance      Compact         Coupe   \n",
       "1                     Luxury,Performance      Compact   Convertible   \n",
       "2                Luxury,High-Performance      Compact         Coupe   \n",
       "3                     Luxury,Performance      Compact         Coupe   \n",
       "4                                 Luxury      Compact   Convertible   \n",
       "\n",
       "   highway MPG  city mpg  Popularity   MSRP  \n",
       "0           26        19        3916  46135  \n",
       "1           28        19        3916  40650  \n",
       "2           28        20        3916  36350  \n",
       "3           28        18        3916  29450  \n",
       "4           28        18        3916  34500  "
      ]
     },
     "metadata": {},
     "output_type": "display_data"
    },
    {
     "name": "stdout",
     "output_type": "stream",
     "text": [
      "<class 'pandas.core.frame.DataFrame'>\n",
      "RangeIndex: 11914 entries, 0 to 11913\n",
      "Data columns (total 16 columns):\n",
      " #   Column             Non-Null Count  Dtype  \n",
      "---  ------             --------------  -----  \n",
      " 0   Make               11914 non-null  object \n",
      " 1   Model              11914 non-null  object \n",
      " 2   Year               11914 non-null  int64  \n",
      " 3   Engine Fuel Type   11911 non-null  object \n",
      " 4   Engine HP          11845 non-null  float64\n",
      " 5   Engine Cylinders   11884 non-null  float64\n",
      " 6   Transmission Type  11914 non-null  object \n",
      " 7   Driven_Wheels      11914 non-null  object \n",
      " 8   Number of Doors    11908 non-null  float64\n",
      " 9   Market Category    8172 non-null   object \n",
      " 10  Vehicle Size       11914 non-null  object \n",
      " 11  Vehicle Style      11914 non-null  object \n",
      " 12  highway MPG        11914 non-null  int64  \n",
      " 13  city mpg           11914 non-null  int64  \n",
      " 14  Popularity         11914 non-null  int64  \n",
      " 15  MSRP               11914 non-null  int64  \n",
      "dtypes: float64(3), int64(5), object(8)\n",
      "memory usage: 1.5+ MB\n"
     ]
    },
    {
     "data": {
      "text/plain": [
       "None"
      ]
     },
     "metadata": {},
     "output_type": "display_data"
    }
   ],
   "source": [
    "data=pd.read_csv(path+'\\\\data\\\\data.csv')\n",
    "display(data.head())\n",
    "display(data.info())"
   ]
  },
  {
   "cell_type": "code",
   "execution_count": 4,
   "metadata": {},
   "outputs": [
    {
     "data": {
      "text/html": [
       "<div>\n",
       "<style scoped>\n",
       "    .dataframe tbody tr th:only-of-type {\n",
       "        vertical-align: middle;\n",
       "    }\n",
       "\n",
       "    .dataframe tbody tr th {\n",
       "        vertical-align: top;\n",
       "    }\n",
       "\n",
       "    .dataframe thead th {\n",
       "        text-align: right;\n",
       "    }\n",
       "</style>\n",
       "<table border=\"1\" class=\"dataframe\">\n",
       "  <thead>\n",
       "    <tr style=\"text-align: right;\">\n",
       "      <th></th>\n",
       "      <th>Make</th>\n",
       "      <th>Model</th>\n",
       "      <th>Year</th>\n",
       "      <th>Engine Fuel Type</th>\n",
       "      <th>Engine HP</th>\n",
       "      <th>Engine Cylinders</th>\n",
       "      <th>Transmission Type</th>\n",
       "      <th>Driven_Wheels</th>\n",
       "      <th>Number of Doors</th>\n",
       "      <th>Market Category</th>\n",
       "      <th>Vehicle Size</th>\n",
       "      <th>Vehicle Style</th>\n",
       "      <th>highway MPG</th>\n",
       "      <th>city mpg</th>\n",
       "      <th>Popularity</th>\n",
       "      <th>MSRP</th>\n",
       "    </tr>\n",
       "  </thead>\n",
       "  <tbody>\n",
       "    <tr>\n",
       "      <th>count</th>\n",
       "      <td>11914</td>\n",
       "      <td>11914</td>\n",
       "      <td>11914.000000</td>\n",
       "      <td>11911</td>\n",
       "      <td>11845.00000</td>\n",
       "      <td>11884.000000</td>\n",
       "      <td>11914</td>\n",
       "      <td>11914</td>\n",
       "      <td>11908.000000</td>\n",
       "      <td>8172</td>\n",
       "      <td>11914</td>\n",
       "      <td>11914</td>\n",
       "      <td>11914.000000</td>\n",
       "      <td>11914.000000</td>\n",
       "      <td>11914.000000</td>\n",
       "      <td>1.191400e+04</td>\n",
       "    </tr>\n",
       "    <tr>\n",
       "      <th>unique</th>\n",
       "      <td>48</td>\n",
       "      <td>915</td>\n",
       "      <td>NaN</td>\n",
       "      <td>10</td>\n",
       "      <td>NaN</td>\n",
       "      <td>NaN</td>\n",
       "      <td>5</td>\n",
       "      <td>4</td>\n",
       "      <td>NaN</td>\n",
       "      <td>71</td>\n",
       "      <td>3</td>\n",
       "      <td>16</td>\n",
       "      <td>NaN</td>\n",
       "      <td>NaN</td>\n",
       "      <td>NaN</td>\n",
       "      <td>NaN</td>\n",
       "    </tr>\n",
       "    <tr>\n",
       "      <th>top</th>\n",
       "      <td>Chevrolet</td>\n",
       "      <td>Silverado 1500</td>\n",
       "      <td>NaN</td>\n",
       "      <td>regular unleaded</td>\n",
       "      <td>NaN</td>\n",
       "      <td>NaN</td>\n",
       "      <td>AUTOMATIC</td>\n",
       "      <td>front wheel drive</td>\n",
       "      <td>NaN</td>\n",
       "      <td>Crossover</td>\n",
       "      <td>Compact</td>\n",
       "      <td>Sedan</td>\n",
       "      <td>NaN</td>\n",
       "      <td>NaN</td>\n",
       "      <td>NaN</td>\n",
       "      <td>NaN</td>\n",
       "    </tr>\n",
       "    <tr>\n",
       "      <th>freq</th>\n",
       "      <td>1123</td>\n",
       "      <td>156</td>\n",
       "      <td>NaN</td>\n",
       "      <td>7172</td>\n",
       "      <td>NaN</td>\n",
       "      <td>NaN</td>\n",
       "      <td>8266</td>\n",
       "      <td>4787</td>\n",
       "      <td>NaN</td>\n",
       "      <td>1110</td>\n",
       "      <td>4764</td>\n",
       "      <td>3048</td>\n",
       "      <td>NaN</td>\n",
       "      <td>NaN</td>\n",
       "      <td>NaN</td>\n",
       "      <td>NaN</td>\n",
       "    </tr>\n",
       "    <tr>\n",
       "      <th>mean</th>\n",
       "      <td>NaN</td>\n",
       "      <td>NaN</td>\n",
       "      <td>2010.384338</td>\n",
       "      <td>NaN</td>\n",
       "      <td>249.38607</td>\n",
       "      <td>5.628829</td>\n",
       "      <td>NaN</td>\n",
       "      <td>NaN</td>\n",
       "      <td>3.436093</td>\n",
       "      <td>NaN</td>\n",
       "      <td>NaN</td>\n",
       "      <td>NaN</td>\n",
       "      <td>26.637485</td>\n",
       "      <td>19.733255</td>\n",
       "      <td>1554.911197</td>\n",
       "      <td>4.059474e+04</td>\n",
       "    </tr>\n",
       "    <tr>\n",
       "      <th>std</th>\n",
       "      <td>NaN</td>\n",
       "      <td>NaN</td>\n",
       "      <td>7.579740</td>\n",
       "      <td>NaN</td>\n",
       "      <td>109.19187</td>\n",
       "      <td>1.780559</td>\n",
       "      <td>NaN</td>\n",
       "      <td>NaN</td>\n",
       "      <td>0.881315</td>\n",
       "      <td>NaN</td>\n",
       "      <td>NaN</td>\n",
       "      <td>NaN</td>\n",
       "      <td>8.863001</td>\n",
       "      <td>8.987798</td>\n",
       "      <td>1441.855347</td>\n",
       "      <td>6.010910e+04</td>\n",
       "    </tr>\n",
       "    <tr>\n",
       "      <th>min</th>\n",
       "      <td>NaN</td>\n",
       "      <td>NaN</td>\n",
       "      <td>1990.000000</td>\n",
       "      <td>NaN</td>\n",
       "      <td>55.00000</td>\n",
       "      <td>0.000000</td>\n",
       "      <td>NaN</td>\n",
       "      <td>NaN</td>\n",
       "      <td>2.000000</td>\n",
       "      <td>NaN</td>\n",
       "      <td>NaN</td>\n",
       "      <td>NaN</td>\n",
       "      <td>12.000000</td>\n",
       "      <td>7.000000</td>\n",
       "      <td>2.000000</td>\n",
       "      <td>2.000000e+03</td>\n",
       "    </tr>\n",
       "    <tr>\n",
       "      <th>25%</th>\n",
       "      <td>NaN</td>\n",
       "      <td>NaN</td>\n",
       "      <td>2007.000000</td>\n",
       "      <td>NaN</td>\n",
       "      <td>170.00000</td>\n",
       "      <td>4.000000</td>\n",
       "      <td>NaN</td>\n",
       "      <td>NaN</td>\n",
       "      <td>2.000000</td>\n",
       "      <td>NaN</td>\n",
       "      <td>NaN</td>\n",
       "      <td>NaN</td>\n",
       "      <td>22.000000</td>\n",
       "      <td>16.000000</td>\n",
       "      <td>549.000000</td>\n",
       "      <td>2.100000e+04</td>\n",
       "    </tr>\n",
       "    <tr>\n",
       "      <th>50%</th>\n",
       "      <td>NaN</td>\n",
       "      <td>NaN</td>\n",
       "      <td>2015.000000</td>\n",
       "      <td>NaN</td>\n",
       "      <td>227.00000</td>\n",
       "      <td>6.000000</td>\n",
       "      <td>NaN</td>\n",
       "      <td>NaN</td>\n",
       "      <td>4.000000</td>\n",
       "      <td>NaN</td>\n",
       "      <td>NaN</td>\n",
       "      <td>NaN</td>\n",
       "      <td>26.000000</td>\n",
       "      <td>18.000000</td>\n",
       "      <td>1385.000000</td>\n",
       "      <td>2.999500e+04</td>\n",
       "    </tr>\n",
       "    <tr>\n",
       "      <th>75%</th>\n",
       "      <td>NaN</td>\n",
       "      <td>NaN</td>\n",
       "      <td>2016.000000</td>\n",
       "      <td>NaN</td>\n",
       "      <td>300.00000</td>\n",
       "      <td>6.000000</td>\n",
       "      <td>NaN</td>\n",
       "      <td>NaN</td>\n",
       "      <td>4.000000</td>\n",
       "      <td>NaN</td>\n",
       "      <td>NaN</td>\n",
       "      <td>NaN</td>\n",
       "      <td>30.000000</td>\n",
       "      <td>22.000000</td>\n",
       "      <td>2009.000000</td>\n",
       "      <td>4.223125e+04</td>\n",
       "    </tr>\n",
       "    <tr>\n",
       "      <th>max</th>\n",
       "      <td>NaN</td>\n",
       "      <td>NaN</td>\n",
       "      <td>2017.000000</td>\n",
       "      <td>NaN</td>\n",
       "      <td>1001.00000</td>\n",
       "      <td>16.000000</td>\n",
       "      <td>NaN</td>\n",
       "      <td>NaN</td>\n",
       "      <td>4.000000</td>\n",
       "      <td>NaN</td>\n",
       "      <td>NaN</td>\n",
       "      <td>NaN</td>\n",
       "      <td>354.000000</td>\n",
       "      <td>137.000000</td>\n",
       "      <td>5657.000000</td>\n",
       "      <td>2.065902e+06</td>\n",
       "    </tr>\n",
       "  </tbody>\n",
       "</table>\n",
       "</div>"
      ],
      "text/plain": [
       "             Make           Model          Year  Engine Fuel Type  \\\n",
       "count       11914           11914  11914.000000             11911   \n",
       "unique         48             915           NaN                10   \n",
       "top     Chevrolet  Silverado 1500           NaN  regular unleaded   \n",
       "freq         1123             156           NaN              7172   \n",
       "mean          NaN             NaN   2010.384338               NaN   \n",
       "std           NaN             NaN      7.579740               NaN   \n",
       "min           NaN             NaN   1990.000000               NaN   \n",
       "25%           NaN             NaN   2007.000000               NaN   \n",
       "50%           NaN             NaN   2015.000000               NaN   \n",
       "75%           NaN             NaN   2016.000000               NaN   \n",
       "max           NaN             NaN   2017.000000               NaN   \n",
       "\n",
       "          Engine HP  Engine Cylinders Transmission Type      Driven_Wheels  \\\n",
       "count   11845.00000      11884.000000             11914              11914   \n",
       "unique          NaN               NaN                 5                  4   \n",
       "top             NaN               NaN         AUTOMATIC  front wheel drive   \n",
       "freq            NaN               NaN              8266               4787   \n",
       "mean      249.38607          5.628829               NaN                NaN   \n",
       "std       109.19187          1.780559               NaN                NaN   \n",
       "min        55.00000          0.000000               NaN                NaN   \n",
       "25%       170.00000          4.000000               NaN                NaN   \n",
       "50%       227.00000          6.000000               NaN                NaN   \n",
       "75%       300.00000          6.000000               NaN                NaN   \n",
       "max      1001.00000         16.000000               NaN                NaN   \n",
       "\n",
       "        Number of Doors Market Category Vehicle Size Vehicle Style  \\\n",
       "count      11908.000000            8172        11914         11914   \n",
       "unique              NaN              71            3            16   \n",
       "top                 NaN       Crossover      Compact         Sedan   \n",
       "freq                NaN            1110         4764          3048   \n",
       "mean           3.436093             NaN          NaN           NaN   \n",
       "std            0.881315             NaN          NaN           NaN   \n",
       "min            2.000000             NaN          NaN           NaN   \n",
       "25%            2.000000             NaN          NaN           NaN   \n",
       "50%            4.000000             NaN          NaN           NaN   \n",
       "75%            4.000000             NaN          NaN           NaN   \n",
       "max            4.000000             NaN          NaN           NaN   \n",
       "\n",
       "         highway MPG      city mpg    Popularity          MSRP  \n",
       "count   11914.000000  11914.000000  11914.000000  1.191400e+04  \n",
       "unique           NaN           NaN           NaN           NaN  \n",
       "top              NaN           NaN           NaN           NaN  \n",
       "freq             NaN           NaN           NaN           NaN  \n",
       "mean       26.637485     19.733255   1554.911197  4.059474e+04  \n",
       "std         8.863001      8.987798   1441.855347  6.010910e+04  \n",
       "min        12.000000      7.000000      2.000000  2.000000e+03  \n",
       "25%        22.000000     16.000000    549.000000  2.100000e+04  \n",
       "50%        26.000000     18.000000   1385.000000  2.999500e+04  \n",
       "75%        30.000000     22.000000   2009.000000  4.223125e+04  \n",
       "max       354.000000    137.000000   5657.000000  2.065902e+06  "
      ]
     },
     "metadata": {},
     "output_type": "display_data"
    }
   ],
   "source": [
    "df_copy= data.copy()\n",
    "display(df_copy.describe(include='all'))"
   ]
  },
  {
   "cell_type": "markdown",
   "metadata": {},
   "source": [
    "The database contains 11,914 observations and 16 variables"
   ]
  },
  {
   "cell_type": "markdown",
   "metadata": {},
   "source": [
    "Let's start with data cleaning"
   ]
  },
  {
   "cell_type": "code",
   "execution_count": 5,
   "metadata": {},
   "outputs": [
    {
     "data": {
      "text/plain": [
       "715"
      ]
     },
     "execution_count": 5,
     "metadata": {},
     "output_type": "execute_result"
    }
   ],
   "source": [
    "#checking for any duplicates in the data\n",
    "df_copy.duplicated().sum()"
   ]
  },
  {
   "cell_type": "code",
   "execution_count": 6,
   "metadata": {},
   "outputs": [
    {
     "data": {
      "text/plain": [
       "0"
      ]
     },
     "execution_count": 6,
     "metadata": {},
     "output_type": "execute_result"
    }
   ],
   "source": [
    "df_copy.drop_duplicates(keep=False,inplace=True)\n",
    "#removing the duplicates in the data\n",
    "df_copy.duplicated().sum()"
   ]
  },
  {
   "cell_type": "code",
   "execution_count": 7,
   "metadata": {},
   "outputs": [
    {
     "name": "stdout",
     "output_type": "stream",
     "text": [
      "Columns with null values:\n",
      " Make                    0\n",
      "Model                   0\n",
      "Year                    0\n",
      "Engine Fuel Type        3\n",
      "Engine HP              69\n",
      "Engine Cylinders       30\n",
      "Transmission Type       0\n",
      "Driven_Wheels           0\n",
      "Number of Doors         6\n",
      "Market Category      3092\n",
      "Vehicle Size            0\n",
      "Vehicle Style           0\n",
      "highway MPG             0\n",
      "city mpg                0\n",
      "Popularity              0\n",
      "MSRP                    0\n",
      "dtype: int64\n"
     ]
    }
   ],
   "source": [
    "print('Columns with null values:\\n', df_copy.isnull().sum())\n",
    "\n"
   ]
  },
  {
   "cell_type": "markdown",
   "metadata": {},
   "source": [
    "We have a 5 variables with a missing values in data: Engine Fuel Type, Engine HP, Engine Cylinders, Number of Doors, Market Category. \n",
    "We start data cleaning with numerical variables, so first Engine HP.\n"
   ]
  },
  {
   "cell_type": "code",
   "execution_count": 8,
   "metadata": {},
   "outputs": [
    {
     "data": {
      "image/png": "[encoded data removed]",
      "text/plain": [
       "<Figure size 360x360 with 1 Axes>"
      ]
     },
     "metadata": {},
     "output_type": "display_data"
    }
   ],
   "source": [
    "sns.displot(df_copy['Engine HP'], bins=10, color='c', edgecolor='k', alpha=0.65)\n",
    "\n",
    "plt.axvline(df_copy['Engine HP'].mean(), color='k', linestyle='dashed', linewidth=1)\n",
    "plt.axvline(df_copy['Engine HP'].median(), color='r', linestyle='dashed', linewidth=1)\n",
    "\n",
    "plt.show()"
   ]
  },
  {
   "cell_type": "markdown",
   "metadata": {},
   "source": [
    "I think that missing values in Engine HP can fill a median value of all observations.\n"
   ]
  },
  {
   "cell_type": "code",
   "execution_count": 9,
   "metadata": {},
   "outputs": [
    {
     "data": {
      "text/plain": [
       "0"
      ]
     },
     "execution_count": 9,
     "metadata": {},
     "output_type": "execute_result"
    }
   ],
   "source": [
    "df_copy['Engine HP'].fillna(df_copy['Engine HP'].median(),inplace=True)\n",
    "df_copy['Engine HP'].isnull().sum()"
   ]
  },
  {
   "cell_type": "markdown",
   "metadata": {},
   "source": [
    "Next is a Engine Cylinders."
   ]
  },
  {
   "cell_type": "code",
   "execution_count": 10,
   "metadata": {},
   "outputs": [
    {
     "data": {
      "image/png": "[encoded data removed]",
      "text/plain": [
       "<Figure size 360x360 with 1 Axes>"
      ]
     },
     "metadata": {},
     "output_type": "display_data"
    }
   ],
   "source": [
    "sns.displot(df_copy['Engine Cylinders'], bins=10, color='c', edgecolor='k', alpha=0.65)\n",
    "plt.axvline(df_copy['Engine Cylinders'].mean(), color='k', linestyle='dashed', linewidth=1)\n",
    "plt.axvline(df_copy['Engine Cylinders'].median(), color='r', linestyle='dashed', linewidth=1)\n",
    "\n",
    "plt.show()"
   ]
  },
  {
   "cell_type": "code",
   "execution_count": 11,
   "metadata": {},
   "outputs": [
    {
     "data": {
      "text/plain": [
       "6.0     4138\n",
       "4.0     4000\n",
       "8.0     1920\n",
       "12.0     226\n",
       "5.0      117\n",
       "10.0      62\n",
       "0.0       56\n",
       "3.0       30\n",
       "16.0       3\n",
       "Name: Engine Cylinders, dtype: int64"
      ]
     },
     "execution_count": 11,
     "metadata": {},
     "output_type": "execute_result"
    }
   ],
   "source": [
    "df_copy['Engine Cylinders'].value_counts()"
   ]
  },
  {
   "cell_type": "markdown",
   "metadata": {},
   "source": [
    "So, we have a 9 unique value. It's not exactly a continuous variable. In addition we see a doubt, because it is impossible that car have 0 cylinders, so we should correct it. Therefore we put missing values and values 0 to the group with most frequent value(4.0)"
   ]
  },
  {
   "cell_type": "code",
   "execution_count": 12,
   "metadata": {},
   "outputs": [
    {
     "data": {
      "text/plain": [
       "6.0     4138\n",
       "4.0     4086\n",
       "8.0     1920\n",
       "12.0     226\n",
       "5.0      117\n",
       "10.0      62\n",
       "3.0       30\n",
       "16.0       3\n",
       "Name: Engine Cylinders, dtype: int64"
      ]
     },
     "execution_count": 12,
     "metadata": {},
     "output_type": "execute_result"
    }
   ],
   "source": [
    "df_copy['Engine Cylinders'].fillna(4.0,inplace=True)\n",
    "df_copy['Engine Cylinders'].replace(0.0,4.0,inplace=True)\n",
    "df_copy['Engine Cylinders'].value_counts()"
   ]
  },
  {
   "cell_type": "markdown",
   "metadata": {},
   "source": [
    "Last continuous variable with missing values is number of doors. Let's go over this"
   ]
  },
  {
   "cell_type": "code",
   "execution_count": 13,
   "metadata": {
    "scrolled": true
   },
   "outputs": [
    {
     "data": {
      "image/png": "[encoded data removed]",
      "text/plain": [
       "<Figure size 360x360 with 1 Axes>"
      ]
     },
     "metadata": {},
     "output_type": "display_data"
    },
    {
     "data": {
      "text/plain": [
       "4.0    7598\n",
       "2.0    2655\n",
       "3.0     323\n",
       "Name: Number of Doors, dtype: int64"
      ]
     },
     "metadata": {},
     "output_type": "display_data"
    }
   ],
   "source": [
    "sns.displot(df_copy['Number of Doors'])\n",
    "plt.show()\n",
    "display(df_copy['Number of Doors'].value_counts())"
   ]
  },
  {
   "cell_type": "markdown",
   "metadata": {},
   "source": [
    "Okay, let's replace missing values to 4 - most frequent value"
   ]
  },
  {
   "cell_type": "code",
   "execution_count": 14,
   "metadata": {},
   "outputs": [],
   "source": [
    "df_copy['Number of Doors'].fillna(4,inplace=True)"
   ]
  },
  {
   "cell_type": "markdown",
   "metadata": {},
   "source": [
    "Now, I take care about categorical variables with missing values. Start with Engine Fuel Type"
   ]
  },
  {
   "cell_type": "code",
   "execution_count": 15,
   "metadata": {
    "scrolled": true
   },
   "outputs": [
    {
     "data": {
      "text/plain": [
       "regular unleaded                                6234\n",
       "premium unleaded (required)                     1905\n",
       "premium unleaded (recommended)                  1267\n",
       "flex-fuel (unleaded/E85)                         875\n",
       "diesel                                           146\n",
       "electric                                          66\n",
       "flex-fuel (premium unleaded required/E85)         52\n",
       "flex-fuel (premium unleaded recommended/E85)      26\n",
       "flex-fuel (unleaded/natural gas)                   6\n",
       "natural gas                                        2\n",
       "Name: Engine Fuel Type, dtype: int64"
      ]
     },
     "execution_count": 15,
     "metadata": {},
     "output_type": "execute_result"
    }
   ],
   "source": [
    "df_copy['Engine Fuel Type'].value_counts()"
   ]
  },
  {
   "cell_type": "code",
   "execution_count": 16,
   "metadata": {},
   "outputs": [
    {
     "data": {
      "image/png": "[encoded data removed]",
      "text/plain": [
       "<Figure size 504x360 with 1 Axes>"
      ]
     },
     "metadata": {},
     "output_type": "display_data"
    }
   ],
   "source": [
    "sns.boxplot(y='Engine Fuel Type',x='MSRP',data=df_copy)\n",
    "plt.show()"
   ]
  },
  {
   "cell_type": "code",
   "execution_count": 17,
   "metadata": {},
   "outputs": [
    {
     "data": {
      "image/png": "[encoded data removed]",
      "text/plain": [
       "<Figure size 504x360 with 1 Axes>"
      ]
     },
     "metadata": {},
     "output_type": "display_data"
    }
   ],
   "source": [
    "sns.boxplot(data=df_copy[df_copy['MSRP']<np.quantile(df_copy[\"MSRP\"],0.9)],y='Engine Fuel Type',x='MSRP')\n",
    "plt.show()"
   ]
  },
  {
   "cell_type": "markdown",
   "metadata": {},
   "source": [
    "I think it's worth create new group \"other\" for observations \"flex-fuel (premium unleaded recommended/E85)\", \"flex-fuel (unleaded/natural gas)\", \"natural gas\" and for missing values "
   ]
  },
  {
   "cell_type": "code",
   "execution_count": 18,
   "metadata": {},
   "outputs": [
    {
     "data": {
      "text/plain": [
       "regular unleaded                             6234\n",
       "premium unleaded (required)                  1905\n",
       "premium unleaded (recommended)               1267\n",
       "flex-fuel (unleaded/E85)                      875\n",
       "diesel                                        146\n",
       "electric                                       66\n",
       "flex-fuel (premium unleaded required/E85)      52\n",
       "other                                          37\n",
       "Name: Engine Fuel Type, dtype: int64"
      ]
     },
     "execution_count": 18,
     "metadata": {},
     "output_type": "execute_result"
    }
   ],
   "source": [
    "df_copy['Engine Fuel Type'].replace(\"flex-fuel (premium unleaded recommended/E85)\",\"other\",inplace=True)\n",
    "df_copy['Engine Fuel Type'].replace(\"flex-fuel (unleaded/natural gas)\",\"other\",inplace=True)\n",
    "df_copy['Engine Fuel Type'].replace(\"natural gas\",\"other\",inplace=True)\n",
    "df_copy['Engine Fuel Type'].fillna('other',inplace=True)\n",
    "df_copy['Engine Fuel Type'].value_counts()"
   ]
  },
  {
   "cell_type": "markdown",
   "metadata": {},
   "source": [
    "Last variable, which I should cleaninng is a Market Category"
   ]
  },
  {
   "cell_type": "code",
   "execution_count": 19,
   "metadata": {},
   "outputs": [
    {
     "data": {
      "text/plain": [
       "Crossover,Exotic,Luxury,High-Performance                   1\n",
       "Flex Fuel,Factory Tuner,Luxury,High-Performance            1\n",
       "Exotic,Luxury,High-Performance,Hybrid                      1\n",
       "Crossover,Exotic,Luxury,Performance                        1\n",
       "Performance,Hybrid                                         1\n",
       "Flex Fuel,Hybrid                                           2\n",
       "Flex Fuel,Performance,Hybrid                               2\n",
       "Crossover,Luxury,Performance,Hybrid                        2\n",
       "Factory Tuner,Luxury                                       2\n",
       "Hatchback,Luxury,Hybrid                                    3\n",
       "Exotic,Factory Tuner,Luxury,Performance                    3\n",
       "Crossover,Factory Tuner,Performance                        4\n",
       "Crossover,Factory Tuner,Luxury,Performance                 5\n",
       "Crossover,Hatchback,Factory Tuner,Performance              6\n",
       "Crossover,Flex Fuel,Luxury,Performance                     6\n",
       "Crossover,Hatchback,Performance                            6\n",
       "Crossover,Flex Fuel,Performance                            6\n",
       "Hatchback,Flex Fuel                                        7\n",
       "Crossover,Diesel                                           7\n",
       "Crossover,Hatchback,Luxury                                 7\n",
       "Hatchback,Factory Tuner,Luxury,Performance                 9\n",
       "Crossover,Luxury,High-Performance                          9\n",
       "Exotic,Performance                                        10\n",
       "Crossover,Flex Fuel,Luxury                                10\n",
       "Exotic,Flex Fuel,Luxury,High-Performance                  11\n",
       "Luxury,Performance,Hybrid                                 11\n",
       "Luxury,High-Performance,Hybrid                            12\n",
       "Exotic,Luxury                                             12\n",
       "Hatchback,Factory Tuner,High-Performance                  13\n",
       "Exotic,Flex Fuel,Factory Tuner,Luxury,High-Performance    13\n",
       "Name: Market Category, dtype: int64"
      ]
     },
     "metadata": {},
     "output_type": "display_data"
    },
    {
     "data": {
      "text/plain": [
       "Crossover                                       1040\n",
       "Flex Fuel                                        838\n",
       "Luxury                                           785\n",
       "Luxury,Performance                               645\n",
       "Hatchback                                        513\n",
       "Performance                                      445\n",
       "Crossover,Luxury                                 404\n",
       "Luxury,High-Performance                          334\n",
       "Exotic,High-Performance                          247\n",
       "Factory Tuner,Luxury,High-Performance            215\n",
       "High-Performance                                 197\n",
       "Hatchback,Performance                            144\n",
       "Hybrid                                           119\n",
       "Crossover,Luxury,Performance                     111\n",
       "Factory Tuner,High-Performance                   102\n",
       "Flex Fuel,Performance                             87\n",
       "Diesel                                            84\n",
       "Factory Tuner,Performance                         76\n",
       "Exotic,Luxury,High-Performance                    75\n",
       "Crossover,Hatchback                               72\n",
       "Crossover,Performance                             69\n",
       "Crossover,Flex Fuel                               64\n",
       "Hatchback,Hybrid                                  56\n",
       "Luxury,Hybrid                                     52\n",
       "Exotic,Factory Tuner,Luxury,High-Performance      50\n",
       "Hatchback,Luxury                                  44\n",
       "Diesel,Luxury                                     43\n",
       "Crossover,Hybrid                                  42\n",
       "Flex Fuel,Luxury                                  39\n",
       "Exotic,Luxury,Performance                         36\n",
       "Name: Market Category, dtype: int64"
      ]
     },
     "metadata": {},
     "output_type": "display_data"
    }
   ],
   "source": [
    "display(df_copy['Market Category'].value_counts(ascending=True).head(30))\n",
    "display(df_copy['Market Category'].value_counts(ascending=False).head(30))"
   ]
  },
  {
   "cell_type": "markdown",
   "metadata": {},
   "source": [
    "As you can see this variable has many categories, many of which are single observations and it would be useful to group them. I suggest to group the observations by the first word in the category description, because I think it is the main key in the category, by which you can find the car"
   ]
  },
  {
   "cell_type": "code",
   "execution_count": 20,
   "metadata": {},
   "outputs": [
    {
     "data": {
      "text/plain": [
       "Crossover           1956\n",
       "Luxury              1839\n",
       "Flex Fuel           1044\n",
       "Hatchback            857\n",
       "Exotic               479\n",
       "Performance          446\n",
       "Factory Tuner        426\n",
       "High-Performance     197\n",
       "Diesel               127\n",
       "Hybrid               119\n",
       "Name: Market Category, dtype: int64"
      ]
     },
     "metadata": {},
     "output_type": "display_data"
    }
   ],
   "source": [
    "df_copy['Market Category']=df_copy['Market Category'].str.split(\",\").str.get(0)\n",
    "display(df_copy['Market Category'].value_counts())"
   ]
  },
  {
   "cell_type": "markdown",
   "metadata": {},
   "source": [
    "In addition we have 3092 missing value, which we replace \"Other\" group."
   ]
  },
  {
   "cell_type": "code",
   "execution_count": 21,
   "metadata": {},
   "outputs": [
    {
     "data": {
      "text/plain": [
       "Other               3092\n",
       "Crossover           1956\n",
       "Luxury              1839\n",
       "Flex Fuel           1044\n",
       "Hatchback            857\n",
       "Exotic               479\n",
       "Performance          446\n",
       "Factory Tuner        426\n",
       "High-Performance     197\n",
       "Diesel               127\n",
       "Hybrid               119\n",
       "Name: Market Category, dtype: int64"
      ]
     },
     "metadata": {},
     "output_type": "display_data"
    }
   ],
   "source": [
    "df_copy['Market Category'].fillna('Other',inplace=True)\n",
    "display(df_copy['Market Category'].value_counts())"
   ]
  },
  {
   "cell_type": "code",
   "execution_count": 22,
   "metadata": {},
   "outputs": [
    {
     "data": {
      "text/plain": [
       "Make                 0\n",
       "Model                0\n",
       "Year                 0\n",
       "Engine Fuel Type     0\n",
       "Engine HP            0\n",
       "Engine Cylinders     0\n",
       "Transmission Type    0\n",
       "Driven_Wheels        0\n",
       "Number of Doors      0\n",
       "Market Category      0\n",
       "Vehicle Size         0\n",
       "Vehicle Style        0\n",
       "highway MPG          0\n",
       "city mpg             0\n",
       "Popularity           0\n",
       "MSRP                 0\n",
       "dtype: int64"
      ]
     },
     "execution_count": 22,
     "metadata": {},
     "output_type": "execute_result"
    }
   ],
   "source": [
    "#Checking whether all missing values were managed\n",
    "df_copy.isnull().sum()"
   ]
  },
  {
   "cell_type": "code",
   "execution_count": 23,
   "metadata": {},
   "outputs": [
    {
     "data": {
      "text/html": [
       "<div>\n",
       "<style scoped>\n",
       "    .dataframe tbody tr th:only-of-type {\n",
       "        vertical-align: middle;\n",
       "    }\n",
       "\n",
       "    .dataframe tbody tr th {\n",
       "        vertical-align: top;\n",
       "    }\n",
       "\n",
       "    .dataframe thead th {\n",
       "        text-align: right;\n",
       "    }\n",
       "</style>\n",
       "<table border=\"1\" class=\"dataframe\">\n",
       "  <thead>\n",
       "    <tr style=\"text-align: right;\">\n",
       "      <th></th>\n",
       "      <th>Make</th>\n",
       "      <th>Model</th>\n",
       "      <th>Year</th>\n",
       "      <th>Engine Fuel Type</th>\n",
       "      <th>Engine HP</th>\n",
       "      <th>Engine Cylinders</th>\n",
       "      <th>Transmission Type</th>\n",
       "      <th>Driven_Wheels</th>\n",
       "      <th>Number of Doors</th>\n",
       "      <th>Market Category</th>\n",
       "      <th>Vehicle Size</th>\n",
       "      <th>Vehicle Style</th>\n",
       "      <th>highway MPG</th>\n",
       "      <th>city mpg</th>\n",
       "      <th>Popularity</th>\n",
       "      <th>MSRP</th>\n",
       "    </tr>\n",
       "  </thead>\n",
       "  <tbody>\n",
       "    <tr>\n",
       "      <th>count</th>\n",
       "      <td>10582</td>\n",
       "      <td>10582</td>\n",
       "      <td>10582.000000</td>\n",
       "      <td>10582</td>\n",
       "      <td>10582.000000</td>\n",
       "      <td>10582.000000</td>\n",
       "      <td>10582</td>\n",
       "      <td>10582</td>\n",
       "      <td>10582.000000</td>\n",
       "      <td>10582</td>\n",
       "      <td>10582</td>\n",
       "      <td>10582</td>\n",
       "      <td>10582.000000</td>\n",
       "      <td>10582.000000</td>\n",
       "      <td>10582.000000</td>\n",
       "      <td>1.058200e+04</td>\n",
       "    </tr>\n",
       "    <tr>\n",
       "      <th>unique</th>\n",
       "      <td>48</td>\n",
       "      <td>897</td>\n",
       "      <td>NaN</td>\n",
       "      <td>8</td>\n",
       "      <td>NaN</td>\n",
       "      <td>NaN</td>\n",
       "      <td>5</td>\n",
       "      <td>4</td>\n",
       "      <td>NaN</td>\n",
       "      <td>11</td>\n",
       "      <td>3</td>\n",
       "      <td>16</td>\n",
       "      <td>NaN</td>\n",
       "      <td>NaN</td>\n",
       "      <td>NaN</td>\n",
       "      <td>NaN</td>\n",
       "    </tr>\n",
       "    <tr>\n",
       "      <th>top</th>\n",
       "      <td>Chevrolet</td>\n",
       "      <td>Silverado 1500</td>\n",
       "      <td>NaN</td>\n",
       "      <td>regular unleaded</td>\n",
       "      <td>NaN</td>\n",
       "      <td>NaN</td>\n",
       "      <td>AUTOMATIC</td>\n",
       "      <td>front wheel drive</td>\n",
       "      <td>NaN</td>\n",
       "      <td>Other</td>\n",
       "      <td>Compact</td>\n",
       "      <td>Sedan</td>\n",
       "      <td>NaN</td>\n",
       "      <td>NaN</td>\n",
       "      <td>NaN</td>\n",
       "      <td>NaN</td>\n",
       "    </tr>\n",
       "    <tr>\n",
       "      <th>freq</th>\n",
       "      <td>1051</td>\n",
       "      <td>156</td>\n",
       "      <td>NaN</td>\n",
       "      <td>6234</td>\n",
       "      <td>NaN</td>\n",
       "      <td>NaN</td>\n",
       "      <td>7624</td>\n",
       "      <td>3946</td>\n",
       "      <td>NaN</td>\n",
       "      <td>3092</td>\n",
       "      <td>4063</td>\n",
       "      <td>2657</td>\n",
       "      <td>NaN</td>\n",
       "      <td>NaN</td>\n",
       "      <td>NaN</td>\n",
       "      <td>NaN</td>\n",
       "    </tr>\n",
       "    <tr>\n",
       "      <th>mean</th>\n",
       "      <td>NaN</td>\n",
       "      <td>NaN</td>\n",
       "      <td>2010.942544</td>\n",
       "      <td>NaN</td>\n",
       "      <td>256.940465</td>\n",
       "      <td>5.725477</td>\n",
       "      <td>NaN</td>\n",
       "      <td>NaN</td>\n",
       "      <td>3.467681</td>\n",
       "      <td>NaN</td>\n",
       "      <td>NaN</td>\n",
       "      <td>NaN</td>\n",
       "      <td>26.533737</td>\n",
       "      <td>19.695143</td>\n",
       "      <td>1564.109998</td>\n",
       "      <td>4.309634e+04</td>\n",
       "    </tr>\n",
       "    <tr>\n",
       "      <th>std</th>\n",
       "      <td>NaN</td>\n",
       "      <td>NaN</td>\n",
       "      <td>6.968729</td>\n",
       "      <td>NaN</td>\n",
       "      <td>110.628275</td>\n",
       "      <td>1.767122</td>\n",
       "      <td>NaN</td>\n",
       "      <td>NaN</td>\n",
       "      <td>0.866500</td>\n",
       "      <td>NaN</td>\n",
       "      <td>NaN</td>\n",
       "      <td>NaN</td>\n",
       "      <td>9.093646</td>\n",
       "      <td>9.359977</td>\n",
       "      <td>1450.877905</td>\n",
       "      <td>6.289803e+04</td>\n",
       "    </tr>\n",
       "    <tr>\n",
       "      <th>min</th>\n",
       "      <td>NaN</td>\n",
       "      <td>NaN</td>\n",
       "      <td>1990.000000</td>\n",
       "      <td>NaN</td>\n",
       "      <td>55.000000</td>\n",
       "      <td>3.000000</td>\n",
       "      <td>NaN</td>\n",
       "      <td>NaN</td>\n",
       "      <td>2.000000</td>\n",
       "      <td>NaN</td>\n",
       "      <td>NaN</td>\n",
       "      <td>NaN</td>\n",
       "      <td>12.000000</td>\n",
       "      <td>7.000000</td>\n",
       "      <td>2.000000</td>\n",
       "      <td>2.000000e+03</td>\n",
       "    </tr>\n",
       "    <tr>\n",
       "      <th>25%</th>\n",
       "      <td>NaN</td>\n",
       "      <td>NaN</td>\n",
       "      <td>2007.000000</td>\n",
       "      <td>NaN</td>\n",
       "      <td>175.000000</td>\n",
       "      <td>4.000000</td>\n",
       "      <td>NaN</td>\n",
       "      <td>NaN</td>\n",
       "      <td>2.000000</td>\n",
       "      <td>NaN</td>\n",
       "      <td>NaN</td>\n",
       "      <td>NaN</td>\n",
       "      <td>22.000000</td>\n",
       "      <td>15.000000</td>\n",
       "      <td>549.000000</td>\n",
       "      <td>2.199500e+04</td>\n",
       "    </tr>\n",
       "    <tr>\n",
       "      <th>50%</th>\n",
       "      <td>NaN</td>\n",
       "      <td>NaN</td>\n",
       "      <td>2015.000000</td>\n",
       "      <td>NaN</td>\n",
       "      <td>240.000000</td>\n",
       "      <td>6.000000</td>\n",
       "      <td>NaN</td>\n",
       "      <td>NaN</td>\n",
       "      <td>4.000000</td>\n",
       "      <td>NaN</td>\n",
       "      <td>NaN</td>\n",
       "      <td>NaN</td>\n",
       "      <td>25.000000</td>\n",
       "      <td>18.000000</td>\n",
       "      <td>1385.000000</td>\n",
       "      <td>3.130000e+04</td>\n",
       "    </tr>\n",
       "    <tr>\n",
       "      <th>75%</th>\n",
       "      <td>NaN</td>\n",
       "      <td>NaN</td>\n",
       "      <td>2016.000000</td>\n",
       "      <td>NaN</td>\n",
       "      <td>305.000000</td>\n",
       "      <td>6.000000</td>\n",
       "      <td>NaN</td>\n",
       "      <td>NaN</td>\n",
       "      <td>4.000000</td>\n",
       "      <td>NaN</td>\n",
       "      <td>NaN</td>\n",
       "      <td>NaN</td>\n",
       "      <td>30.000000</td>\n",
       "      <td>22.000000</td>\n",
       "      <td>2009.000000</td>\n",
       "      <td>4.380000e+04</td>\n",
       "    </tr>\n",
       "    <tr>\n",
       "      <th>max</th>\n",
       "      <td>NaN</td>\n",
       "      <td>NaN</td>\n",
       "      <td>2017.000000</td>\n",
       "      <td>NaN</td>\n",
       "      <td>1001.000000</td>\n",
       "      <td>16.000000</td>\n",
       "      <td>NaN</td>\n",
       "      <td>NaN</td>\n",
       "      <td>4.000000</td>\n",
       "      <td>NaN</td>\n",
       "      <td>NaN</td>\n",
       "      <td>NaN</td>\n",
       "      <td>354.000000</td>\n",
       "      <td>137.000000</td>\n",
       "      <td>5657.000000</td>\n",
       "      <td>2.065902e+06</td>\n",
       "    </tr>\n",
       "  </tbody>\n",
       "</table>\n",
       "</div>"
      ],
      "text/plain": [
       "             Make           Model          Year  Engine Fuel Type  \\\n",
       "count       10582           10582  10582.000000             10582   \n",
       "unique         48             897           NaN                 8   \n",
       "top     Chevrolet  Silverado 1500           NaN  regular unleaded   \n",
       "freq         1051             156           NaN              6234   \n",
       "mean          NaN             NaN   2010.942544               NaN   \n",
       "std           NaN             NaN      6.968729               NaN   \n",
       "min           NaN             NaN   1990.000000               NaN   \n",
       "25%           NaN             NaN   2007.000000               NaN   \n",
       "50%           NaN             NaN   2015.000000               NaN   \n",
       "75%           NaN             NaN   2016.000000               NaN   \n",
       "max           NaN             NaN   2017.000000               NaN   \n",
       "\n",
       "           Engine HP  Engine Cylinders Transmission Type      Driven_Wheels  \\\n",
       "count   10582.000000      10582.000000             10582              10582   \n",
       "unique           NaN               NaN                 5                  4   \n",
       "top              NaN               NaN         AUTOMATIC  front wheel drive   \n",
       "freq             NaN               NaN              7624               3946   \n",
       "mean      256.940465          5.725477               NaN                NaN   \n",
       "std       110.628275          1.767122               NaN                NaN   \n",
       "min        55.000000          3.000000               NaN                NaN   \n",
       "25%       175.000000          4.000000               NaN                NaN   \n",
       "50%       240.000000          6.000000               NaN                NaN   \n",
       "75%       305.000000          6.000000               NaN                NaN   \n",
       "max      1001.000000         16.000000               NaN                NaN   \n",
       "\n",
       "        Number of Doors Market Category Vehicle Size Vehicle Style  \\\n",
       "count      10582.000000           10582        10582         10582   \n",
       "unique              NaN              11            3            16   \n",
       "top                 NaN           Other      Compact         Sedan   \n",
       "freq                NaN            3092         4063          2657   \n",
       "mean           3.467681             NaN          NaN           NaN   \n",
       "std            0.866500             NaN          NaN           NaN   \n",
       "min            2.000000             NaN          NaN           NaN   \n",
       "25%            2.000000             NaN          NaN           NaN   \n",
       "50%            4.000000             NaN          NaN           NaN   \n",
       "75%            4.000000             NaN          NaN           NaN   \n",
       "max            4.000000             NaN          NaN           NaN   \n",
       "\n",
       "         highway MPG      city mpg    Popularity          MSRP  \n",
       "count   10582.000000  10582.000000  10582.000000  1.058200e+04  \n",
       "unique           NaN           NaN           NaN           NaN  \n",
       "top              NaN           NaN           NaN           NaN  \n",
       "freq             NaN           NaN           NaN           NaN  \n",
       "mean       26.533737     19.695143   1564.109998  4.309634e+04  \n",
       "std         9.093646      9.359977   1450.877905  6.289803e+04  \n",
       "min        12.000000      7.000000      2.000000  2.000000e+03  \n",
       "25%        22.000000     15.000000    549.000000  2.199500e+04  \n",
       "50%        25.000000     18.000000   1385.000000  3.130000e+04  \n",
       "75%        30.000000     22.000000   2009.000000  4.380000e+04  \n",
       "max       354.000000    137.000000   5657.000000  2.065902e+06  "
      ]
     },
     "metadata": {},
     "output_type": "display_data"
    },
    {
     "name": "stdout",
     "output_type": "stream",
     "text": [
      "<class 'pandas.core.frame.DataFrame'>\n",
      "Int64Index: 10582 entries, 0 to 11913\n",
      "Data columns (total 16 columns):\n",
      " #   Column             Non-Null Count  Dtype  \n",
      "---  ------             --------------  -----  \n",
      " 0   Make               10582 non-null  object \n",
      " 1   Model              10582 non-null  object \n",
      " 2   Year               10582 non-null  int64  \n",
      " 3   Engine Fuel Type   10582 non-null  object \n",
      " 4   Engine HP          10582 non-null  float64\n",
      " 5   Engine Cylinders   10582 non-null  float64\n",
      " 6   Transmission Type  10582 non-null  object \n",
      " 7   Driven_Wheels      10582 non-null  object \n",
      " 8   Number of Doors    10582 non-null  float64\n",
      " 9   Market Category    10582 non-null  object \n",
      " 10  Vehicle Size       10582 non-null  object \n",
      " 11  Vehicle Style      10582 non-null  object \n",
      " 12  highway MPG        10582 non-null  int64  \n",
      " 13  city mpg           10582 non-null  int64  \n",
      " 14  Popularity         10582 non-null  int64  \n",
      " 15  MSRP               10582 non-null  int64  \n",
      "dtypes: float64(3), int64(5), object(8)\n",
      "memory usage: 1.7+ MB\n"
     ]
    },
    {
     "data": {
      "text/plain": [
       "None"
      ]
     },
     "metadata": {},
     "output_type": "display_data"
    }
   ],
   "source": [
    "display(df_copy.describe(include='all'))\n",
    "display(df_copy.info())"
   ]
  },
  {
   "cell_type": "markdown",
   "metadata": {},
   "source": [
    "The last variable worth looking at more closely is the target variable."
   ]
  },
  {
   "cell_type": "code",
   "execution_count": 24,
   "metadata": {},
   "outputs": [
    {
     "data": {
      "text/plain": [
       "count    1.058200e+04\n",
       "mean     4.309634e+04\n",
       "std      6.289803e+04\n",
       "min      2.000000e+03\n",
       "25%      2.199500e+04\n",
       "50%      3.130000e+04\n",
       "75%      4.380000e+04\n",
       "max      2.065902e+06\n",
       "Name: MSRP, dtype: float64"
      ]
     },
     "metadata": {},
     "output_type": "display_data"
    },
    {
     "data": {
      "text/plain": [
       "MSRP   \n",
       "1500000    2\n",
       "548800     2\n",
       "2065902    1\n",
       "1705769    1\n",
       "1382750    1\n",
       "1380000    1\n",
       "643330     1\n",
       "535500     1\n",
       "506500     1\n",
       "dtype: int64"
      ]
     },
     "metadata": {},
     "output_type": "display_data"
    },
    {
     "data": {
      "image/png": "[encoded data removed]",
      "text/plain": [
       "<Figure size 504x360 with 2 Axes>"
      ]
     },
     "metadata": {},
     "output_type": "display_data"
    }
   ],
   "source": [
    "#Check main statistics \n",
    "display(df_copy['MSRP'].describe())\n",
    "display(df_copy[df_copy['MSRP']>500000][['MSRP']].value_counts())\n",
    "#Create a boxplot for Price in each dataframe with and without car at price above 500000 \n",
    "fig,axs=plt.subplots(2,1)\n",
    "sns.boxplot(x='MSRP',data=df_copy,ax=axs[0])\n",
    "sns.boxplot(x='MSRP',data=df_copy[df_copy['MSRP']<500000],ax=axs[1])\n",
    "axs[0].set(title='Boxplot of car prices with all data')\n",
    "axs[0].xaxis.label.set_visible(False)\n",
    "axs[1].set(title='Boxplot of car prices without car at price above 500000 ',xlabel='Price')\n",
    "plt.tight_layout(pad=1.15)\n",
    "plt.show()"
   ]
  },
  {
   "cell_type": "markdown",
   "metadata": {},
   "source": [
    "You can see that there are middle class and high class cars in the base. I think there should be a separation between the middle class segment and the upscale cars, which are outlier observations in this base. These cases should be considered separately, and I believe that for the purposes of this study they should not be taken into account, so I remove them from the database."
   ]
  },
  {
   "cell_type": "code",
   "execution_count": 25,
   "metadata": {},
   "outputs": [
    {
     "name": "stdout",
     "output_type": "stream",
     "text": [
      "<class 'pandas.core.frame.DataFrame'>\n",
      "Int64Index: 10571 entries, 0 to 11913\n",
      "Data columns (total 16 columns):\n",
      " #   Column             Non-Null Count  Dtype  \n",
      "---  ------             --------------  -----  \n",
      " 0   Make               10571 non-null  object \n",
      " 1   Model              10571 non-null  object \n",
      " 2   Year               10571 non-null  int64  \n",
      " 3   Engine Fuel Type   10571 non-null  object \n",
      " 4   Engine HP          10571 non-null  float64\n",
      " 5   Engine Cylinders   10571 non-null  float64\n",
      " 6   Transmission Type  10571 non-null  object \n",
      " 7   Driven_Wheels      10571 non-null  object \n",
      " 8   Number of Doors    10571 non-null  float64\n",
      " 9   Market Category    10571 non-null  object \n",
      " 10  Vehicle Size       10571 non-null  object \n",
      " 11  Vehicle Style      10571 non-null  object \n",
      " 12  highway MPG        10571 non-null  int64  \n",
      " 13  city mpg           10571 non-null  int64  \n",
      " 14  Popularity         10571 non-null  int64  \n",
      " 15  MSRP               10571 non-null  int64  \n",
      "dtypes: float64(3), int64(5), object(8)\n",
      "memory usage: 1.4+ MB\n"
     ]
    }
   ],
   "source": [
    "df_copy.drop(df_copy[df_copy['MSRP'] >= 500000].index,inplace=True)\n",
    "df_copy.info()"
   ]
  },
  {
   "cell_type": "markdown",
   "metadata": {},
   "source": [
    "We will recode the categorical variables into binary variables before splitting the set into training and test sets. This will be used later in the modeling process"
   ]
  },
  {
   "cell_type": "code",
   "execution_count": 26,
   "metadata": {},
   "outputs": [
    {
     "name": "stdout",
     "output_type": "stream",
     "text": [
      "<class 'pandas.core.frame.DataFrame'>\n",
      "Int64Index: 10571 entries, 0 to 11913\n",
      "Data columns (total 57 columns):\n",
      " #   Column                                                      Non-Null Count  Dtype  \n",
      "---  ------                                                      --------------  -----  \n",
      " 0   Make                                                        10571 non-null  object \n",
      " 1   Model                                                       10571 non-null  object \n",
      " 2   Year                                                        10571 non-null  int64  \n",
      " 3   Engine Fuel Type                                            10571 non-null  object \n",
      " 4   Engine HP                                                   10571 non-null  float64\n",
      " 5   Engine Cylinders                                            10571 non-null  float64\n",
      " 6   Transmission Type                                           10571 non-null  object \n",
      " 7   Driven_Wheels                                               10571 non-null  object \n",
      " 8   Number of Doors                                             10571 non-null  float64\n",
      " 9   Market Category                                             10571 non-null  object \n",
      " 10  Vehicle Size                                                10571 non-null  object \n",
      " 11  Vehicle Style                                               10571 non-null  object \n",
      " 12  highway MPG                                                 10571 non-null  int64  \n",
      " 13  city mpg                                                    10571 non-null  int64  \n",
      " 14  Popularity                                                  10571 non-null  int64  \n",
      " 15  MSRP                                                        10571 non-null  int64  \n",
      " 16  Engine Fuel Type_electric                                   10571 non-null  uint8  \n",
      " 17  Engine Fuel Type_flex-fuel (premium unleaded required/E85)  10571 non-null  uint8  \n",
      " 18  Engine Fuel Type_flex-fuel (unleaded/E85)                   10571 non-null  uint8  \n",
      " 19  Engine Fuel Type_other                                      10571 non-null  uint8  \n",
      " 20  Engine Fuel Type_premium unleaded (recommended)             10571 non-null  uint8  \n",
      " 21  Engine Fuel Type_premium unleaded (required)                10571 non-null  uint8  \n",
      " 22  Engine Fuel Type_regular unleaded                           10571 non-null  uint8  \n",
      " 23  Transmission Type_AUTOMATIC                                 10571 non-null  uint8  \n",
      " 24  Transmission Type_DIRECT_DRIVE                              10571 non-null  uint8  \n",
      " 25  Transmission Type_MANUAL                                    10571 non-null  uint8  \n",
      " 26  Transmission Type_UNKNOWN                                   10571 non-null  uint8  \n",
      " 27  Driven_Wheels_four wheel drive                              10571 non-null  uint8  \n",
      " 28  Driven_Wheels_front wheel drive                             10571 non-null  uint8  \n",
      " 29  Driven_Wheels_rear wheel drive                              10571 non-null  uint8  \n",
      " 30  Market Category_Diesel                                      10571 non-null  uint8  \n",
      " 31  Market Category_Exotic                                      10571 non-null  uint8  \n",
      " 32  Market Category_Factory Tuner                               10571 non-null  uint8  \n",
      " 33  Market Category_Flex Fuel                                   10571 non-null  uint8  \n",
      " 34  Market Category_Hatchback                                   10571 non-null  uint8  \n",
      " 35  Market Category_High-Performance                            10571 non-null  uint8  \n",
      " 36  Market Category_Hybrid                                      10571 non-null  uint8  \n",
      " 37  Market Category_Luxury                                      10571 non-null  uint8  \n",
      " 38  Market Category_Other                                       10571 non-null  uint8  \n",
      " 39  Market Category_Performance                                 10571 non-null  uint8  \n",
      " 40  Vehicle Size_Large                                          10571 non-null  uint8  \n",
      " 41  Vehicle Size_Midsize                                        10571 non-null  uint8  \n",
      " 42  Vehicle Style_2dr SUV                                       10571 non-null  uint8  \n",
      " 43  Vehicle Style_4dr Hatchback                                 10571 non-null  uint8  \n",
      " 44  Vehicle Style_4dr SUV                                       10571 non-null  uint8  \n",
      " 45  Vehicle Style_Cargo Minivan                                 10571 non-null  uint8  \n",
      " 46  Vehicle Style_Cargo Van                                     10571 non-null  uint8  \n",
      " 47  Vehicle Style_Convertible                                   10571 non-null  uint8  \n",
      " 48  Vehicle Style_Convertible SUV                               10571 non-null  uint8  \n",
      " 49  Vehicle Style_Coupe                                         10571 non-null  uint8  \n",
      " 50  Vehicle Style_Crew Cab Pickup                               10571 non-null  uint8  \n",
      " 51  Vehicle Style_Extended Cab Pickup                           10571 non-null  uint8  \n",
      " 52  Vehicle Style_Passenger Minivan                             10571 non-null  uint8  \n",
      " 53  Vehicle Style_Passenger Van                                 10571 non-null  uint8  \n",
      " 54  Vehicle Style_Regular Cab Pickup                            10571 non-null  uint8  \n",
      " 55  Vehicle Style_Sedan                                         10571 non-null  uint8  \n",
      " 56  Vehicle Style_Wagon                                         10571 non-null  uint8  \n",
      "dtypes: float64(3), int64(5), object(8), uint8(41)\n",
      "memory usage: 1.8+ MB\n"
     ]
    },
    {
     "data": {
      "text/plain": [
       "None"
      ]
     },
     "metadata": {},
     "output_type": "display_data"
    }
   ],
   "source": [
    "#Divide features into target, categorical, numerical\n",
    "target=['MSRP']\n",
    "cat_features=df_copy.select_dtypes(include='object').columns.values.tolist()\n",
    "cat_features.remove('Make')\n",
    "cat_features.remove('Model')\n",
    "num_features=df_copy.select_dtypes(exclude='object').columns.values.tolist()\n",
    "num_features.remove('MSRP')\n",
    "\n",
    "# One hot encoding\n",
    "dummLev = pd.get_dummies(df_copy[cat_features], drop_first=True)\n",
    "\n",
    "# Combination of numeric, categorical on hot encoding and target variables\n",
    "df_new = pd.concat([df_copy, dummLev], axis=1)\n",
    "display(df_new.info())"
   ]
  },
  {
   "cell_type": "markdown",
   "metadata": {},
   "source": [
    "## 4.Exploratory and Data analysis"
   ]
  },
  {
   "cell_type": "markdown",
   "metadata": {},
   "source": [
    "Before we move on to exploratory analysis, it is useful to separate some of the data that will be used for final validation at the end from our collection. The set will not be used in subsequent stages of the project and will constitute a test set"
   ]
  },
  {
   "cell_type": "code",
   "execution_count": 27,
   "metadata": {},
   "outputs": [],
   "source": [
    "#Divide dataset to train and test and save them\n",
    "train_set, test_set = train_test_split(df_new,test_size=0.2,random_state=42)\n",
    "train_set.to_csv(path+'\\\\data\\\\train_set.csv')\n",
    "test_set.to_csv(path+'\\\\data\\\\test_set.csv')"
   ]
  },
  {
   "cell_type": "markdown",
   "metadata": {},
   "source": [
    "#### 4.1 Car prirce"
   ]
  },
  {
   "cell_type": "markdown",
   "metadata": {},
   "source": [
    "Let's start by looking at the distribution of car prices in this database"
   ]
  },
  {
   "cell_type": "code",
   "execution_count": 28,
   "metadata": {},
   "outputs": [
    {
     "data": {
      "image/png": "[encoded data removed]",
      "text/plain": [
       "<Figure size 504x360 with 2 Axes>"
      ]
     },
     "metadata": {},
     "output_type": "display_data"
    },
    {
     "name": "stdout",
     "output_type": "stream",
     "text": [
      "Array of the 5% of the most expensive car brands:\n"
     ]
    },
    {
     "data": {
      "text/plain": [
       "Make         \n",
       "Aston Martin     68\n",
       "Bentley          64\n",
       "Ferrari          56\n",
       "Mercedes-Benz    44\n",
       "Lamborghini      39\n",
       "Porsche          34\n",
       "Rolls-Royce      28\n",
       "Audi             23\n",
       "Maserati         17\n",
       "BMW              15\n",
       "Land Rover       12\n",
       "Maybach          11\n",
       "McLaren           4\n",
       "Lexus             3\n",
       "Nissan            2\n",
       "Tesla             1\n",
       "Dodge             1\n",
       "Ford              1\n",
       "Acura             1\n",
       "dtype: int64"
      ]
     },
     "metadata": {},
     "output_type": "display_data"
    }
   ],
   "source": [
    "fig, axs = plt.subplots(2, 1)\n",
    "#Two histplots for two price range \n",
    "sns.histplot(data=train_set[train_set['MSRP']<np.quantile(train_set[\"MSRP\"],0.95)],x='MSRP',kde=True,ax=axs[0])\n",
    "sns.histplot(data=train_set[train_set['MSRP']>=np.quantile(train_set[\"MSRP\"],0.95)],x='MSRP',kde=True,ax=axs[1])\n",
    "axs[0].set(title=\"Distribution of car prices below the 95th percentile\")\n",
    "axs[0].xaxis.label.set_visible(False)\n",
    "axs[1].set(title=\"Price distribution of the 5% most expensive cars\",xlabel='Price')\n",
    "plt.tight_layout(pad=1.15)\n",
    "plt.show()\n",
    "print('Array of the 5% of the most expensive car brands:')\n",
    "display(train_set[train_set['MSRP']>=np.quantile(train_set[\"MSRP\"],0.95)][['Make']].value_counts())"
   ]
  },
  {
   "cell_type": "markdown",
   "metadata": {},
   "source": [
    "I had to determine two distributions to better present the price ranges the cars fall into. Also, I presented the 5% most expensive car brands in our database. \n",
    "These are, for example, the cars of Aston Martin, Bentley, Ferrari, Mercedes Benz, or Lamborghini. It's also worth looking at those cars priced under 10000, as they stand out in this distribution"
   ]
  },
  {
   "cell_type": "code",
   "execution_count": 29,
   "metadata": {
    "scrolled": true
   },
   "outputs": [
    {
     "data": {
      "image/png": "[encoded data removed]",
      "text/plain": [
       "<Figure size 504x360 with 1 Axes>"
      ]
     },
     "metadata": {},
     "output_type": "display_data"
    }
   ],
   "source": [
    "sns.histplot(data=train_set[train_set['MSRP']<=10000],x='MSRP',kde=True)\n",
    "plt.show()"
   ]
  },
  {
   "cell_type": "code",
   "execution_count": 30,
   "metadata": {
    "scrolled": true
   },
   "outputs": [
    {
     "data": {
      "text/html": [
       "<div>\n",
       "<style scoped>\n",
       "    .dataframe tbody tr th:only-of-type {\n",
       "        vertical-align: middle;\n",
       "    }\n",
       "\n",
       "    .dataframe tbody tr th {\n",
       "        vertical-align: top;\n",
       "    }\n",
       "\n",
       "    .dataframe thead th {\n",
       "        text-align: right;\n",
       "    }\n",
       "</style>\n",
       "<table border=\"1\" class=\"dataframe\">\n",
       "  <thead>\n",
       "    <tr style=\"text-align: right;\">\n",
       "      <th></th>\n",
       "      <th>Year</th>\n",
       "      <th>Engine HP</th>\n",
       "      <th>Engine Cylinders</th>\n",
       "      <th>Number of Doors</th>\n",
       "      <th>highway MPG</th>\n",
       "      <th>city mpg</th>\n",
       "      <th>Popularity</th>\n",
       "      <th>MSRP</th>\n",
       "      <th>Engine Fuel Type_electric</th>\n",
       "      <th>Engine Fuel Type_flex-fuel (premium unleaded required/E85)</th>\n",
       "      <th>...</th>\n",
       "      <th>Vehicle Style_Convertible</th>\n",
       "      <th>Vehicle Style_Convertible SUV</th>\n",
       "      <th>Vehicle Style_Coupe</th>\n",
       "      <th>Vehicle Style_Crew Cab Pickup</th>\n",
       "      <th>Vehicle Style_Extended Cab Pickup</th>\n",
       "      <th>Vehicle Style_Passenger Minivan</th>\n",
       "      <th>Vehicle Style_Passenger Van</th>\n",
       "      <th>Vehicle Style_Regular Cab Pickup</th>\n",
       "      <th>Vehicle Style_Sedan</th>\n",
       "      <th>Vehicle Style_Wagon</th>\n",
       "    </tr>\n",
       "  </thead>\n",
       "  <tbody>\n",
       "    <tr>\n",
       "      <th>count</th>\n",
       "      <td>895.000000</td>\n",
       "      <td>895.000000</td>\n",
       "      <td>895.000000</td>\n",
       "      <td>895.000000</td>\n",
       "      <td>895.000000</td>\n",
       "      <td>895.000000</td>\n",
       "      <td>895.000000</td>\n",
       "      <td>895.000000</td>\n",
       "      <td>895.0</td>\n",
       "      <td>895.0</td>\n",
       "      <td>...</td>\n",
       "      <td>895.000000</td>\n",
       "      <td>895.000000</td>\n",
       "      <td>895.000000</td>\n",
       "      <td>895.0</td>\n",
       "      <td>895.000000</td>\n",
       "      <td>895.000000</td>\n",
       "      <td>895.000000</td>\n",
       "      <td>895.000000</td>\n",
       "      <td>895.000000</td>\n",
       "      <td>895.000000</td>\n",
       "    </tr>\n",
       "    <tr>\n",
       "      <th>mean</th>\n",
       "      <td>1995.518436</td>\n",
       "      <td>169.237989</td>\n",
       "      <td>5.486034</td>\n",
       "      <td>2.941899</td>\n",
       "      <td>23.392179</td>\n",
       "      <td>17.395531</td>\n",
       "      <td>1474.658101</td>\n",
       "      <td>2410.608939</td>\n",
       "      <td>0.0</td>\n",
       "      <td>0.0</td>\n",
       "      <td>...</td>\n",
       "      <td>0.049162</td>\n",
       "      <td>0.010056</td>\n",
       "      <td>0.139665</td>\n",
       "      <td>0.0</td>\n",
       "      <td>0.115084</td>\n",
       "      <td>0.052514</td>\n",
       "      <td>0.007821</td>\n",
       "      <td>0.098324</td>\n",
       "      <td>0.244693</td>\n",
       "      <td>0.056983</td>\n",
       "    </tr>\n",
       "    <tr>\n",
       "      <th>std</th>\n",
       "      <td>2.964262</td>\n",
       "      <td>55.280496</td>\n",
       "      <td>1.466088</td>\n",
       "      <td>0.952436</td>\n",
       "      <td>5.025588</td>\n",
       "      <td>3.939416</td>\n",
       "      <td>1525.617035</td>\n",
       "      <td>618.609801</td>\n",
       "      <td>0.0</td>\n",
       "      <td>0.0</td>\n",
       "      <td>...</td>\n",
       "      <td>0.216327</td>\n",
       "      <td>0.099829</td>\n",
       "      <td>0.346833</td>\n",
       "      <td>0.0</td>\n",
       "      <td>0.319301</td>\n",
       "      <td>0.223186</td>\n",
       "      <td>0.088140</td>\n",
       "      <td>0.297919</td>\n",
       "      <td>0.430145</td>\n",
       "      <td>0.231940</td>\n",
       "    </tr>\n",
       "    <tr>\n",
       "      <th>min</th>\n",
       "      <td>1990.000000</td>\n",
       "      <td>55.000000</td>\n",
       "      <td>3.000000</td>\n",
       "      <td>2.000000</td>\n",
       "      <td>14.000000</td>\n",
       "      <td>10.000000</td>\n",
       "      <td>26.000000</td>\n",
       "      <td>2000.000000</td>\n",
       "      <td>0.0</td>\n",
       "      <td>0.0</td>\n",
       "      <td>...</td>\n",
       "      <td>0.000000</td>\n",
       "      <td>0.000000</td>\n",
       "      <td>0.000000</td>\n",
       "      <td>0.0</td>\n",
       "      <td>0.000000</td>\n",
       "      <td>0.000000</td>\n",
       "      <td>0.000000</td>\n",
       "      <td>0.000000</td>\n",
       "      <td>0.000000</td>\n",
       "      <td>0.000000</td>\n",
       "    </tr>\n",
       "    <tr>\n",
       "      <th>25%</th>\n",
       "      <td>1993.000000</td>\n",
       "      <td>133.000000</td>\n",
       "      <td>4.000000</td>\n",
       "      <td>2.000000</td>\n",
       "      <td>20.000000</td>\n",
       "      <td>15.000000</td>\n",
       "      <td>535.000000</td>\n",
       "      <td>2000.000000</td>\n",
       "      <td>0.0</td>\n",
       "      <td>0.0</td>\n",
       "      <td>...</td>\n",
       "      <td>0.000000</td>\n",
       "      <td>0.000000</td>\n",
       "      <td>0.000000</td>\n",
       "      <td>0.0</td>\n",
       "      <td>0.000000</td>\n",
       "      <td>0.000000</td>\n",
       "      <td>0.000000</td>\n",
       "      <td>0.000000</td>\n",
       "      <td>0.000000</td>\n",
       "      <td>0.000000</td>\n",
       "    </tr>\n",
       "    <tr>\n",
       "      <th>50%</th>\n",
       "      <td>1996.000000</td>\n",
       "      <td>162.000000</td>\n",
       "      <td>6.000000</td>\n",
       "      <td>3.000000</td>\n",
       "      <td>23.000000</td>\n",
       "      <td>17.000000</td>\n",
       "      <td>870.000000</td>\n",
       "      <td>2065.000000</td>\n",
       "      <td>0.0</td>\n",
       "      <td>0.0</td>\n",
       "      <td>...</td>\n",
       "      <td>0.000000</td>\n",
       "      <td>0.000000</td>\n",
       "      <td>0.000000</td>\n",
       "      <td>0.0</td>\n",
       "      <td>0.000000</td>\n",
       "      <td>0.000000</td>\n",
       "      <td>0.000000</td>\n",
       "      <td>0.000000</td>\n",
       "      <td>0.000000</td>\n",
       "      <td>0.000000</td>\n",
       "    </tr>\n",
       "    <tr>\n",
       "      <th>75%</th>\n",
       "      <td>1998.000000</td>\n",
       "      <td>203.000000</td>\n",
       "      <td>6.000000</td>\n",
       "      <td>4.000000</td>\n",
       "      <td>26.000000</td>\n",
       "      <td>19.000000</td>\n",
       "      <td>2009.000000</td>\n",
       "      <td>2649.000000</td>\n",
       "      <td>0.0</td>\n",
       "      <td>0.0</td>\n",
       "      <td>...</td>\n",
       "      <td>0.000000</td>\n",
       "      <td>0.000000</td>\n",
       "      <td>0.000000</td>\n",
       "      <td>0.0</td>\n",
       "      <td>0.000000</td>\n",
       "      <td>0.000000</td>\n",
       "      <td>0.000000</td>\n",
       "      <td>0.000000</td>\n",
       "      <td>0.000000</td>\n",
       "      <td>0.000000</td>\n",
       "    </tr>\n",
       "    <tr>\n",
       "      <th>max</th>\n",
       "      <td>2000.000000</td>\n",
       "      <td>402.000000</td>\n",
       "      <td>12.000000</td>\n",
       "      <td>4.000000</td>\n",
       "      <td>42.000000</td>\n",
       "      <td>34.000000</td>\n",
       "      <td>5657.000000</td>\n",
       "      <td>4976.000000</td>\n",
       "      <td>0.0</td>\n",
       "      <td>0.0</td>\n",
       "      <td>...</td>\n",
       "      <td>1.000000</td>\n",
       "      <td>1.000000</td>\n",
       "      <td>1.000000</td>\n",
       "      <td>0.0</td>\n",
       "      <td>1.000000</td>\n",
       "      <td>1.000000</td>\n",
       "      <td>1.000000</td>\n",
       "      <td>1.000000</td>\n",
       "      <td>1.000000</td>\n",
       "      <td>1.000000</td>\n",
       "    </tr>\n",
       "  </tbody>\n",
       "</table>\n",
       "<p>8 rows × 49 columns</p>\n",
       "</div>"
      ],
      "text/plain": [
       "              Year   Engine HP  Engine Cylinders  Number of Doors  \\\n",
       "count   895.000000  895.000000        895.000000       895.000000   \n",
       "mean   1995.518436  169.237989          5.486034         2.941899   \n",
       "std       2.964262   55.280496          1.466088         0.952436   \n",
       "min    1990.000000   55.000000          3.000000         2.000000   \n",
       "25%    1993.000000  133.000000          4.000000         2.000000   \n",
       "50%    1996.000000  162.000000          6.000000         3.000000   \n",
       "75%    1998.000000  203.000000          6.000000         4.000000   \n",
       "max    2000.000000  402.000000         12.000000         4.000000   \n",
       "\n",
       "       highway MPG    city mpg   Popularity         MSRP  \\\n",
       "count   895.000000  895.000000   895.000000   895.000000   \n",
       "mean     23.392179   17.395531  1474.658101  2410.608939   \n",
       "std       5.025588    3.939416  1525.617035   618.609801   \n",
       "min      14.000000   10.000000    26.000000  2000.000000   \n",
       "25%      20.000000   15.000000   535.000000  2000.000000   \n",
       "50%      23.000000   17.000000   870.000000  2065.000000   \n",
       "75%      26.000000   19.000000  2009.000000  2649.000000   \n",
       "max      42.000000   34.000000  5657.000000  4976.000000   \n",
       "\n",
       "       Engine Fuel Type_electric  \\\n",
       "count                      895.0   \n",
       "mean                         0.0   \n",
       "std                          0.0   \n",
       "min                          0.0   \n",
       "25%                          0.0   \n",
       "50%                          0.0   \n",
       "75%                          0.0   \n",
       "max                          0.0   \n",
       "\n",
       "       Engine Fuel Type_flex-fuel (premium unleaded required/E85)  ...  \\\n",
       "count                                              895.0           ...   \n",
       "mean                                                 0.0           ...   \n",
       "std                                                  0.0           ...   \n",
       "min                                                  0.0           ...   \n",
       "25%                                                  0.0           ...   \n",
       "50%                                                  0.0           ...   \n",
       "75%                                                  0.0           ...   \n",
       "max                                                  0.0           ...   \n",
       "\n",
       "       Vehicle Style_Convertible  Vehicle Style_Convertible SUV  \\\n",
       "count                 895.000000                     895.000000   \n",
       "mean                    0.049162                       0.010056   \n",
       "std                     0.216327                       0.099829   \n",
       "min                     0.000000                       0.000000   \n",
       "25%                     0.000000                       0.000000   \n",
       "50%                     0.000000                       0.000000   \n",
       "75%                     0.000000                       0.000000   \n",
       "max                     1.000000                       1.000000   \n",
       "\n",
       "       Vehicle Style_Coupe  Vehicle Style_Crew Cab Pickup  \\\n",
       "count           895.000000                          895.0   \n",
       "mean              0.139665                            0.0   \n",
       "std               0.346833                            0.0   \n",
       "min               0.000000                            0.0   \n",
       "25%               0.000000                            0.0   \n",
       "50%               0.000000                            0.0   \n",
       "75%               0.000000                            0.0   \n",
       "max               1.000000                            0.0   \n",
       "\n",
       "       Vehicle Style_Extended Cab Pickup  Vehicle Style_Passenger Minivan  \\\n",
       "count                         895.000000                       895.000000   \n",
       "mean                            0.115084                         0.052514   \n",
       "std                             0.319301                         0.223186   \n",
       "min                             0.000000                         0.000000   \n",
       "25%                             0.000000                         0.000000   \n",
       "50%                             0.000000                         0.000000   \n",
       "75%                             0.000000                         0.000000   \n",
       "max                             1.000000                         1.000000   \n",
       "\n",
       "       Vehicle Style_Passenger Van  Vehicle Style_Regular Cab Pickup  \\\n",
       "count                   895.000000                        895.000000   \n",
       "mean                      0.007821                          0.098324   \n",
       "std                       0.088140                          0.297919   \n",
       "min                       0.000000                          0.000000   \n",
       "25%                       0.000000                          0.000000   \n",
       "50%                       0.000000                          0.000000   \n",
       "75%                       0.000000                          0.000000   \n",
       "max                       1.000000                          1.000000   \n",
       "\n",
       "       Vehicle Style_Sedan  Vehicle Style_Wagon  \n",
       "count           895.000000           895.000000  \n",
       "mean              0.244693             0.056983  \n",
       "std               0.430145             0.231940  \n",
       "min               0.000000             0.000000  \n",
       "25%               0.000000             0.000000  \n",
       "50%               0.000000             0.000000  \n",
       "75%               0.000000             0.000000  \n",
       "max               1.000000             1.000000  \n",
       "\n",
       "[8 rows x 49 columns]"
      ]
     },
     "execution_count": 30,
     "metadata": {},
     "output_type": "execute_result"
    }
   ],
   "source": [
    "train_set[train_set['MSRP']<5000].describe()"
   ]
  },
  {
   "cell_type": "markdown",
   "metadata": {},
   "source": [
    "It is interesting that there are so many cars in the database worth less than 5000. As you can see from the statistics, such a low price is probably caused by the year of production of these cars, which are simply old (less than 2000). Now, let's look on most frequent car models."
   ]
  },
  {
   "cell_type": "markdown",
   "metadata": {},
   "source": [
    "#### 4.2 Car brands"
   ]
  },
  {
   "cell_type": "code",
   "execution_count": 31,
   "metadata": {
    "scrolled": true
   },
   "outputs": [
    {
     "data": {
      "image/png": "[encoded data removed]",
      "text/plain": [
       "<Figure size 504x360 with 1 Axes>"
      ]
     },
     "metadata": {},
     "output_type": "display_data"
    }
   ],
   "source": [
    "#Create a percentage proportion of car brands\n",
    "make_percentage=train_set['Make'].value_counts()*100/sum(train_set['Make'].value_counts())\n",
    "#Create barplot\n",
    "sns.barplot(x=make_percentage[:10],y=make_percentage.index[:10],palette='mako')\n",
    "plt.xlabel('Percentage')\n",
    "plt.ylabel('Car Makes')\n",
    "plt.title('Proportion of Car Makes(in %)')\n",
    "plt.show()"
   ]
  },
  {
   "cell_type": "markdown",
   "metadata": {},
   "source": [
    "According to this barplot, we can see that the brand that has sold the most models is Chevrolet (almost 10%). In addition 10 most recurrent car brands in that dataset represent around 50% of total number of cars"
   ]
  },
  {
   "cell_type": "code",
   "execution_count": 32,
   "metadata": {},
   "outputs": [
    {
     "data": {
      "image/png": "[encoded data removed]",
      "text/plain": [
       "<Figure size 504x360 with 1 Axes>"
      ]
     },
     "metadata": {},
     "output_type": "display_data"
    }
   ],
   "source": [
    "frequent_make_cars=train_set[train_set['Make'].isin(make_percentage.index[:10])]\n",
    "ax=sns.boxplot(data=frequent_make_cars,y='Make',x='MSRP')\n",
    "ax.set(xlabel='Price', title='Price of the 10 most common car makes')\n",
    "plt.show()"
   ]
  },
  {
   "cell_type": "markdown",
   "metadata": {},
   "source": [
    "The most of them presents a similar statistics of price and differences between them are little. Only Cadillac stands out, and on average it's significantly more expensive than the other popular brands."
   ]
  },
  {
   "cell_type": "markdown",
   "metadata": {},
   "source": [
    "#### 4.3 Year of car production"
   ]
  },
  {
   "cell_type": "markdown",
   "metadata": {},
   "source": [
    "Another interesting variable is the year of car production. Let's look at its distribution"
   ]
  },
  {
   "cell_type": "code",
   "execution_count": 33,
   "metadata": {},
   "outputs": [
    {
     "data": {
      "image/png": "[encoded data removed]",
      "text/plain": [
       "<Figure size 360x360 with 1 Axes>"
      ]
     },
     "metadata": {},
     "output_type": "display_data"
    }
   ],
   "source": [
    "sns.displot(data=train_set, x='Year',bins=20)\n",
    "plt.title('Car year distribution')\n",
    "plt.show()"
   ]
  },
  {
   "cell_type": "markdown",
   "metadata": {},
   "source": [
    "The database includes most new cars whose year of manufacture exceeds 2015. Let's see how the year of production affects the price"
   ]
  },
  {
   "cell_type": "code",
   "execution_count": 34,
   "metadata": {},
   "outputs": [
    {
     "data": {
      "image/png": "[encoded data removed]",
      "text/plain": [
       "<Figure size 504x360 with 1 Axes>"
      ]
     },
     "metadata": {},
     "output_type": "display_data"
    }
   ],
   "source": [
    "sns.lineplot(data=train_set,x='Year',y='MSRP',ci=False)\n",
    "plt.ylabel('Price')\n",
    "plt.title('Price depending on year of car production')\n",
    "plt.show()"
   ]
  },
  {
   "cell_type": "markdown",
   "metadata": {},
   "source": [
    "Based on the graph, the price variation can be divided into 3 periods of car production. The first is between 1990-2000, the next 2001-2007 and last above 2008. So let's create three boxplots according to these divisions"
   ]
  },
  {
   "cell_type": "code",
   "execution_count": 35,
   "metadata": {},
   "outputs": [
    {
     "data": {
      "image/png": "[encoded data removed]",
      "text/plain": [
       "<Figure size 504x360 with 1 Axes>"
      ]
     },
     "metadata": {},
     "output_type": "display_data"
    }
   ],
   "source": [
    "#showfliers=False -> no outliers in the graph\n",
    "sns.boxplot(data=train_set[train_set['Year']<=2000],x='Year',y='MSRP',showfliers=False)\n",
    "plt.ylabel('Price')\n",
    "plt.title('Price of cars manufactured between 1990 and 2000')\n",
    "\n",
    "plt.show()\n",
    "                           "
   ]
  },
  {
   "cell_type": "code",
   "execution_count": 36,
   "metadata": {},
   "outputs": [
    {
     "data": {
      "image/png": "[encoded data removed]",
      "text/plain": [
       "<Figure size 504x360 with 1 Axes>"
      ]
     },
     "metadata": {},
     "output_type": "display_data"
    }
   ],
   "source": [
    "sns.boxplot(data=train_set[(train_set['Year']>2000) & (train_set['Year']<2008)],x='Year',y='MSRP',showfliers=False)\n",
    "plt.ylabel('Price')\n",
    "plt.title('Price of cars manufactured between 2001 and 2007')\n",
    "plt.show()"
   ]
  },
  {
   "cell_type": "code",
   "execution_count": 37,
   "metadata": {},
   "outputs": [
    {
     "data": {
      "image/png": "[encoded data removed]",
      "text/plain": [
       "<Figure size 504x360 with 1 Axes>"
      ]
     },
     "metadata": {},
     "output_type": "display_data"
    }
   ],
   "source": [
    "sns.boxplot(data=train_set[train_set['Year']>=2008],x='Year',y='MSRP',showfliers=False)\n",
    "plt.ylabel('Price')\n",
    "plt.title('Price of cars manufactured between 2008 and 2017')\n",
    "plt.show()"
   ]
  },
  {
   "cell_type": "markdown",
   "metadata": {},
   "source": [
    "The graphs were created without including outliers for better clarity. It can be deduced that the biggest changes can be seen in the first graph between 1990 and 2000, where for old cars every year matters. In the case of the second figure, between 2001 and 2007, the price of cars oscillates between 20,000 dollars and 30,000 dollars. The last graph for cars made in 2008 and newer does not show significant differences compared to the previous graph. The price of cars is between 30 and 40 thousand. A special year is 2014, from which the most cars come and the boxplot for this year shows the highest values. After this year there is a decrease"
   ]
  },
  {
   "cell_type": "markdown",
   "metadata": {},
   "source": [
    "#### 4.4 Transmission type"
   ]
  },
  {
   "cell_type": "code",
   "execution_count": 38,
   "metadata": {
    "scrolled": true
   },
   "outputs": [
    {
     "data": {
      "image/png": "[encoded data removed]",
      "text/plain": [
       "<Figure size 504x360 with 1 Axes>"
      ]
     },
     "metadata": {},
     "output_type": "display_data"
    }
   ],
   "source": [
    "data_to_pie=train_set.groupby('Transmission Type')['Transmission Type'].count()\n",
    "plt.pie(data_to_pie,labels=data_to_pie.keys(),autopct=\"%.1f%%\",)\n",
    "plt.title(\"Pie chart of transmission type\")\n",
    "plt.legend(bbox_to_anchor=(1.05, 1), loc=2, borderaxespad=0.)\n",
    "plt.show()"
   ]
  },
  {
   "cell_type": "code",
   "execution_count": 39,
   "metadata": {},
   "outputs": [
    {
     "data": {
      "text/html": [
       "<div>\n",
       "<style scoped>\n",
       "    .dataframe tbody tr th:only-of-type {\n",
       "        vertical-align: middle;\n",
       "    }\n",
       "\n",
       "    .dataframe tbody tr th {\n",
       "        vertical-align: top;\n",
       "    }\n",
       "\n",
       "    .dataframe thead th {\n",
       "        text-align: right;\n",
       "    }\n",
       "</style>\n",
       "<table border=\"1\" class=\"dataframe\">\n",
       "  <thead>\n",
       "    <tr style=\"text-align: right;\">\n",
       "      <th></th>\n",
       "      <th>MSRP</th>\n",
       "    </tr>\n",
       "    <tr>\n",
       "      <th>Transmission Type</th>\n",
       "      <th></th>\n",
       "    </tr>\n",
       "  </thead>\n",
       "  <tbody>\n",
       "    <tr>\n",
       "      <th>AUTOMATED_MANUAL</th>\n",
       "      <td>51400.0</td>\n",
       "    </tr>\n",
       "    <tr>\n",
       "      <th>AUTOMATIC</th>\n",
       "      <td>33395.0</td>\n",
       "    </tr>\n",
       "    <tr>\n",
       "      <th>DIRECT_DRIVE</th>\n",
       "      <td>35282.5</td>\n",
       "    </tr>\n",
       "    <tr>\n",
       "      <th>MANUAL</th>\n",
       "      <td>19776.0</td>\n",
       "    </tr>\n",
       "    <tr>\n",
       "      <th>UNKNOWN</th>\n",
       "      <td>2362.0</td>\n",
       "    </tr>\n",
       "  </tbody>\n",
       "</table>\n",
       "</div>"
      ],
      "text/plain": [
       "                      MSRP\n",
       "Transmission Type         \n",
       "AUTOMATED_MANUAL   51400.0\n",
       "AUTOMATIC          33395.0\n",
       "DIRECT_DRIVE       35282.5\n",
       "MANUAL             19776.0\n",
       "UNKNOWN             2362.0"
      ]
     },
     "execution_count": 39,
     "metadata": {},
     "output_type": "execute_result"
    }
   ],
   "source": [
    "train_set.groupby('Transmission Type')[['MSRP']].median()\n"
   ]
  },
  {
   "cell_type": "markdown",
   "metadata": {},
   "source": [
    "The most popular transmission type is automatic (it states 72% of data in our set) and it is a second most expensive type of cars (median price is 33395).However, the most expensive cars are those with automated manual transmissions (the median is 51400) and account for 4.8% of all cars in database"
   ]
  },
  {
   "cell_type": "markdown",
   "metadata": {},
   "source": [
    "In the database there are many other variables that can be represented graphically, however, they are in my opinion a secondary issue and it is worth moving on to the next stage of modeling"
   ]
  },
  {
   "cell_type": "markdown",
   "metadata": {},
   "source": [
    "## 5. Feature selection "
   ]
  },
  {
   "cell_type": "markdown",
   "metadata": {},
   "source": [
    "There are many methods for selecting explanatory variables that can help you make the right decisions. I chose to primarily examine the correlations between variables and use a statistic called mutual information."
   ]
  },
  {
   "cell_type": "markdown",
   "metadata": {},
   "source": [
    "#### 5.1. Correlation matrix"
   ]
  },
  {
   "cell_type": "code",
   "execution_count": 40,
   "metadata": {},
   "outputs": [
    {
     "name": "stdout",
     "output_type": "stream",
     "text": [
      "<class 'pandas.core.frame.DataFrame'>\n",
      "Int64Index: 8456 entries, 7446 to 8210\n",
      "Data columns (total 14 columns):\n",
      " #   Column             Non-Null Count  Dtype  \n",
      "---  ------             --------------  -----  \n",
      " 0   Year               8456 non-null   int64  \n",
      " 1   Engine HP          8456 non-null   float64\n",
      " 2   Engine Cylinders   8456 non-null   float64\n",
      " 3   Number of Doors    8456 non-null   float64\n",
      " 4   highway MPG        8456 non-null   int64  \n",
      " 5   city mpg           8456 non-null   int64  \n",
      " 6   Popularity         8456 non-null   int64  \n",
      " 7   Engine Fuel Type   8456 non-null   int32  \n",
      " 8   Transmission Type  8456 non-null   int32  \n",
      " 9   Driven_Wheels      8456 non-null   int32  \n",
      " 10  Market Category    8456 non-null   int32  \n",
      " 11  Vehicle Size       8456 non-null   int32  \n",
      " 12  Vehicle Style      8456 non-null   int32  \n",
      " 13  MSRP               8456 non-null   int64  \n",
      "dtypes: float64(3), int32(6), int64(5)\n",
      "memory usage: 792.8 KB\n"
     ]
    }
   ],
   "source": [
    "data_for_selection=pd.concat([train_set[num_features],train_set[cat_features],train_set[target]],axis=1)\n",
    "le = preprocessing.LabelEncoder()\n",
    "for feature in cat_features:\n",
    "    # Let's match the data (create a map and apply it to the variable right away)\n",
    "    data_for_selection[feature] = le.fit_transform(train_set[feature])\n",
    "data_for_selection.info()"
   ]
  },
  {
   "cell_type": "code",
   "execution_count": 41,
   "metadata": {},
   "outputs": [
    {
     "data": {
      "image/png": "[encoded data removed]",
      "text/plain": [
       "<Figure size 792x648 with 2 Axes>"
      ]
     },
     "metadata": {},
     "output_type": "display_data"
    }
   ],
   "source": [
    "#Let's calculate correlation using spearman method\n",
    "corr_matrix=data_for_selection.corr('spearman')\n",
    "#Create a heatmap without no repetition\n",
    "mask = np.triu(np.ones_like(corr_matrix, dtype=bool))\n",
    "sns.set_theme(style=\"white\")\n",
    "f, ax = plt.subplots(figsize=(11, 9))\n",
    "cmap=sns.diverging_palette(230, 20, as_cmap=True)\n",
    "sns.heatmap(corr_matrix, mask=mask, cmap=cmap, center=0,\n",
    "            square=True, linewidths=.5, cbar_kws={\"shrink\": .5},annot=True,annot_kws={\"size\":10})\n",
    "plt.title('Spearman Correlation matrix')\n",
    "plt.savefig(path+'\\\\img\\\\corr_matrix.png')\n",
    "plt.show()\n"
   ]
  },
  {
   "cell_type": "markdown",
   "metadata": {},
   "source": [
    "Very High correlation(0.95) appear between highway mpg and city mpg. Very High correlation appear between highway mpg and city mpg. When look at relation between dependent variable and them, it can believe that mpg variables give the same information, so maybe should delete it.\n",
    "Also there is a high correlation between Engine cylinders and Engine HP variables, which is intuitive because more cylinders translate into more power in the car. \n",
    "\n",
    "On the other hand, Highway mpg / Engine Cylinders have a strong negative correlation with highway(-0.75) and city MPG(-0.83) because lower MPG figures mean higher fuel consumption.\n",
    "Looking at the dependent variable, it is worth noting specifically the 4 variables: Year, Engine HP, Engine Cylinders, Engine Fuel Type. They have the highest correlation/anti-correlation and are likely to have the highest predictive value"
   ]
  },
  {
   "cell_type": "markdown",
   "metadata": {},
   "source": [
    "##### 5.2 Mutual Information"
   ]
  },
  {
   "cell_type": "code",
   "execution_count": 42,
   "metadata": {},
   "outputs": [
    {
     "data": {
      "text/plain": [
       "'Sorted list with variable and its mutual information'"
      ]
     },
     "metadata": {},
     "output_type": "display_data"
    },
    {
     "data": {
      "text/plain": [
       "[(1.144021178187737, 'Engine HP'),\n",
       " (0.40837961877973106, 'Year'),\n",
       " (0.3555775718099523, 'Engine Cylinders'),\n",
       " (0.21242685961374952, 'Driven_Wheels'),\n",
       " (0.18287454889424248, 'highway MPG'),\n",
       " (0.17911340340008097, 'city mpg'),\n",
       " (0.1754452663142636, 'Vehicle Size'),\n",
       " (0.14243360965322194, 'Transmission Type'),\n",
       " (0.1285490625657011, 'Market Category'),\n",
       " (0.12171051036174796, 'Engine Fuel Type'),\n",
       " (0.11481642090890531, 'Vehicle Style'),\n",
       " (0.1082092964744108, 'Number of Doors'),\n",
       " (0.10378507344510601, 'Popularity')]"
      ]
     },
     "metadata": {},
     "output_type": "display_data"
    }
   ],
   "source": [
    "#List for results\n",
    "mut_info=[]\n",
    "#Calculation for categorical and continuous variables\n",
    "for feature in cat_features:\n",
    "    mut_info.append(feature_selection.mutual_info_regression(data_for_selection[feature].values.reshape(-1,1),data_for_selection['MSRP'].values)[0])\n",
    "for feature in num_features:\n",
    "    mut_info.append(feature_selection.mutual_info_regression(data_for_selection[feature].values.reshape(-1,1),data_for_selection['MSRP'].values)[0])\n",
    "    \n",
    "mut_info_list = list(zip(mut_info, cat_features+num_features))\n",
    "mut_info_list.sort(reverse=True)\n",
    "display('Sorted list with variable and its mutual information',mut_info_list)"
   ]
  },
  {
   "cell_type": "markdown",
   "metadata": {},
   "source": [
    "According to mutual information, it can be confirmed that Engine HP and Year are the two most significant variables for the price modeling process. Equally important is Engine Cylinders. On the other hand, the variables Number of Doors and Popularity"
   ]
  },
  {
   "cell_type": "markdown",
   "metadata": {},
   "source": [
    "Finally, let's perform a transformation of two variables into one before moving on to modeling. Let's scale highway mpg and city mpg in Average total mpg"
   ]
  },
  {
   "cell_type": "code",
   "execution_count": 43,
   "metadata": {},
   "outputs": [
    {
     "data": {
      "text/html": [
       "<div>\n",
       "<style scoped>\n",
       "    .dataframe tbody tr th:only-of-type {\n",
       "        vertical-align: middle;\n",
       "    }\n",
       "\n",
       "    .dataframe tbody tr th {\n",
       "        vertical-align: top;\n",
       "    }\n",
       "\n",
       "    .dataframe thead th {\n",
       "        text-align: right;\n",
       "    }\n",
       "</style>\n",
       "<table border=\"1\" class=\"dataframe\">\n",
       "  <thead>\n",
       "    <tr style=\"text-align: right;\">\n",
       "      <th></th>\n",
       "      <th>highway MPG</th>\n",
       "      <th>city mpg</th>\n",
       "      <th>average total mpg</th>\n",
       "    </tr>\n",
       "  </thead>\n",
       "  <tbody>\n",
       "    <tr>\n",
       "      <th>7446</th>\n",
       "      <td>32</td>\n",
       "      <td>26</td>\n",
       "      <td>29.0</td>\n",
       "    </tr>\n",
       "    <tr>\n",
       "      <th>358</th>\n",
       "      <td>37</td>\n",
       "      <td>25</td>\n",
       "      <td>31.0</td>\n",
       "    </tr>\n",
       "    <tr>\n",
       "      <th>1691</th>\n",
       "      <td>20</td>\n",
       "      <td>15</td>\n",
       "      <td>17.5</td>\n",
       "    </tr>\n",
       "    <tr>\n",
       "      <th>11273</th>\n",
       "      <td>26</td>\n",
       "      <td>19</td>\n",
       "      <td>22.5</td>\n",
       "    </tr>\n",
       "    <tr>\n",
       "      <th>849</th>\n",
       "      <td>31</td>\n",
       "      <td>21</td>\n",
       "      <td>26.0</td>\n",
       "    </tr>\n",
       "  </tbody>\n",
       "</table>\n",
       "</div>"
      ],
      "text/plain": [
       "       highway MPG  city mpg  average total mpg\n",
       "7446            32        26               29.0\n",
       "358             37        25               31.0\n",
       "1691            20        15               17.5\n",
       "11273           26        19               22.5\n",
       "849             31        21               26.0"
      ]
     },
     "metadata": {},
     "output_type": "display_data"
    },
    {
     "data": {
      "text/html": [
       "<div>\n",
       "<style scoped>\n",
       "    .dataframe tbody tr th:only-of-type {\n",
       "        vertical-align: middle;\n",
       "    }\n",
       "\n",
       "    .dataframe tbody tr th {\n",
       "        vertical-align: top;\n",
       "    }\n",
       "\n",
       "    .dataframe thead th {\n",
       "        text-align: right;\n",
       "    }\n",
       "</style>\n",
       "<table border=\"1\" class=\"dataframe\">\n",
       "  <thead>\n",
       "    <tr style=\"text-align: right;\">\n",
       "      <th></th>\n",
       "      <th>highway MPG</th>\n",
       "      <th>city mpg</th>\n",
       "      <th>average total mpg</th>\n",
       "    </tr>\n",
       "  </thead>\n",
       "  <tbody>\n",
       "    <tr>\n",
       "      <th>1357</th>\n",
       "      <td>30</td>\n",
       "      <td>21</td>\n",
       "      <td>25.5</td>\n",
       "    </tr>\n",
       "    <tr>\n",
       "      <th>7829</th>\n",
       "      <td>26</td>\n",
       "      <td>18</td>\n",
       "      <td>22.0</td>\n",
       "    </tr>\n",
       "    <tr>\n",
       "      <th>10856</th>\n",
       "      <td>24</td>\n",
       "      <td>19</td>\n",
       "      <td>21.5</td>\n",
       "    </tr>\n",
       "    <tr>\n",
       "      <th>11387</th>\n",
       "      <td>21</td>\n",
       "      <td>12</td>\n",
       "      <td>16.5</td>\n",
       "    </tr>\n",
       "    <tr>\n",
       "      <th>1466</th>\n",
       "      <td>22</td>\n",
       "      <td>20</td>\n",
       "      <td>21.0</td>\n",
       "    </tr>\n",
       "  </tbody>\n",
       "</table>\n",
       "</div>"
      ],
      "text/plain": [
       "       highway MPG  city mpg  average total mpg\n",
       "1357            30        21               25.5\n",
       "7829            26        18               22.0\n",
       "10856           24        19               21.5\n",
       "11387           21        12               16.5\n",
       "1466            22        20               21.0"
      ]
     },
     "metadata": {},
     "output_type": "display_data"
    }
   ],
   "source": [
    "train_set['average total mpg']=train_set[['highway MPG','city mpg']].mean(axis=1)\n",
    "display(train_set[['highway MPG','city mpg','average total mpg']].head())\n",
    "\n",
    "test_set['average total mpg']=test_set[['highway MPG','city mpg']].mean(axis=1)\n",
    "display(test_set[['highway MPG','city mpg','average total mpg']].head())\n",
    "\n",
    "num_features.append('average total mpg')\n",
    "num_features.remove('highway MPG')\n",
    "num_features.remove('city mpg')"
   ]
  },
  {
   "cell_type": "markdown",
   "metadata": {},
   "source": [
    "## 6. Modelling"
   ]
  },
  {
   "cell_type": "markdown",
   "metadata": {},
   "source": [
    "It is a good idea to standardize the numerical variables before you start modeling, since many of them have different measures and different magnitudes. Also, it will be easier to compare models if the variables are standardized."
   ]
  },
  {
   "cell_type": "code",
   "execution_count": 44,
   "metadata": {},
   "outputs": [],
   "source": [
    "train_set[num_features] = train_set[num_features].apply(lambda x: (x-x.mean())/x.std())\n",
    "train_set[['MSRP']] = train_set[['MSRP']].apply(lambda x: (x-x.mean())/x.std())\n",
    "\n",
    "test_set[num_features] = test_set[num_features].apply(lambda x: (x-x.mean())/x.std())\n",
    "test_set[['MSRP']] = test_set[['MSRP']].apply(lambda x: (x-x.mean())/x.std())"
   ]
  },
  {
   "cell_type": "markdown",
   "metadata": {},
   "source": [
    "Let's start the modeling process with a simple linear regression model"
   ]
  },
  {
   "cell_type": "markdown",
   "metadata": {},
   "source": [
    "#### 6.1 Linear regression "
   ]
  },
  {
   "cell_type": "markdown",
   "metadata": {},
   "source": [
    "Linear regression is a basic and commonly used type of predictive analysis. It is a linear approach to modelling the relationship between a scalar response and one or more explanatory variables (also known as dependent and independent variables)"
   ]
  },
  {
   "cell_type": "markdown",
   "metadata": {},
   "source": [
    "In modeling, it is worthwhile to take care of the correct transformation of categorical data. In the linear regression and SVM, we will use the previously created binary variables"
   ]
  },
  {
   "cell_type": "code",
   "execution_count": 45,
   "metadata": {},
   "outputs": [
    {
     "data": {
      "text/html": [
       "<div>\n",
       "<style scoped>\n",
       "    .dataframe tbody tr th:only-of-type {\n",
       "        vertical-align: middle;\n",
       "    }\n",
       "\n",
       "    .dataframe tbody tr th {\n",
       "        vertical-align: top;\n",
       "    }\n",
       "\n",
       "    .dataframe thead th {\n",
       "        text-align: right;\n",
       "    }\n",
       "</style>\n",
       "<table border=\"1\" class=\"dataframe\">\n",
       "  <thead>\n",
       "    <tr style=\"text-align: right;\">\n",
       "      <th></th>\n",
       "      <th>Year</th>\n",
       "      <th>Engine HP</th>\n",
       "      <th>Engine Cylinders</th>\n",
       "      <th>Number of Doors</th>\n",
       "      <th>Popularity</th>\n",
       "      <th>average total mpg</th>\n",
       "      <th>Engine Fuel Type_electric</th>\n",
       "      <th>Engine Fuel Type_flex-fuel (premium unleaded required/E85)</th>\n",
       "      <th>Engine Fuel Type_flex-fuel (unleaded/E85)</th>\n",
       "      <th>Engine Fuel Type_other</th>\n",
       "      <th>...</th>\n",
       "      <th>Vehicle Style_Convertible SUV</th>\n",
       "      <th>Vehicle Style_Coupe</th>\n",
       "      <th>Vehicle Style_Crew Cab Pickup</th>\n",
       "      <th>Vehicle Style_Extended Cab Pickup</th>\n",
       "      <th>Vehicle Style_Passenger Minivan</th>\n",
       "      <th>Vehicle Style_Passenger Van</th>\n",
       "      <th>Vehicle Style_Regular Cab Pickup</th>\n",
       "      <th>Vehicle Style_Sedan</th>\n",
       "      <th>Vehicle Style_Wagon</th>\n",
       "      <th>MSRP</th>\n",
       "    </tr>\n",
       "  </thead>\n",
       "  <tbody>\n",
       "    <tr>\n",
       "      <th>7446</th>\n",
       "      <td>-2.148111</td>\n",
       "      <td>-1.488833</td>\n",
       "      <td>-0.979467</td>\n",
       "      <td>-1.688503</td>\n",
       "      <td>0.319613</td>\n",
       "      <td>0.662229</td>\n",
       "      <td>0</td>\n",
       "      <td>0</td>\n",
       "      <td>0</td>\n",
       "      <td>0</td>\n",
       "      <td>...</td>\n",
       "      <td>0</td>\n",
       "      <td>1</td>\n",
       "      <td>0</td>\n",
       "      <td>0</td>\n",
       "      <td>0</td>\n",
       "      <td>0</td>\n",
       "      <td>0</td>\n",
       "      <td>0</td>\n",
       "      <td>0</td>\n",
       "      <td>-0.801058</td>\n",
       "    </tr>\n",
       "    <tr>\n",
       "      <th>358</th>\n",
       "      <td>0.579000</td>\n",
       "      <td>-0.664850</td>\n",
       "      <td>-0.979467</td>\n",
       "      <td>0.616070</td>\n",
       "      <td>-0.673231</td>\n",
       "      <td>0.887277</td>\n",
       "      <td>0</td>\n",
       "      <td>0</td>\n",
       "      <td>0</td>\n",
       "      <td>0</td>\n",
       "      <td>...</td>\n",
       "      <td>0</td>\n",
       "      <td>0</td>\n",
       "      <td>0</td>\n",
       "      <td>0</td>\n",
       "      <td>0</td>\n",
       "      <td>0</td>\n",
       "      <td>0</td>\n",
       "      <td>1</td>\n",
       "      <td>0</td>\n",
       "      <td>-0.345202</td>\n",
       "    </tr>\n",
       "    <tr>\n",
       "      <th>1691</th>\n",
       "      <td>-1.861047</td>\n",
       "      <td>-0.972712</td>\n",
       "      <td>0.157051</td>\n",
       "      <td>-1.688503</td>\n",
       "      <td>-0.673231</td>\n",
       "      <td>-0.631796</td>\n",
       "      <td>0</td>\n",
       "      <td>0</td>\n",
       "      <td>0</td>\n",
       "      <td>0</td>\n",
       "      <td>...</td>\n",
       "      <td>0</td>\n",
       "      <td>0</td>\n",
       "      <td>0</td>\n",
       "      <td>0</td>\n",
       "      <td>0</td>\n",
       "      <td>0</td>\n",
       "      <td>1</td>\n",
       "      <td>0</td>\n",
       "      <td>0</td>\n",
       "      <td>-0.786954</td>\n",
       "    </tr>\n",
       "    <tr>\n",
       "      <th>11273</th>\n",
       "      <td>0.291936</td>\n",
       "      <td>0.095750</td>\n",
       "      <td>0.157051</td>\n",
       "      <td>0.616070</td>\n",
       "      <td>0.319613</td>\n",
       "      <td>-0.069176</td>\n",
       "      <td>0</td>\n",
       "      <td>0</td>\n",
       "      <td>0</td>\n",
       "      <td>0</td>\n",
       "      <td>...</td>\n",
       "      <td>0</td>\n",
       "      <td>0</td>\n",
       "      <td>0</td>\n",
       "      <td>0</td>\n",
       "      <td>0</td>\n",
       "      <td>0</td>\n",
       "      <td>0</td>\n",
       "      <td>0</td>\n",
       "      <td>1</td>\n",
       "      <td>-0.181316</td>\n",
       "    </tr>\n",
       "    <tr>\n",
       "      <th>849</th>\n",
       "      <td>0.004872</td>\n",
       "      <td>-0.429426</td>\n",
       "      <td>-0.979467</td>\n",
       "      <td>0.616070</td>\n",
       "      <td>-0.817520</td>\n",
       "      <td>0.324657</td>\n",
       "      <td>0</td>\n",
       "      <td>0</td>\n",
       "      <td>0</td>\n",
       "      <td>0</td>\n",
       "      <td>...</td>\n",
       "      <td>0</td>\n",
       "      <td>0</td>\n",
       "      <td>0</td>\n",
       "      <td>0</td>\n",
       "      <td>0</td>\n",
       "      <td>0</td>\n",
       "      <td>0</td>\n",
       "      <td>0</td>\n",
       "      <td>1</td>\n",
       "      <td>-0.240659</td>\n",
       "    </tr>\n",
       "  </tbody>\n",
       "</table>\n",
       "<p>5 rows × 48 columns</p>\n",
       "</div>"
      ],
      "text/plain": [
       "           Year  Engine HP  Engine Cylinders  Number of Doors  Popularity  \\\n",
       "7446  -2.148111  -1.488833         -0.979467        -1.688503    0.319613   \n",
       "358    0.579000  -0.664850         -0.979467         0.616070   -0.673231   \n",
       "1691  -1.861047  -0.972712          0.157051        -1.688503   -0.673231   \n",
       "11273  0.291936   0.095750          0.157051         0.616070    0.319613   \n",
       "849    0.004872  -0.429426         -0.979467         0.616070   -0.817520   \n",
       "\n",
       "       average total mpg  Engine Fuel Type_electric  \\\n",
       "7446            0.662229                          0   \n",
       "358             0.887277                          0   \n",
       "1691           -0.631796                          0   \n",
       "11273          -0.069176                          0   \n",
       "849             0.324657                          0   \n",
       "\n",
       "       Engine Fuel Type_flex-fuel (premium unleaded required/E85)  \\\n",
       "7446                                                   0            \n",
       "358                                                    0            \n",
       "1691                                                   0            \n",
       "11273                                                  0            \n",
       "849                                                    0            \n",
       "\n",
       "       Engine Fuel Type_flex-fuel (unleaded/E85)  Engine Fuel Type_other  ...  \\\n",
       "7446                                           0                       0  ...   \n",
       "358                                            0                       0  ...   \n",
       "1691                                           0                       0  ...   \n",
       "11273                                          0                       0  ...   \n",
       "849                                            0                       0  ...   \n",
       "\n",
       "       Vehicle Style_Convertible SUV  Vehicle Style_Coupe  \\\n",
       "7446                               0                    1   \n",
       "358                                0                    0   \n",
       "1691                               0                    0   \n",
       "11273                              0                    0   \n",
       "849                                0                    0   \n",
       "\n",
       "       Vehicle Style_Crew Cab Pickup  Vehicle Style_Extended Cab Pickup  \\\n",
       "7446                               0                                  0   \n",
       "358                                0                                  0   \n",
       "1691                               0                                  0   \n",
       "11273                              0                                  0   \n",
       "849                                0                                  0   \n",
       "\n",
       "       Vehicle Style_Passenger Minivan  Vehicle Style_Passenger Van  \\\n",
       "7446                                 0                            0   \n",
       "358                                  0                            0   \n",
       "1691                                 0                            0   \n",
       "11273                                0                            0   \n",
       "849                                  0                            0   \n",
       "\n",
       "       Vehicle Style_Regular Cab Pickup  Vehicle Style_Sedan  \\\n",
       "7446                                  0                    0   \n",
       "358                                   0                    1   \n",
       "1691                                  1                    0   \n",
       "11273                                 0                    0   \n",
       "849                                   0                    0   \n",
       "\n",
       "       Vehicle Style_Wagon      MSRP  \n",
       "7446                     0 -0.801058  \n",
       "358                      0 -0.345202  \n",
       "1691                     0 -0.786954  \n",
       "11273                    1 -0.181316  \n",
       "849                      1 -0.240659  \n",
       "\n",
       "[5 rows x 48 columns]"
      ]
     },
     "metadata": {},
     "output_type": "display_data"
    },
    {
     "data": {
      "text/plain": [
       "['Year',\n",
       " 'Engine HP',\n",
       " 'Engine Cylinders',\n",
       " 'Number of Doors',\n",
       " 'Popularity',\n",
       " 'average total mpg',\n",
       " 'Engine Fuel Type_electric',\n",
       " 'Engine Fuel Type_flex-fuel (premium unleaded required/E85)',\n",
       " 'Engine Fuel Type_flex-fuel (unleaded/E85)',\n",
       " 'Engine Fuel Type_other',\n",
       " 'Engine Fuel Type_premium unleaded (recommended)',\n",
       " 'Engine Fuel Type_premium unleaded (required)',\n",
       " 'Engine Fuel Type_regular unleaded',\n",
       " 'Transmission Type_AUTOMATIC',\n",
       " 'Transmission Type_DIRECT_DRIVE',\n",
       " 'Transmission Type_MANUAL',\n",
       " 'Transmission Type_UNKNOWN',\n",
       " 'Driven_Wheels_four wheel drive',\n",
       " 'Driven_Wheels_front wheel drive',\n",
       " 'Driven_Wheels_rear wheel drive',\n",
       " 'Market Category_Diesel',\n",
       " 'Market Category_Exotic',\n",
       " 'Market Category_Factory Tuner',\n",
       " 'Market Category_Flex Fuel',\n",
       " 'Market Category_Hatchback',\n",
       " 'Market Category_High-Performance',\n",
       " 'Market Category_Hybrid',\n",
       " 'Market Category_Luxury',\n",
       " 'Market Category_Other',\n",
       " 'Market Category_Performance',\n",
       " 'Vehicle Size_Large',\n",
       " 'Vehicle Size_Midsize',\n",
       " 'Vehicle Style_2dr SUV',\n",
       " 'Vehicle Style_4dr Hatchback',\n",
       " 'Vehicle Style_4dr SUV',\n",
       " 'Vehicle Style_Cargo Minivan',\n",
       " 'Vehicle Style_Cargo Van',\n",
       " 'Vehicle Style_Convertible',\n",
       " 'Vehicle Style_Convertible SUV',\n",
       " 'Vehicle Style_Coupe',\n",
       " 'Vehicle Style_Crew Cab Pickup',\n",
       " 'Vehicle Style_Extended Cab Pickup',\n",
       " 'Vehicle Style_Passenger Minivan',\n",
       " 'Vehicle Style_Passenger Van',\n",
       " 'Vehicle Style_Regular Cab Pickup',\n",
       " 'Vehicle Style_Sedan',\n",
       " 'Vehicle Style_Wagon']"
      ]
     },
     "execution_count": 45,
     "metadata": {},
     "output_type": "execute_result"
    }
   ],
   "source": [
    "train_linreg=pd.concat([train_set[num_features],train_set[dummLev.columns.tolist()],train_set[target]],axis=1)\n",
    "display(train_linreg.head())\n",
    "ind_features=num_features+dummLev.columns.tolist()\n",
    "ind_features"
   ]
  },
  {
   "cell_type": "code",
   "execution_count": 46,
   "metadata": {
    "scrolled": true
   },
   "outputs": [
    {
     "data": {
      "text/html": [
       "<table class=\"simpletable\">\n",
       "<caption>OLS Regression Results</caption>\n",
       "<tr>\n",
       "  <th>Dep. Variable:</th>          <td>MSRP</td>       <th>  R-squared:         </th> <td>   0.807</td> \n",
       "</tr>\n",
       "<tr>\n",
       "  <th>Model:</th>                   <td>OLS</td>       <th>  Adj. R-squared:    </th> <td>   0.806</td> \n",
       "</tr>\n",
       "<tr>\n",
       "  <th>Method:</th>             <td>Least Squares</td>  <th>  F-statistic:       </th> <td>   749.9</td> \n",
       "</tr>\n",
       "<tr>\n",
       "  <th>Date:</th>             <td>Mon, 03 May 2021</td> <th>  Prob (F-statistic):</th>  <td>  0.00</td>  \n",
       "</tr>\n",
       "<tr>\n",
       "  <th>Time:</th>                 <td>15:57:17</td>     <th>  Log-Likelihood:    </th> <td> -5034.2</td> \n",
       "</tr>\n",
       "<tr>\n",
       "  <th>No. Observations:</th>      <td>  8456</td>      <th>  AIC:               </th> <td>1.016e+04</td>\n",
       "</tr>\n",
       "<tr>\n",
       "  <th>Df Residuals:</th>          <td>  8408</td>      <th>  BIC:               </th> <td>1.050e+04</td>\n",
       "</tr>\n",
       "<tr>\n",
       "  <th>Df Model:</th>              <td>    47</td>      <th>                     </th>     <td> </td>    \n",
       "</tr>\n",
       "<tr>\n",
       "  <th>Covariance Type:</th>      <td>nonrobust</td>    <th>                     </th>     <td> </td>    \n",
       "</tr>\n",
       "</table>\n",
       "<table class=\"simpletable\">\n",
       "<tr>\n",
       "                               <td></td>                                 <th>coef</th>     <th>std err</th>      <th>t</th>      <th>P>|t|</th>  <th>[0.025</th>    <th>0.975]</th>  \n",
       "</tr>\n",
       "<tr>\n",
       "  <th>const</th>                                                      <td>    0.1887</td> <td>    0.093</td> <td>    2.021</td> <td> 0.043</td> <td>    0.006</td> <td>    0.372</td>\n",
       "</tr>\n",
       "<tr>\n",
       "  <th>Year</th>                                                       <td>    0.0773</td> <td>    0.008</td> <td>    9.833</td> <td> 0.000</td> <td>    0.062</td> <td>    0.093</td>\n",
       "</tr>\n",
       "<tr>\n",
       "  <th>Engine HP</th>                                                  <td>    0.4011</td> <td>    0.013</td> <td>   29.801</td> <td> 0.000</td> <td>    0.375</td> <td>    0.428</td>\n",
       "</tr>\n",
       "<tr>\n",
       "  <th>Engine Cylinders</th>                                           <td>    0.1509</td> <td>    0.011</td> <td>   13.556</td> <td> 0.000</td> <td>    0.129</td> <td>    0.173</td>\n",
       "</tr>\n",
       "<tr>\n",
       "  <th>Number of Doors</th>                                            <td>   -0.0386</td> <td>    0.020</td> <td>   -1.886</td> <td> 0.059</td> <td>   -0.079</td> <td>    0.002</td>\n",
       "</tr>\n",
       "<tr>\n",
       "  <th>Popularity</th>                                                 <td>   -0.0115</td> <td>    0.005</td> <td>   -2.208</td> <td> 0.027</td> <td>   -0.022</td> <td>   -0.001</td>\n",
       "</tr>\n",
       "<tr>\n",
       "  <th>average total mpg</th>                                          <td>    0.1078</td> <td>    0.014</td> <td>    7.839</td> <td> 0.000</td> <td>    0.081</td> <td>    0.135</td>\n",
       "</tr>\n",
       "<tr>\n",
       "  <th>Engine Fuel Type_electric</th>                                  <td>   -1.2541</td> <td>    0.342</td> <td>   -3.662</td> <td> 0.000</td> <td>   -1.925</td> <td>   -0.583</td>\n",
       "</tr>\n",
       "<tr>\n",
       "  <th>Engine Fuel Type_flex-fuel (premium unleaded required/E85)</th> <td>   -0.0167</td> <td>    0.094</td> <td>   -0.177</td> <td> 0.859</td> <td>   -0.201</td> <td>    0.168</td>\n",
       "</tr>\n",
       "<tr>\n",
       "  <th>Engine Fuel Type_flex-fuel (unleaded/E85)</th>                  <td>   -0.2986</td> <td>    0.066</td> <td>   -4.515</td> <td> 0.000</td> <td>   -0.428</td> <td>   -0.169</td>\n",
       "</tr>\n",
       "<tr>\n",
       "  <th>Engine Fuel Type_other</th>                                     <td>   -0.0806</td> <td>    0.102</td> <td>   -0.792</td> <td> 0.428</td> <td>   -0.280</td> <td>    0.119</td>\n",
       "</tr>\n",
       "<tr>\n",
       "  <th>Engine Fuel Type_premium unleaded (recommended)</th>            <td>   -0.1867</td> <td>    0.060</td> <td>   -3.136</td> <td> 0.002</td> <td>   -0.303</td> <td>   -0.070</td>\n",
       "</tr>\n",
       "<tr>\n",
       "  <th>Engine Fuel Type_premium unleaded (required)</th>               <td>    0.0577</td> <td>    0.060</td> <td>    0.961</td> <td> 0.337</td> <td>   -0.060</td> <td>    0.175</td>\n",
       "</tr>\n",
       "<tr>\n",
       "  <th>Engine Fuel Type_regular unleaded</th>                          <td>   -0.2190</td> <td>    0.058</td> <td>   -3.795</td> <td> 0.000</td> <td>   -0.332</td> <td>   -0.106</td>\n",
       "</tr>\n",
       "<tr>\n",
       "  <th>Transmission Type_AUTOMATIC</th>                                <td>   -0.1040</td> <td>    0.026</td> <td>   -4.028</td> <td> 0.000</td> <td>   -0.155</td> <td>   -0.053</td>\n",
       "</tr>\n",
       "<tr>\n",
       "  <th>Transmission Type_DIRECT_DRIVE</th>                             <td>   -0.1600</td> <td>    0.315</td> <td>   -0.507</td> <td> 0.612</td> <td>   -0.778</td> <td>    0.458</td>\n",
       "</tr>\n",
       "<tr>\n",
       "  <th>Transmission Type_MANUAL</th>                                   <td>   -0.1793</td> <td>    0.027</td> <td>   -6.760</td> <td> 0.000</td> <td>   -0.231</td> <td>   -0.127</td>\n",
       "</tr>\n",
       "<tr>\n",
       "  <th>Transmission Type_UNKNOWN</th>                                  <td>   -0.4209</td> <td>    0.145</td> <td>   -2.909</td> <td> 0.004</td> <td>   -0.705</td> <td>   -0.137</td>\n",
       "</tr>\n",
       "<tr>\n",
       "  <th>Driven_Wheels_four wheel drive</th>                             <td>   -0.1068</td> <td>    0.024</td> <td>   -4.400</td> <td> 0.000</td> <td>   -0.154</td> <td>   -0.059</td>\n",
       "</tr>\n",
       "<tr>\n",
       "  <th>Driven_Wheels_front wheel drive</th>                            <td>   -0.0193</td> <td>    0.016</td> <td>   -1.208</td> <td> 0.227</td> <td>   -0.051</td> <td>    0.012</td>\n",
       "</tr>\n",
       "<tr>\n",
       "  <th>Driven_Wheels_rear wheel drive</th>                             <td>   -0.1767</td> <td>    0.018</td> <td>  -10.062</td> <td> 0.000</td> <td>   -0.211</td> <td>   -0.142</td>\n",
       "</tr>\n",
       "<tr>\n",
       "  <th>Market Category_Diesel</th>                                     <td>    0.0139</td> <td>    0.064</td> <td>    0.218</td> <td> 0.827</td> <td>   -0.111</td> <td>    0.139</td>\n",
       "</tr>\n",
       "<tr>\n",
       "  <th>Market Category_Exotic</th>                                     <td>    2.3159</td> <td>    0.045</td> <td>   51.591</td> <td> 0.000</td> <td>    2.228</td> <td>    2.404</td>\n",
       "</tr>\n",
       "<tr>\n",
       "  <th>Market Category_Factory Tuner</th>                              <td>   -0.2077</td> <td>    0.040</td> <td>   -5.176</td> <td> 0.000</td> <td>   -0.286</td> <td>   -0.129</td>\n",
       "</tr>\n",
       "<tr>\n",
       "  <th>Market Category_Flex Fuel</th>                                  <td>    0.0499</td> <td>    0.037</td> <td>    1.356</td> <td> 0.175</td> <td>   -0.022</td> <td>    0.122</td>\n",
       "</tr>\n",
       "<tr>\n",
       "  <th>Market Category_Hatchback</th>                                  <td>    0.0659</td> <td>    0.057</td> <td>    1.153</td> <td> 0.249</td> <td>   -0.046</td> <td>    0.178</td>\n",
       "</tr>\n",
       "<tr>\n",
       "  <th>Market Category_High-Performance</th>                           <td>   -0.3163</td> <td>    0.050</td> <td>   -6.355</td> <td> 0.000</td> <td>   -0.414</td> <td>   -0.219</td>\n",
       "</tr>\n",
       "<tr>\n",
       "  <th>Market Category_Hybrid</th>                                     <td>    0.0285</td> <td>    0.053</td> <td>    0.541</td> <td> 0.588</td> <td>   -0.075</td> <td>    0.132</td>\n",
       "</tr>\n",
       "<tr>\n",
       "  <th>Market Category_Luxury</th>                                     <td>    0.0633</td> <td>    0.028</td> <td>    2.252</td> <td> 0.024</td> <td>    0.008</td> <td>    0.118</td>\n",
       "</tr>\n",
       "<tr>\n",
       "  <th>Market Category_Other</th>                                      <td>    0.0683</td> <td>    0.024</td> <td>    2.831</td> <td> 0.005</td> <td>    0.021</td> <td>    0.116</td>\n",
       "</tr>\n",
       "<tr>\n",
       "  <th>Market Category_Performance</th>                                <td>   -0.0630</td> <td>    0.036</td> <td>   -1.767</td> <td> 0.077</td> <td>   -0.133</td> <td>    0.007</td>\n",
       "</tr>\n",
       "<tr>\n",
       "  <th>Vehicle Size_Large</th>                                         <td>   -0.0713</td> <td>    0.018</td> <td>   -3.888</td> <td> 0.000</td> <td>   -0.107</td> <td>   -0.035</td>\n",
       "</tr>\n",
       "<tr>\n",
       "  <th>Vehicle Size_Midsize</th>                                       <td>   -0.1381</td> <td>    0.014</td> <td>   -9.832</td> <td> 0.000</td> <td>   -0.166</td> <td>   -0.111</td>\n",
       "</tr>\n",
       "<tr>\n",
       "  <th>Vehicle Style_2dr SUV</th>                                      <td>    0.1845</td> <td>    0.095</td> <td>    1.949</td> <td> 0.051</td> <td>   -0.001</td> <td>    0.370</td>\n",
       "</tr>\n",
       "<tr>\n",
       "  <th>Vehicle Style_4dr Hatchback</th>                                <td>    0.0995</td> <td>    0.058</td> <td>    1.730</td> <td> 0.084</td> <td>   -0.013</td> <td>    0.212</td>\n",
       "</tr>\n",
       "<tr>\n",
       "  <th>Vehicle Style_4dr SUV</th>                                      <td>    0.1903</td> <td>    0.078</td> <td>    2.429</td> <td> 0.015</td> <td>    0.037</td> <td>    0.344</td>\n",
       "</tr>\n",
       "<tr>\n",
       "  <th>Vehicle Style_Cargo Minivan</th>                                <td>    0.1829</td> <td>    0.104</td> <td>    1.757</td> <td> 0.079</td> <td>   -0.021</td> <td>    0.387</td>\n",
       "</tr>\n",
       "<tr>\n",
       "  <th>Vehicle Style_Cargo Van</th>                                    <td>    0.0607</td> <td>    0.093</td> <td>    0.655</td> <td> 0.513</td> <td>   -0.121</td> <td>    0.243</td>\n",
       "</tr>\n",
       "<tr>\n",
       "  <th>Vehicle Style_Convertible</th>                                  <td>    0.1879</td> <td>    0.070</td> <td>    2.689</td> <td> 0.007</td> <td>    0.051</td> <td>    0.325</td>\n",
       "</tr>\n",
       "<tr>\n",
       "  <th>Vehicle Style_Convertible SUV</th>                              <td>    0.3712</td> <td>    0.113</td> <td>    3.280</td> <td> 0.001</td> <td>    0.149</td> <td>    0.593</td>\n",
       "</tr>\n",
       "<tr>\n",
       "  <th>Vehicle Style_Coupe</th>                                        <td>    0.0042</td> <td>    0.069</td> <td>    0.060</td> <td> 0.952</td> <td>   -0.131</td> <td>    0.139</td>\n",
       "</tr>\n",
       "<tr>\n",
       "  <th>Vehicle Style_Crew Cab Pickup</th>                              <td>   -0.0276</td> <td>    0.082</td> <td>   -0.336</td> <td> 0.737</td> <td>   -0.189</td> <td>    0.133</td>\n",
       "</tr>\n",
       "<tr>\n",
       "  <th>Vehicle Style_Extended Cab Pickup</th>                          <td>    0.0097</td> <td>    0.078</td> <td>    0.125</td> <td> 0.901</td> <td>   -0.143</td> <td>    0.162</td>\n",
       "</tr>\n",
       "<tr>\n",
       "  <th>Vehicle Style_Passenger Minivan</th>                            <td>    0.1047</td> <td>    0.083</td> <td>    1.266</td> <td> 0.205</td> <td>   -0.057</td> <td>    0.267</td>\n",
       "</tr>\n",
       "<tr>\n",
       "  <th>Vehicle Style_Passenger Van</th>                                <td>    0.1769</td> <td>    0.086</td> <td>    2.048</td> <td> 0.041</td> <td>    0.008</td> <td>    0.346</td>\n",
       "</tr>\n",
       "<tr>\n",
       "  <th>Vehicle Style_Regular Cab Pickup</th>                           <td>    0.0013</td> <td>    0.072</td> <td>    0.018</td> <td> 0.985</td> <td>   -0.140</td> <td>    0.143</td>\n",
       "</tr>\n",
       "<tr>\n",
       "  <th>Vehicle Style_Sedan</th>                                        <td>    0.1309</td> <td>    0.082</td> <td>    1.600</td> <td> 0.110</td> <td>   -0.029</td> <td>    0.291</td>\n",
       "</tr>\n",
       "<tr>\n",
       "  <th>Vehicle Style_Wagon</th>                                        <td>    0.1641</td> <td>    0.082</td> <td>    1.993</td> <td> 0.046</td> <td>    0.003</td> <td>    0.326</td>\n",
       "</tr>\n",
       "</table>\n",
       "<table class=\"simpletable\">\n",
       "<tr>\n",
       "  <th>Omnibus:</th>       <td>6395.510</td> <th>  Durbin-Watson:     </th>  <td>   2.027</td> \n",
       "</tr>\n",
       "<tr>\n",
       "  <th>Prob(Omnibus):</th>  <td> 0.000</td>  <th>  Jarque-Bera (JB):  </th> <td>561414.518</td>\n",
       "</tr>\n",
       "<tr>\n",
       "  <th>Skew:</th>           <td> 2.955</td>  <th>  Prob(JB):          </th>  <td>    0.00</td> \n",
       "</tr>\n",
       "<tr>\n",
       "  <th>Kurtosis:</th>       <td>42.478</td>  <th>  Cond. No.          </th>  <td>    160.</td> \n",
       "</tr>\n",
       "</table><br/><br/>Notes:<br/>[1] Standard Errors assume that the covariance matrix of the errors is correctly specified."
      ],
      "text/plain": [
       "<class 'statsmodels.iolib.summary.Summary'>\n",
       "\"\"\"\n",
       "                            OLS Regression Results                            \n",
       "==============================================================================\n",
       "Dep. Variable:                   MSRP   R-squared:                       0.807\n",
       "Model:                            OLS   Adj. R-squared:                  0.806\n",
       "Method:                 Least Squares   F-statistic:                     749.9\n",
       "Date:                Mon, 03 May 2021   Prob (F-statistic):               0.00\n",
       "Time:                        15:57:17   Log-Likelihood:                -5034.2\n",
       "No. Observations:                8456   AIC:                         1.016e+04\n",
       "Df Residuals:                    8408   BIC:                         1.050e+04\n",
       "Df Model:                          47                                         \n",
       "Covariance Type:            nonrobust                                         \n",
       "==============================================================================================================================\n",
       "                                                                 coef    std err          t      P>|t|      [0.025      0.975]\n",
       "------------------------------------------------------------------------------------------------------------------------------\n",
       "const                                                          0.1887      0.093      2.021      0.043       0.006       0.372\n",
       "Year                                                           0.0773      0.008      9.833      0.000       0.062       0.093\n",
       "Engine HP                                                      0.4011      0.013     29.801      0.000       0.375       0.428\n",
       "Engine Cylinders                                               0.1509      0.011     13.556      0.000       0.129       0.173\n",
       "Number of Doors                                               -0.0386      0.020     -1.886      0.059      -0.079       0.002\n",
       "Popularity                                                    -0.0115      0.005     -2.208      0.027      -0.022      -0.001\n",
       "average total mpg                                              0.1078      0.014      7.839      0.000       0.081       0.135\n",
       "Engine Fuel Type_electric                                     -1.2541      0.342     -3.662      0.000      -1.925      -0.583\n",
       "Engine Fuel Type_flex-fuel (premium unleaded required/E85)    -0.0167      0.094     -0.177      0.859      -0.201       0.168\n",
       "Engine Fuel Type_flex-fuel (unleaded/E85)                     -0.2986      0.066     -4.515      0.000      -0.428      -0.169\n",
       "Engine Fuel Type_other                                        -0.0806      0.102     -0.792      0.428      -0.280       0.119\n",
       "Engine Fuel Type_premium unleaded (recommended)               -0.1867      0.060     -3.136      0.002      -0.303      -0.070\n",
       "Engine Fuel Type_premium unleaded (required)                   0.0577      0.060      0.961      0.337      -0.060       0.175\n",
       "Engine Fuel Type_regular unleaded                             -0.2190      0.058     -3.795      0.000      -0.332      -0.106\n",
       "Transmission Type_AUTOMATIC                                   -0.1040      0.026     -4.028      0.000      -0.155      -0.053\n",
       "Transmission Type_DIRECT_DRIVE                                -0.1600      0.315     -0.507      0.612      -0.778       0.458\n",
       "Transmission Type_MANUAL                                      -0.1793      0.027     -6.760      0.000      -0.231      -0.127\n",
       "Transmission Type_UNKNOWN                                     -0.4209      0.145     -2.909      0.004      -0.705      -0.137\n",
       "Driven_Wheels_four wheel drive                                -0.1068      0.024     -4.400      0.000      -0.154      -0.059\n",
       "Driven_Wheels_front wheel drive                               -0.0193      0.016     -1.208      0.227      -0.051       0.012\n",
       "Driven_Wheels_rear wheel drive                                -0.1767      0.018    -10.062      0.000      -0.211      -0.142\n",
       "Market Category_Diesel                                         0.0139      0.064      0.218      0.827      -0.111       0.139\n",
       "Market Category_Exotic                                         2.3159      0.045     51.591      0.000       2.228       2.404\n",
       "Market Category_Factory Tuner                                 -0.2077      0.040     -5.176      0.000      -0.286      -0.129\n",
       "Market Category_Flex Fuel                                      0.0499      0.037      1.356      0.175      -0.022       0.122\n",
       "Market Category_Hatchback                                      0.0659      0.057      1.153      0.249      -0.046       0.178\n",
       "Market Category_High-Performance                              -0.3163      0.050     -6.355      0.000      -0.414      -0.219\n",
       "Market Category_Hybrid                                         0.0285      0.053      0.541      0.588      -0.075       0.132\n",
       "Market Category_Luxury                                         0.0633      0.028      2.252      0.024       0.008       0.118\n",
       "Market Category_Other                                          0.0683      0.024      2.831      0.005       0.021       0.116\n",
       "Market Category_Performance                                   -0.0630      0.036     -1.767      0.077      -0.133       0.007\n",
       "Vehicle Size_Large                                            -0.0713      0.018     -3.888      0.000      -0.107      -0.035\n",
       "Vehicle Size_Midsize                                          -0.1381      0.014     -9.832      0.000      -0.166      -0.111\n",
       "Vehicle Style_2dr SUV                                          0.1845      0.095      1.949      0.051      -0.001       0.370\n",
       "Vehicle Style_4dr Hatchback                                    0.0995      0.058      1.730      0.084      -0.013       0.212\n",
       "Vehicle Style_4dr SUV                                          0.1903      0.078      2.429      0.015       0.037       0.344\n",
       "Vehicle Style_Cargo Minivan                                    0.1829      0.104      1.757      0.079      -0.021       0.387\n",
       "Vehicle Style_Cargo Van                                        0.0607      0.093      0.655      0.513      -0.121       0.243\n",
       "Vehicle Style_Convertible                                      0.1879      0.070      2.689      0.007       0.051       0.325\n",
       "Vehicle Style_Convertible SUV                                  0.3712      0.113      3.280      0.001       0.149       0.593\n",
       "Vehicle Style_Coupe                                            0.0042      0.069      0.060      0.952      -0.131       0.139\n",
       "Vehicle Style_Crew Cab Pickup                                 -0.0276      0.082     -0.336      0.737      -0.189       0.133\n",
       "Vehicle Style_Extended Cab Pickup                              0.0097      0.078      0.125      0.901      -0.143       0.162\n",
       "Vehicle Style_Passenger Minivan                                0.1047      0.083      1.266      0.205      -0.057       0.267\n",
       "Vehicle Style_Passenger Van                                    0.1769      0.086      2.048      0.041       0.008       0.346\n",
       "Vehicle Style_Regular Cab Pickup                               0.0013      0.072      0.018      0.985      -0.140       0.143\n",
       "Vehicle Style_Sedan                                            0.1309      0.082      1.600      0.110      -0.029       0.291\n",
       "Vehicle Style_Wagon                                            0.1641      0.082      1.993      0.046       0.003       0.326\n",
       "==============================================================================\n",
       "Omnibus:                     6395.510   Durbin-Watson:                   2.027\n",
       "Prob(Omnibus):                  0.000   Jarque-Bera (JB):           561414.518\n",
       "Skew:                           2.955   Prob(JB):                         0.00\n",
       "Kurtosis:                      42.478   Cond. No.                         160.\n",
       "==============================================================================\n",
       "\n",
       "Notes:\n",
       "[1] Standard Errors assume that the covariance matrix of the errors is correctly specified.\n",
       "\"\"\""
      ]
     },
     "execution_count": 46,
     "metadata": {},
     "output_type": "execute_result"
    }
   ],
   "source": [
    "#Create first linear model with constant\n",
    "mod=sm.OLS(train_linreg[['MSRP']],sm.add_constant(train_linreg[ind_features]))\n",
    "results=mod.fit()\n",
    "results.summary()"
   ]
  },
  {
   "cell_type": "markdown",
   "metadata": {},
   "source": [
    "According to linear regression, we obtained an R^2 coefficient of 0.8, that is, we were able to explain 80% of the variation in the dependent variable. But what is more important in Ordinary least squared it is possible to interpret the individual coefficients standing by the variables. In the case of standardized variables, interpretation is a little more difficult but not impossible. For example, according to the model, a 1 standard deviation change in year will equal a 0.0773 standard deviation change in price with the other variables unchanged. Also, an increase in Engine Cylinders by 1 standard deviation will increase the price by 0.4011 standard deviation ceteris paribus.Let's see how the model performs on the test data\n",
    "\n"
   ]
  },
  {
   "cell_type": "code",
   "execution_count": 47,
   "metadata": {},
   "outputs": [
    {
     "data": {
      "text/html": [
       "<div>\n",
       "<style scoped>\n",
       "    .dataframe tbody tr th:only-of-type {\n",
       "        vertical-align: middle;\n",
       "    }\n",
       "\n",
       "    .dataframe tbody tr th {\n",
       "        vertical-align: top;\n",
       "    }\n",
       "\n",
       "    .dataframe thead th {\n",
       "        text-align: right;\n",
       "    }\n",
       "</style>\n",
       "<table border=\"1\" class=\"dataframe\">\n",
       "  <thead>\n",
       "    <tr style=\"text-align: right;\">\n",
       "      <th></th>\n",
       "      <th>Year</th>\n",
       "      <th>Engine HP</th>\n",
       "      <th>Engine Cylinders</th>\n",
       "      <th>Number of Doors</th>\n",
       "      <th>Popularity</th>\n",
       "      <th>average total mpg</th>\n",
       "      <th>Engine Fuel Type_electric</th>\n",
       "      <th>Engine Fuel Type_flex-fuel (premium unleaded required/E85)</th>\n",
       "      <th>Engine Fuel Type_flex-fuel (unleaded/E85)</th>\n",
       "      <th>Engine Fuel Type_other</th>\n",
       "      <th>...</th>\n",
       "      <th>Vehicle Style_Convertible SUV</th>\n",
       "      <th>Vehicle Style_Coupe</th>\n",
       "      <th>Vehicle Style_Crew Cab Pickup</th>\n",
       "      <th>Vehicle Style_Extended Cab Pickup</th>\n",
       "      <th>Vehicle Style_Passenger Minivan</th>\n",
       "      <th>Vehicle Style_Passenger Van</th>\n",
       "      <th>Vehicle Style_Regular Cab Pickup</th>\n",
       "      <th>Vehicle Style_Sedan</th>\n",
       "      <th>Vehicle Style_Wagon</th>\n",
       "      <th>MSRP</th>\n",
       "    </tr>\n",
       "  </thead>\n",
       "  <tbody>\n",
       "    <tr>\n",
       "      <th>1357</th>\n",
       "      <td>-1.123355</td>\n",
       "      <td>-1.071038</td>\n",
       "      <td>-0.987532</td>\n",
       "      <td>0.603618</td>\n",
       "      <td>-1.069400</td>\n",
       "      <td>0.252260</td>\n",
       "      <td>0</td>\n",
       "      <td>0</td>\n",
       "      <td>0</td>\n",
       "      <td>0</td>\n",
       "      <td>...</td>\n",
       "      <td>0</td>\n",
       "      <td>0</td>\n",
       "      <td>0</td>\n",
       "      <td>0</td>\n",
       "      <td>0</td>\n",
       "      <td>0</td>\n",
       "      <td>0</td>\n",
       "      <td>1</td>\n",
       "      <td>0</td>\n",
       "      <td>-0.488455</td>\n",
       "    </tr>\n",
       "    <tr>\n",
       "      <th>7829</th>\n",
       "      <td>0.593540</td>\n",
       "      <td>0.863685</td>\n",
       "      <td>0.177998</td>\n",
       "      <td>-1.726039</td>\n",
       "      <td>-0.955116</td>\n",
       "      <td>-0.126706</td>\n",
       "      <td>0</td>\n",
       "      <td>0</td>\n",
       "      <td>0</td>\n",
       "      <td>0</td>\n",
       "      <td>...</td>\n",
       "      <td>0</td>\n",
       "      <td>0</td>\n",
       "      <td>0</td>\n",
       "      <td>0</td>\n",
       "      <td>0</td>\n",
       "      <td>0</td>\n",
       "      <td>0</td>\n",
       "      <td>0</td>\n",
       "      <td>0</td>\n",
       "      <td>0.497232</td>\n",
       "    </tr>\n",
       "    <tr>\n",
       "      <th>10856</th>\n",
       "      <td>-2.124877</td>\n",
       "      <td>-1.128222</td>\n",
       "      <td>-0.987532</td>\n",
       "      <td>-1.726039</td>\n",
       "      <td>0.312467</td>\n",
       "      <td>-0.180844</td>\n",
       "      <td>0</td>\n",
       "      <td>0</td>\n",
       "      <td>0</td>\n",
       "      <td>0</td>\n",
       "      <td>...</td>\n",
       "      <td>0</td>\n",
       "      <td>0</td>\n",
       "      <td>0</td>\n",
       "      <td>0</td>\n",
       "      <td>0</td>\n",
       "      <td>0</td>\n",
       "      <td>1</td>\n",
       "      <td>0</td>\n",
       "      <td>0</td>\n",
       "      <td>-0.845936</td>\n",
       "    </tr>\n",
       "    <tr>\n",
       "      <th>11387</th>\n",
       "      <td>0.736614</td>\n",
       "      <td>3.741942</td>\n",
       "      <td>2.509060</td>\n",
       "      <td>-1.726039</td>\n",
       "      <td>0.202364</td>\n",
       "      <td>-0.722225</td>\n",
       "      <td>0</td>\n",
       "      <td>0</td>\n",
       "      <td>0</td>\n",
       "      <td>0</td>\n",
       "      <td>...</td>\n",
       "      <td>0</td>\n",
       "      <td>1</td>\n",
       "      <td>0</td>\n",
       "      <td>0</td>\n",
       "      <td>0</td>\n",
       "      <td>0</td>\n",
       "      <td>0</td>\n",
       "      <td>0</td>\n",
       "      <td>0</td>\n",
       "      <td>1.525021</td>\n",
       "    </tr>\n",
       "    <tr>\n",
       "      <th>1466</th>\n",
       "      <td>-0.264908</td>\n",
       "      <td>1.263972</td>\n",
       "      <td>1.343529</td>\n",
       "      <td>0.603618</td>\n",
       "      <td>-0.381602</td>\n",
       "      <td>-0.234982</td>\n",
       "      <td>0</td>\n",
       "      <td>0</td>\n",
       "      <td>0</td>\n",
       "      <td>0</td>\n",
       "      <td>...</td>\n",
       "      <td>0</td>\n",
       "      <td>0</td>\n",
       "      <td>0</td>\n",
       "      <td>0</td>\n",
       "      <td>0</td>\n",
       "      <td>0</td>\n",
       "      <td>0</td>\n",
       "      <td>0</td>\n",
       "      <td>0</td>\n",
       "      <td>0.120335</td>\n",
       "    </tr>\n",
       "    <tr>\n",
       "      <th>...</th>\n",
       "      <td>...</td>\n",
       "      <td>...</td>\n",
       "      <td>...</td>\n",
       "      <td>...</td>\n",
       "      <td>...</td>\n",
       "      <td>...</td>\n",
       "      <td>...</td>\n",
       "      <td>...</td>\n",
       "      <td>...</td>\n",
       "      <td>...</td>\n",
       "      <td>...</td>\n",
       "      <td>...</td>\n",
       "      <td>...</td>\n",
       "      <td>...</td>\n",
       "      <td>...</td>\n",
       "      <td>...</td>\n",
       "      <td>...</td>\n",
       "      <td>...</td>\n",
       "      <td>...</td>\n",
       "      <td>...</td>\n",
       "      <td>...</td>\n",
       "    </tr>\n",
       "    <tr>\n",
       "      <th>2934</th>\n",
       "      <td>0.593540</td>\n",
       "      <td>-1.071038</td>\n",
       "      <td>-0.987532</td>\n",
       "      <td>0.603618</td>\n",
       "      <td>0.327798</td>\n",
       "      <td>1.280883</td>\n",
       "      <td>0</td>\n",
       "      <td>0</td>\n",
       "      <td>0</td>\n",
       "      <td>0</td>\n",
       "      <td>...</td>\n",
       "      <td>0</td>\n",
       "      <td>0</td>\n",
       "      <td>0</td>\n",
       "      <td>0</td>\n",
       "      <td>0</td>\n",
       "      <td>0</td>\n",
       "      <td>0</td>\n",
       "      <td>1</td>\n",
       "      <td>0</td>\n",
       "      <td>-0.384545</td>\n",
       "    </tr>\n",
       "    <tr>\n",
       "      <th>347</th>\n",
       "      <td>0.879689</td>\n",
       "      <td>0.758847</td>\n",
       "      <td>0.177998</td>\n",
       "      <td>-1.726039</td>\n",
       "      <td>0.312467</td>\n",
       "      <td>-0.289120</td>\n",
       "      <td>0</td>\n",
       "      <td>0</td>\n",
       "      <td>0</td>\n",
       "      <td>0</td>\n",
       "      <td>...</td>\n",
       "      <td>0</td>\n",
       "      <td>0</td>\n",
       "      <td>0</td>\n",
       "      <td>0</td>\n",
       "      <td>0</td>\n",
       "      <td>0</td>\n",
       "      <td>0</td>\n",
       "      <td>0</td>\n",
       "      <td>0</td>\n",
       "      <td>0.120335</td>\n",
       "    </tr>\n",
       "    <tr>\n",
       "      <th>11275</th>\n",
       "      <td>0.307391</td>\n",
       "      <td>-0.680281</td>\n",
       "      <td>-0.987532</td>\n",
       "      <td>0.603618</td>\n",
       "      <td>0.327798</td>\n",
       "      <td>-0.018430</td>\n",
       "      <td>0</td>\n",
       "      <td>0</td>\n",
       "      <td>0</td>\n",
       "      <td>0</td>\n",
       "      <td>...</td>\n",
       "      <td>0</td>\n",
       "      <td>0</td>\n",
       "      <td>0</td>\n",
       "      <td>0</td>\n",
       "      <td>0</td>\n",
       "      <td>0</td>\n",
       "      <td>0</td>\n",
       "      <td>0</td>\n",
       "      <td>1</td>\n",
       "      <td>-0.155339</td>\n",
       "    </tr>\n",
       "    <tr>\n",
       "      <th>1168</th>\n",
       "      <td>0.879689</td>\n",
       "      <td>0.549173</td>\n",
       "      <td>0.177998</td>\n",
       "      <td>0.603618</td>\n",
       "      <td>-0.704944</td>\n",
       "      <td>-0.180844</td>\n",
       "      <td>0</td>\n",
       "      <td>0</td>\n",
       "      <td>0</td>\n",
       "      <td>0</td>\n",
       "      <td>...</td>\n",
       "      <td>0</td>\n",
       "      <td>0</td>\n",
       "      <td>0</td>\n",
       "      <td>0</td>\n",
       "      <td>0</td>\n",
       "      <td>0</td>\n",
       "      <td>0</td>\n",
       "      <td>0</td>\n",
       "      <td>0</td>\n",
       "      <td>0.112497</td>\n",
       "    </tr>\n",
       "    <tr>\n",
       "      <th>10522</th>\n",
       "      <td>-0.264908</td>\n",
       "      <td>-0.642159</td>\n",
       "      <td>0.177998</td>\n",
       "      <td>0.603618</td>\n",
       "      <td>-0.941178</td>\n",
       "      <td>-0.289120</td>\n",
       "      <td>0</td>\n",
       "      <td>0</td>\n",
       "      <td>0</td>\n",
       "      <td>0</td>\n",
       "      <td>...</td>\n",
       "      <td>0</td>\n",
       "      <td>0</td>\n",
       "      <td>0</td>\n",
       "      <td>0</td>\n",
       "      <td>0</td>\n",
       "      <td>0</td>\n",
       "      <td>0</td>\n",
       "      <td>0</td>\n",
       "      <td>0</td>\n",
       "      <td>-0.337629</td>\n",
       "    </tr>\n",
       "  </tbody>\n",
       "</table>\n",
       "<p>2115 rows × 48 columns</p>\n",
       "</div>"
      ],
      "text/plain": [
       "           Year  Engine HP  Engine Cylinders  Number of Doors  Popularity  \\\n",
       "1357  -1.123355  -1.071038         -0.987532         0.603618   -1.069400   \n",
       "7829   0.593540   0.863685          0.177998        -1.726039   -0.955116   \n",
       "10856 -2.124877  -1.128222         -0.987532        -1.726039    0.312467   \n",
       "11387  0.736614   3.741942          2.509060        -1.726039    0.202364   \n",
       "1466  -0.264908   1.263972          1.343529         0.603618   -0.381602   \n",
       "...         ...        ...               ...              ...         ...   \n",
       "2934   0.593540  -1.071038         -0.987532         0.603618    0.327798   \n",
       "347    0.879689   0.758847          0.177998        -1.726039    0.312467   \n",
       "11275  0.307391  -0.680281         -0.987532         0.603618    0.327798   \n",
       "1168   0.879689   0.549173          0.177998         0.603618   -0.704944   \n",
       "10522 -0.264908  -0.642159          0.177998         0.603618   -0.941178   \n",
       "\n",
       "       average total mpg  Engine Fuel Type_electric  \\\n",
       "1357            0.252260                          0   \n",
       "7829           -0.126706                          0   \n",
       "10856          -0.180844                          0   \n",
       "11387          -0.722225                          0   \n",
       "1466           -0.234982                          0   \n",
       "...                  ...                        ...   \n",
       "2934            1.280883                          0   \n",
       "347            -0.289120                          0   \n",
       "11275          -0.018430                          0   \n",
       "1168           -0.180844                          0   \n",
       "10522          -0.289120                          0   \n",
       "\n",
       "       Engine Fuel Type_flex-fuel (premium unleaded required/E85)  \\\n",
       "1357                                                   0            \n",
       "7829                                                   0            \n",
       "10856                                                  0            \n",
       "11387                                                  0            \n",
       "1466                                                   0            \n",
       "...                                                  ...            \n",
       "2934                                                   0            \n",
       "347                                                    0            \n",
       "11275                                                  0            \n",
       "1168                                                   0            \n",
       "10522                                                  0            \n",
       "\n",
       "       Engine Fuel Type_flex-fuel (unleaded/E85)  Engine Fuel Type_other  ...  \\\n",
       "1357                                           0                       0  ...   \n",
       "7829                                           0                       0  ...   \n",
       "10856                                          0                       0  ...   \n",
       "11387                                          0                       0  ...   \n",
       "1466                                           0                       0  ...   \n",
       "...                                          ...                     ...  ...   \n",
       "2934                                           0                       0  ...   \n",
       "347                                            0                       0  ...   \n",
       "11275                                          0                       0  ...   \n",
       "1168                                           0                       0  ...   \n",
       "10522                                          0                       0  ...   \n",
       "\n",
       "       Vehicle Style_Convertible SUV  Vehicle Style_Coupe  \\\n",
       "1357                               0                    0   \n",
       "7829                               0                    0   \n",
       "10856                              0                    0   \n",
       "11387                              0                    1   \n",
       "1466                               0                    0   \n",
       "...                              ...                  ...   \n",
       "2934                               0                    0   \n",
       "347                                0                    0   \n",
       "11275                              0                    0   \n",
       "1168                               0                    0   \n",
       "10522                              0                    0   \n",
       "\n",
       "       Vehicle Style_Crew Cab Pickup  Vehicle Style_Extended Cab Pickup  \\\n",
       "1357                               0                                  0   \n",
       "7829                               0                                  0   \n",
       "10856                              0                                  0   \n",
       "11387                              0                                  0   \n",
       "1466                               0                                  0   \n",
       "...                              ...                                ...   \n",
       "2934                               0                                  0   \n",
       "347                                0                                  0   \n",
       "11275                              0                                  0   \n",
       "1168                               0                                  0   \n",
       "10522                              0                                  0   \n",
       "\n",
       "       Vehicle Style_Passenger Minivan  Vehicle Style_Passenger Van  \\\n",
       "1357                                 0                            0   \n",
       "7829                                 0                            0   \n",
       "10856                                0                            0   \n",
       "11387                                0                            0   \n",
       "1466                                 0                            0   \n",
       "...                                ...                          ...   \n",
       "2934                                 0                            0   \n",
       "347                                  0                            0   \n",
       "11275                                0                            0   \n",
       "1168                                 0                            0   \n",
       "10522                                0                            0   \n",
       "\n",
       "       Vehicle Style_Regular Cab Pickup  Vehicle Style_Sedan  \\\n",
       "1357                                  0                    1   \n",
       "7829                                  0                    0   \n",
       "10856                                 1                    0   \n",
       "11387                                 0                    0   \n",
       "1466                                  0                    0   \n",
       "...                                 ...                  ...   \n",
       "2934                                  0                    1   \n",
       "347                                   0                    0   \n",
       "11275                                 0                    0   \n",
       "1168                                  0                    0   \n",
       "10522                                 0                    0   \n",
       "\n",
       "       Vehicle Style_Wagon      MSRP  \n",
       "1357                     0 -0.488455  \n",
       "7829                     0  0.497232  \n",
       "10856                    0 -0.845936  \n",
       "11387                    0  1.525021  \n",
       "1466                     0  0.120335  \n",
       "...                    ...       ...  \n",
       "2934                     0 -0.384545  \n",
       "347                      0  0.120335  \n",
       "11275                    1 -0.155339  \n",
       "1168                     0  0.112497  \n",
       "10522                    0 -0.337629  \n",
       "\n",
       "[2115 rows x 48 columns]"
      ]
     },
     "execution_count": 47,
     "metadata": {},
     "output_type": "execute_result"
    }
   ],
   "source": [
    "test_linreg=pd.concat([test_set[num_features],test_set[dummLev.columns.tolist()],test_set[target]],axis=1)\n",
    "test_linreg"
   ]
  },
  {
   "cell_type": "code",
   "execution_count": 48,
   "metadata": {},
   "outputs": [
    {
     "name": "stdout",
     "output_type": "stream",
     "text": [
      "R^2 score:  0.7789903580880139\n",
      "Mean squared error: 0.22\n",
      "Mean absolute error: 0.24\n"
     ]
    },
    {
     "data": {
      "text/html": [
       "<div>\n",
       "<style scoped>\n",
       "    .dataframe tbody tr th:only-of-type {\n",
       "        vertical-align: middle;\n",
       "    }\n",
       "\n",
       "    .dataframe tbody tr th {\n",
       "        vertical-align: top;\n",
       "    }\n",
       "\n",
       "    .dataframe thead th {\n",
       "        text-align: right;\n",
       "    }\n",
       "</style>\n",
       "<table border=\"1\" class=\"dataframe\">\n",
       "  <thead>\n",
       "    <tr style=\"text-align: right;\">\n",
       "      <th></th>\n",
       "      <th>Model</th>\n",
       "      <th>Training Accuracy %</th>\n",
       "      <th>Testing Accuracy %</th>\n",
       "      <th>r2 score</th>\n",
       "      <th>MSE</th>\n",
       "      <th>MAE</th>\n",
       "    </tr>\n",
       "  </thead>\n",
       "  <tbody>\n",
       "    <tr>\n",
       "      <th>0</th>\n",
       "      <td>Linear Regression</td>\n",
       "      <td>0.807389</td>\n",
       "      <td>0.77899</td>\n",
       "      <td>0.77899</td>\n",
       "      <td>0.220905</td>\n",
       "      <td>0.235512</td>\n",
       "    </tr>\n",
       "  </tbody>\n",
       "</table>\n",
       "</div>"
      ],
      "text/plain": [
       "               Model  Training Accuracy %  Testing Accuracy %  r2 score  \\\n",
       "0  Linear Regression             0.807389             0.77899   0.77899   \n",
       "\n",
       "        MSE       MAE  \n",
       "0  0.220905  0.235512  "
      ]
     },
     "metadata": {},
     "output_type": "display_data"
    }
   ],
   "source": [
    "preds=results.predict(sm.add_constant(test_linreg[ind_features]))\n",
    "\n",
    "#Some statistics to evaluate a linear model\n",
    "print('R^2 score: ',metrics.r2_score(test_linreg['MSRP'],preds))\n",
    "print(\"Mean squared error: %.2f\" % metrics.mean_squared_error(test_linreg[\"MSRP\"], preds))\n",
    "print(\"Mean absolute error: %.2f\" % metrics.mean_absolute_error(test_linreg['MSRP'], preds))   \n",
    "\n",
    "#Create Dataframe with statistics to compare\n",
    "results_df = pd.DataFrame(data=[[\"Linear Regression\",results.rsquared,metrics.r2_score(test_linreg[\"MSRP\"],preds) ,metrics.r2_score(test_linreg[\"MSRP\"],preds),metrics.mean_squared_error(test_linreg[\"MSRP\"],preds),metrics.mean_absolute_error(test_linreg[\"MSRP\"],preds)]], \n",
    "                          columns=['Model', 'Training Accuracy %', 'Testing Accuracy %','r2 score','MSE','MAE'])\n",
    "\n",
    "display(results_df)"
   ]
  },
  {
   "cell_type": "markdown",
   "metadata": {},
   "source": [
    "On the test data, the model achieved an R^2 of 0.78, which is a good baseline result that can only be improved. Let us propose regularizations to the linear model"
   ]
  },
  {
   "cell_type": "markdown",
   "metadata": {},
   "source": [
    "##### Regularization"
   ]
  },
  {
   "cell_type": "markdown",
   "metadata": {},
   "source": [
    "This is a form of regression, that constrains/ regularizes or shrinks the coefficient estimates towards zero. In other words, this technique discourages learning a more complex or flexible model, so as to avoid the risk of overfitting.\n",
    "\n",
    "We will use two regularization methods: Ridge and Lasso. In ridge regression, the cost function is altered by adding a penalty equivalent to square of the magnitude of the coefficients. So, ridge regression shrinks the coefficients and it helps to reduce the model complexity and multi-collinearity.\n",
    "\n",
    "Lasso regression is regularization can lead to zero coefficients i.e. some of the features are completely neglected for the evaluation of output. So Lasso regression not only helps in reducing over-fitting but it can help us in feature selection. \n",
    "\n",
    "Source: https://towardsdatascience.com/ridge-and-lasso-regression-a-complete-guide-with-python-scikit-learn-e20e34bcbf0b"
   ]
  },
  {
   "cell_type": "markdown",
   "metadata": {},
   "source": [
    "In the models that follow, I will use pre-made wrappers that are based on cross-validation. This will help to get better results "
   ]
  },
  {
   "cell_type": "code",
   "execution_count": 49,
   "metadata": {},
   "outputs": [],
   "source": [
    "#Wrapper for linear model and regularization\n",
    "def CVTestLinearReg(nFolds = 5, randomState=42, method = \"linear\", debug=False, features=ind_features, \n",
    "                    saveModels = False, *args, **kwargs):\n",
    "    df=train_linreg.copy()\n",
    "    # Let's prepare a cross-validation\n",
    "    kf = KFold(n_splits=nFolds, shuffle=True, random_state=randomState)\n",
    "    # Let's record the results on the training set and the valid set:\n",
    "    validResults = []\n",
    "    trainResults = []\n",
    "    predictions = []\n",
    "    indices = []\n",
    "    # Let's prepare a list of models to keep\n",
    "    models = []\n",
    "    for train, valid in kf.split(df.index.values):\n",
    "        algorithm = {\n",
    "        \"linear\":linear_model.LinearRegression,\n",
    "        \"lasso\":linear_model.Lasso,\n",
    "        \"ridge\":linear_model.Ridge,\n",
    "        \"elastic\":linear_model.ElasticNet\n",
    "        }\n",
    "        # Preparing the estimator\n",
    "        clf = algorithm[method](*args, **kwargs)\n",
    "        if debug:\n",
    "            print(clf)\n",
    "        #Training the model\n",
    "        clf.fit(df.iloc[train][features], df.iloc[train]['MSRP'])\n",
    "\n",
    "    \n",
    "        predsTrain = clf.predict(df.iloc[train][features])\n",
    "        preds = clf.predict(df.iloc[valid][features])\n",
    "        \n",
    "        predictions.append(preds.tolist().copy())\n",
    "        \n",
    "        indices.append(df.iloc[valid].index.tolist().copy())\n",
    "        \n",
    "        #Statistics to evaluate model\n",
    "        trainScore = metrics.mean_squared_error(df['MSRP'].iloc[train], predsTrain)\n",
    "        validScore = metrics.mean_squared_error(df['MSRP'].iloc[valid], preds)\n",
    "        \n",
    "        trainResults.append(trainScore)\n",
    "        validResults.append(validScore)\n",
    "        \n",
    "        if debug:\n",
    "            print(\"Train MSE:\", trainScore,\n",
    "                  \"Valid MSE:\", validScore)\n",
    "        if saveModels:\n",
    "            models.append(clf)\n",
    "        \n",
    "    return trainResults, validResults, predictions, indices, models"
   ]
  },
  {
   "cell_type": "code",
   "execution_count": 50,
   "metadata": {},
   "outputs": [
    {
     "name": "stdout",
     "output_type": "stream",
     "text": [
      "LinearRegression()\n",
      "Train MSE: 0.19026160816146778 Valid MSE: 0.20408511021738865\n",
      "LinearRegression()\n",
      "Train MSE: 0.18566606854325735 Valid MSE: 0.22119964355001817\n",
      "LinearRegression()\n",
      "Train MSE: 0.1920361204946759 Valid MSE: 0.1959006472151046\n",
      "LinearRegression()\n",
      "Train MSE: 0.2006321422475699 Valid MSE: 0.16159324891640084\n",
      "LinearRegression()\n",
      "Train MSE: 0.1931721196078896 Valid MSE: 0.19106528291704988\n",
      "Average Train MSE:  0.1923536118109721 Average Valid MSE: 0.1947687865631924\n",
      "R^2 score:  0.7794330012244985\n",
      "Mean squared error: 0.22\n",
      "Root mean squared error: 0.47\n",
      "Mean absolute error: 0.24\n"
     ]
    }
   ],
   "source": [
    "trainResults, validResults, predictions, indices, models = CVTestLinearReg(method=\"linear\",debug=True,saveModels=True)\n",
    "print('Average Train MSE: ',np.mean(trainResults), 'Average Valid MSE:',np.mean(validResults))\n",
    "preds=models[3].predict(test_linreg[ind_features])\n",
    "print('R^2 score: ',metrics.r2_score(test_linreg['MSRP'],preds))\n",
    "print(\"Mean squared error: %.2f\" % metrics.mean_squared_error(test_linreg[\"MSRP\"], preds))\n",
    "print(\"Root mean squared error: %.2f\" % np.sqrt(metrics.mean_squared_error(test_linreg[\"MSRP\"], preds)))\n",
    "print(\"Mean absolute error: %.2f\" % metrics.mean_absolute_error(test_linreg['MSRP'], preds))  "
   ]
  },
  {
   "cell_type": "markdown",
   "metadata": {},
   "source": [
    "For the basic model, we obtained the same results. Let's check Lasso regression"
   ]
  },
  {
   "cell_type": "code",
   "execution_count": 51,
   "metadata": {},
   "outputs": [
    {
     "name": "stdout",
     "output_type": "stream",
     "text": [
      "Alpha: 0.001 Average Train MSE 0.1945536345120582 Average Valid MSE:  0.1963936067676872\n",
      "Alpha: 0.01 Average Train MSE 0.2115210241965531 Average Valid MSE:  0.2127248247084766\n",
      "Alpha: 0.1 Average Train MSE 0.4662414887072523 Average Valid MSE:  0.46795770821493676\n",
      "Alpha: 0.25 Average Train MSE 0.5216300001930037 Average Valid MSE:  0.5225799738656309\n",
      "Alpha: 0.5 Average Train MSE 0.7091658283891962 Average Valid MSE:  0.7100188869103077\n",
      "Alpha: 1 Average Train MSE 0.9998693294522271 Average Valid MSE:  0.9999833304222514\n",
      "Alpha: 2 Average Train MSE 0.9998693294522271 Average Valid MSE:  0.9999833304222514\n",
      "Alpha: 5 Average Train MSE 0.9998693294522271 Average Valid MSE:  0.9999833304222514\n"
     ]
    }
   ],
   "source": [
    "for alpha in [0.001, 0.01, 0.1, 0.25, 0.5, 1, 2, 5]:\n",
    "    trainResults, validResults, predictions, indices, models = CVTestLinearReg(method=\"lasso\", alpha=alpha, random_state=42)\n",
    "    print(\"Alpha:\", alpha, \"Average Train MSE\", np.mean(trainResults), \"Average Valid MSE: \", np.mean(validResults))"
   ]
  },
  {
   "cell_type": "markdown",
   "metadata": {},
   "source": [
    "Unfortunately, the results didn't improve, they just got worse. Let's check out the Ridge method"
   ]
  },
  {
   "cell_type": "code",
   "execution_count": 52,
   "metadata": {},
   "outputs": [
    {
     "name": "stdout",
     "output_type": "stream",
     "text": [
      "Alpha: 0.1 Average Train MSE 0.19235520798805575 Average Valid MSE 0.19475793021505475\n",
      "Alpha: 0.5 Average Train MSE 0.19237464725815392 Average Valid MSE 0.19474384620246635\n",
      "Alpha: 2 Average Train MSE 0.19248741817830167 Average Valid MSE 0.19475541467130714\n",
      "Alpha: 5 Average Train MSE 0.19280295482098134 Average Valid MSE 0.19493847034616346\n",
      "Alpha: 10 Average Train MSE 0.1934681397787021 Average Valid MSE 0.19548469585734113\n",
      "Alpha: 20 Average Train MSE 0.19502106593752488 Average Valid MSE 0.19692633703132345\n",
      "Alpha: 100 Average Train MSE 0.2108709723802677 Average Valid MSE 0.21265062461489942\n"
     ]
    }
   ],
   "source": [
    "\n",
    "for alpha in [0.1, 0.5, 2, 5, 10, 20, 100]:\n",
    "    trainResults, validResults, predictions, indices, models = CVTestLinearReg(method=\"ridge\", alpha=alpha, random_state=42)\n",
    "    print(\"Alpha:\", alpha, \"Average Train MSE\", np.mean(trainResults), \"Average Valid MSE\", np.mean(validResults))\n"
   ]
  },
  {
   "cell_type": "markdown",
   "metadata": {},
   "source": [
    "Unfortunately, again no improvement in performance was obtained. Let's move on to the next model which is SVM"
   ]
  },
  {
   "cell_type": "markdown",
   "metadata": {},
   "source": [
    "#### 6.2 Support Vector Machine"
   ]
  },
  {
   "cell_type": "markdown",
   "metadata": {},
   "source": [
    "“Support Vector Machine” (SVM) is a supervised machine learning algorithm which can be used for both classification or regression challenges. However, it is mostly used in classification problems. In the SVM algorithm, we plot each data item as a point in n-dimensional space (where n is number of features you have) with the value of each feature being the value of a particular coordinate.\n"
   ]
  },
  {
   "cell_type": "code",
   "execution_count": 53,
   "metadata": {},
   "outputs": [],
   "source": [
    "train_svm=pd.concat([train_set[num_features],train_set[dummLev.columns.tolist()],train_set[target]],axis=1)\n",
    "ind_features=num_features+dummLev.columns.tolist()"
   ]
  },
  {
   "cell_type": "code",
   "execution_count": 54,
   "metadata": {},
   "outputs": [],
   "source": [
    "# Let's prepare a simple wrapper with cross-validation SVM\n",
    "def CVTestSVM(nFolds = 5, randomState=42, debug=False, features=ind_features, *args, **kwargs):\n",
    "    kf = KFold(n_splits=nFolds, shuffle=True, random_state=randomState)\n",
    "    df=train_svm.copy()\n",
    "    # Lists for Results:\n",
    "    validMSE = []\n",
    "    trainMSE = []\n",
    "    trainR2=[]\n",
    "    validR2=[]\n",
    "    predictions = []\n",
    "    indices = []\n",
    "    \n",
    "    for train, valid in kf.split(df.index.values):\n",
    "        # Prepare estimator\n",
    "        clf = SVR(max_iter=-1, tol=0.001, cache_size=500, *args, **kwargs)\n",
    "        # Displaying the function call\n",
    "        if debug:\n",
    "            print(clf)\n",
    "\n",
    "        # Training the model\n",
    "        clf.fit(df.iloc[train][features], df.iloc[train]['MSRP'])\n",
    "\n",
    "        # Prepare predictions for the training and test set\n",
    "        predsTrain = clf.predict(df.iloc[train][features])\n",
    "        preds = clf.predict(df.iloc[valid][features])\n",
    "        \n",
    "        predictions.append(preds.tolist().copy())\n",
    "        \n",
    "        indices.append(df.iloc[valid].index.tolist().copy())\n",
    "        \n",
    "        #Calculating statistics for model evaluation\n",
    "        trainScoreMSE = metrics.mean_squared_error(df['MSRP'].iloc[train], predsTrain)\n",
    "        validScoreMSE = metrics.mean_squared_error(df['MSRP'].iloc[valid], preds)\n",
    "        trainScoreR2 = metrics.r2_score(df['MSRP'].iloc[train], predsTrain)\n",
    "        validScoreR2 = metrics.r2_score(df['MSRP'].iloc[valid], preds)\n",
    "        \n",
    "        trainMSE.append(trainScoreMSE)\n",
    "        validMSE.append(validScoreMSE)\n",
    "        trainR2.append(trainScoreR2)\n",
    "        validR2.append(validScoreR2)\n",
    "        if debug:\n",
    "            print(\"Train MSE:\", trainScoreMSE,\n",
    "                  \"Valid MSE:\", validScoreMSE,\n",
    "                  \"Train R2:\", trainScoreR2,\n",
    "                  \"Valid R2:\", validScoreR2)\n",
    "       \n",
    "    return trainMSE, validMSE,trainR2,validR2, predictions, indices"
   ]
  },
  {
   "cell_type": "code",
   "execution_count": 55,
   "metadata": {
    "scrolled": false
   },
   "outputs": [
    {
     "name": "stdout",
     "output_type": "stream",
     "text": [
      "SVR(cache_size=500, kernel='linear')\n",
      "Train MSE: 0.21348954620070756 Valid MSE: 0.23225978684559237 Train R2: 0.7835197136548667 Valid R2: 0.7797175391354726\n",
      "SVR(cache_size=500, kernel='linear')\n",
      "Train MSE: 0.20709194436952666 Valid MSE: 0.2434311011926446 Train R2: 0.7897025466180206 Valid R2: 0.7704164360641279\n",
      "SVR(cache_size=500, kernel='linear')\n",
      "Train MSE: 0.21603938748914178 Valid MSE: 0.22099687821377897 Train R2: 0.784077921224913 Valid R2: 0.7783866835551945\n",
      "SVR(cache_size=500, kernel='linear')\n",
      "Train MSE: 0.2269323779263101 Valid MSE: 0.1742277985482027 Train R2: 0.7801241501659115 Valid R2: 0.7997900221192177\n",
      "SVR(cache_size=500, kernel='linear')\n",
      "Train MSE: 0.21740770236105053 Valid MSE: 0.21463350279808355 Train R2: 0.7816683519894073 Valid R2: 0.7888055061639649\n",
      "Average Train MSE:  0.2161921916693473 Average Valid MSE: 0.21710981351966044\n",
      "Average Train R2:  0.7838185367306238 Average Valid R2: 0.7834232374075956\n"
     ]
    }
   ],
   "source": [
    "# train a SVR linear model (with default hyperparameter C)\n",
    "trainMSE, validMSE,trainR2,validR2, predictions, indices = CVTestSVM(debug=True,kernel='linear')\n",
    "print('Average Train MSE: ',np.mean(trainMSE), 'Average Valid MSE:',np.mean(validMSE))\n",
    "print('Average Train R2: ',np.mean(trainR2), 'Average Valid R2:',np.mean(validR2))"
   ]
  },
  {
   "cell_type": "markdown",
   "metadata": {},
   "source": [
    "SVM with linear kernel gave worse results than simple linear regression"
   ]
  },
  {
   "cell_type": "code",
   "execution_count": 56,
   "metadata": {},
   "outputs": [
    {
     "name": "stdout",
     "output_type": "stream",
     "text": [
      "SVR(cache_size=500, degree=2, kernel='poly')\n",
      "Train MSE: 0.09951282965399427 Valid MSE: 0.10743637838225796 Train R2: 0.8990931113870166 Valid R2: 0.898103971686886\n",
      "SVR(cache_size=500, degree=2, kernel='poly')\n",
      "Train MSE: 0.0958467379032955 Valid MSE: 0.12359317159443195 Train R2: 0.9026696815397757 Valid R2: 0.8834374051886972\n",
      "SVR(cache_size=500, degree=2, kernel='poly')\n",
      "Train MSE: 0.10141860665955925 Valid MSE: 0.1222302128047053 Train R2: 0.8986364633277553 Valid R2: 0.8774288440255615\n",
      "SVR(cache_size=500, degree=2, kernel='poly')\n",
      "Train MSE: 0.10431041777791494 Valid MSE: 0.08906535542300546 Train R2: 0.898933144908412 Valid R2: 0.8976525388728337\n",
      "SVR(cache_size=500, degree=2, kernel='poly')\n",
      "Train MSE: 0.09979475661033806 Valid MSE: 0.09549983660010888 Train R2: 0.8997811326970973 Valid R2: 0.9060303289596029\n",
      "Average Train MSE:  0.10017666972102042 Average Valid MSE: 0.10756499096090191\n",
      "Average Train R2:  0.8998227067720113 Average Valid R2: 0.8925306177467162\n"
     ]
    }
   ],
   "source": [
    "# SVM with polynomial kernel, degree two\n",
    "trainMSE, validMSE,trainR2,validR2, predictions, indices = CVTestSVM(debug=True,degree=2, kernel=\"poly\")\n",
    "print('Average Train MSE: ',np.mean(trainMSE), 'Average Valid MSE:',np.mean(validMSE))\n",
    "print('Average Train R2: ',np.mean(trainR2), 'Average Valid R2:',np.mean(validR2))"
   ]
  },
  {
   "cell_type": "markdown",
   "metadata": {},
   "source": [
    "SVM with polynomial kernel(second degree) give better results than simple linear regression. Let's check RBF kernel"
   ]
  },
  {
   "cell_type": "code",
   "execution_count": 57,
   "metadata": {},
   "outputs": [
    {
     "name": "stdout",
     "output_type": "stream",
     "text": [
      "SVR(cache_size=500)\n",
      "Train MSE: 0.0718195623130399 Valid MSE: 0.08670731006414151 Train R2: 0.9271743291819434 Valid R2: 0.9177640697286502\n",
      "SVR(cache_size=500)\n",
      "Train MSE: 0.06679846759296534 Valid MSE: 0.10359108011652705 Train R2: 0.9321675806010425 Valid R2: 0.9023016810563672\n",
      "SVR(cache_size=500)\n",
      "Train MSE: 0.074599562944936 Valid MSE: 0.0910266754889137 Train R2: 0.9254409443852311 Valid R2: 0.9087194190112976\n",
      "SVR(cache_size=500)\n",
      "Train MSE: 0.07061308551039099 Valid MSE: 0.06869634213231984 Train R2: 0.9315826488583042 Valid R2: 0.9210591349175703\n",
      "SVR(cache_size=500)\n",
      "Train MSE: 0.07242940821835528 Valid MSE: 0.063917749746407 Train R2: 0.9272627791517539 Valid R2: 0.9371063854018632\n",
      "Average Train MSE:  0.07125201731593751 Average Valid MSE: 0.08278783150966182\n",
      "Average Train R2:  0.928725656435655 Average Valid R2: 0.9173901380231497\n"
     ]
    }
   ],
   "source": [
    "# SVM with rbf kernel\n",
    "trainMSE, validMSE,trainR2,validR2, predictions, indices = CVTestSVM(debug=True, kernel=\"rbf\")\n",
    "print('Average Train MSE: ',np.mean(trainMSE), 'Average Valid MSE:',np.mean(validMSE))\n",
    "print('Average Train R2: ',np.mean(trainR2), 'Average Valid R2:',np.mean(validR2))"
   ]
  },
  {
   "cell_type": "markdown",
   "metadata": {},
   "source": [
    "SVM with RBF kernel give best results from all SVM estimator.  Finally, let's check the effect of the size of the parameter C on estimate. Let's see if we can further improve the model."
   ]
  },
  {
   "cell_type": "code",
   "execution_count": 58,
   "metadata": {},
   "outputs": [
    {
     "name": "stdout",
     "output_type": "stream",
     "text": [
      "0.01 Average Train MSE:  0.5235733170152462 Average Valid MSE: 0.5262352832869786\n",
      "0.01 Average Train R2:  0.4763595283963237 Average Valid R2: 0.4746387642955991\n",
      "----------------------------------------------------\n",
      "0.1 Average Train MSE:  0.16762401265850146 Average Valid MSE: 0.17397205074347422\n",
      "0.1 Average Train R2:  0.8323679573422977 Average Valid R2: 0.8265881657837106\n",
      "----------------------------------------------------\n",
      "0.25 Average Train MSE:  0.12152576561762647 Average Valid MSE: 0.12941010317701834\n",
      "0.25 Average Train R2:  0.8784763719005152 Average Valid R2: 0.8710647410726136\n",
      "----------------------------------------------------\n",
      "0.5 Average Train MSE:  0.09232089560802001 Average Valid MSE: 0.10203466775934537\n",
      "0.5 Average Train R2:  0.9076698597816015 Average Valid R2: 0.8983351750105439\n",
      "----------------------------------------------------\n",
      "1 Average Train MSE:  0.07125201731593751 Average Valid MSE: 0.08278783150966182\n",
      "1 Average Train R2:  0.928725656435655 Average Valid R2: 0.9173901380231497\n",
      "----------------------------------------------------\n",
      "2 Average Train MSE:  0.05504208877640898 Average Valid MSE: 0.068181489926838\n",
      "2 Average Train R2:  0.944933973879824 Average Valid R2: 0.9318649765108933\n",
      "----------------------------------------------------\n",
      "5 Average Train MSE:  0.038296135334212264 Average Valid MSE: 0.05264204817669391\n",
      "5 Average Train R2:  0.9616902157540468 Average Valid R2: 0.9473610662046088\n",
      "----------------------------------------------------\n",
      "10 Average Train MSE:  0.02751282482805791 Average Valid MSE: 0.0441811822810048\n",
      "10 Average Train R2:  0.9724769049159481 Average Valid R2: 0.9558327561996783\n",
      "----------------------------------------------------\n",
      "25 Average Train MSE:  0.018205653743627336 Average Valid MSE: 0.03476890848997015\n",
      "25 Average Train R2:  0.9817955108108782 Average Valid R2: 0.9651561712153196\n",
      "----------------------------------------------------\n",
      "50 Average Train MSE:  0.014479227060062225 Average Valid MSE: 0.03393273725317298\n",
      "50 Average Train R2:  0.985523095931215 Average Valid R2: 0.9659421513499009\n",
      "----------------------------------------------------\n",
      "100 Average Train MSE:  0.011814730918081311 Average Valid MSE: 0.036358690333978885\n",
      "100 Average Train R2:  0.988184546858826 Average Valid R2: 0.9635828579649001\n",
      "----------------------------------------------------\n"
     ]
    }
   ],
   "source": [
    "for c in [0.01, 0.1, 0.25, 0.5, 1, 2, 5, 10, 25, 50, 100]:\n",
    "    trainMSE, validMSE,trainR2,validR2, predictions, indices= CVTestSVM(debug=False, kernel=\"rbf\", C=c)\n",
    "    print(c,'Average Train MSE: ',np.mean(trainMSE), 'Average Valid MSE:',np.mean(validMSE))\n",
    "    print(c,'Average Train R2: ',np.mean(trainR2), 'Average Valid R2:',np.mean(validR2))\n",
    "    print('----------------------------------------------------')"
   ]
  },
  {
   "cell_type": "markdown",
   "metadata": {},
   "source": [
    "As the C parameter increased, the MSE error decreased. However, C cannot be taken too large because it will lead to overfitting, so it was decided to choose an SVM model with RBF kernel and parameter C=2. Let's evaluate best estimator on test data."
   ]
  },
  {
   "cell_type": "code",
   "execution_count": 59,
   "metadata": {},
   "outputs": [],
   "source": [
    "test_svm=pd.concat([test_set[num_features],test_set[dummLev.columns.tolist()],test_set[target]],axis=1)"
   ]
  },
  {
   "cell_type": "code",
   "execution_count": 60,
   "metadata": {},
   "outputs": [
    {
     "name": "stdout",
     "output_type": "stream",
     "text": [
      "R^2 score:  0.9246888198234645\n",
      "Mean squared error: 0.08\n",
      "Mean absolute error: 0.12\n"
     ]
    },
    {
     "data": {
      "text/html": [
       "<div>\n",
       "<style scoped>\n",
       "    .dataframe tbody tr th:only-of-type {\n",
       "        vertical-align: middle;\n",
       "    }\n",
       "\n",
       "    .dataframe tbody tr th {\n",
       "        vertical-align: top;\n",
       "    }\n",
       "\n",
       "    .dataframe thead th {\n",
       "        text-align: right;\n",
       "    }\n",
       "</style>\n",
       "<table border=\"1\" class=\"dataframe\">\n",
       "  <thead>\n",
       "    <tr style=\"text-align: right;\">\n",
       "      <th></th>\n",
       "      <th>Model</th>\n",
       "      <th>Training Accuracy %</th>\n",
       "      <th>Testing Accuracy %</th>\n",
       "      <th>r2 score</th>\n",
       "      <th>MSE</th>\n",
       "      <th>MAE</th>\n",
       "    </tr>\n",
       "  </thead>\n",
       "  <tbody>\n",
       "    <tr>\n",
       "      <th>0</th>\n",
       "      <td>Linear Regression</td>\n",
       "      <td>0.807389</td>\n",
       "      <td>0.778990</td>\n",
       "      <td>0.778990</td>\n",
       "      <td>0.220905</td>\n",
       "      <td>0.235512</td>\n",
       "    </tr>\n",
       "    <tr>\n",
       "      <th>1</th>\n",
       "      <td>SVR(kernel=RBF,C=2)</td>\n",
       "      <td>0.948425</td>\n",
       "      <td>0.924689</td>\n",
       "      <td>0.924689</td>\n",
       "      <td>0.075276</td>\n",
       "      <td>0.117617</td>\n",
       "    </tr>\n",
       "  </tbody>\n",
       "</table>\n",
       "</div>"
      ],
      "text/plain": [
       "                 Model  Training Accuracy %  Testing Accuracy %  r2 score  \\\n",
       "0    Linear Regression             0.807389            0.778990  0.778990   \n",
       "1  SVR(kernel=RBF,C=2)             0.948425            0.924689  0.924689   \n",
       "\n",
       "        MSE       MAE  \n",
       "0  0.220905  0.235512  \n",
       "1  0.075276  0.117617  "
      ]
     },
     "metadata": {},
     "output_type": "display_data"
    }
   ],
   "source": [
    "svr_best= SVR(max_iter=-1, tol=0.001, cache_size=500, kernel='rbf',C=2)\n",
    "svr_best.fit(train_svm[ind_features],train_svm['MSRP'])\n",
    "preds=svr_best.predict(test_svm[ind_features])\n",
    "\n",
    "print('R^2 score: ',metrics.r2_score(test_svm['MSRP'],preds))\n",
    "print(\"Mean squared error: %.2f\" % metrics.mean_squared_error(test_svm[\"MSRP\"], preds))\n",
    "print(\"Mean absolute error: %.2f\" % metrics.mean_absolute_error(test_svm['MSRP'], preds))   \n",
    "\n",
    "#Create Dataframe with statistics to compare\n",
    "results_df=results_df.append(pd.DataFrame(data=[[\"SVR(kernel=RBF,C=2)\",svr_best.score(train_svm[ind_features],train_svm['MSRP']),svr_best.score(test_svm[ind_features],test_svm['MSRP']),metrics.r2_score(test_svm[\"MSRP\"],preds),metrics.mean_squared_error(test_svm[\"MSRP\"],preds),metrics.mean_absolute_error(test_svm[\"MSRP\"],preds)]], \n",
    "                          columns=['Model', 'Training Accuracy %', 'Testing Accuracy %','r2 score','MSE','MAE']),ignore_index=True)\n",
    "\n",
    "display(results_df)"
   ]
  },
  {
   "cell_type": "markdown",
   "metadata": {},
   "source": [
    "It can be seen that using a more sophisticated model such as SVM and simple tuning of hyperparameters produced much better results than linear regression"
   ]
  },
  {
   "cell_type": "markdown",
   "metadata": {},
   "source": [
    "Let's move to the last algorithm, which will be used in this project - Random Forest"
   ]
  },
  {
   "cell_type": "markdown",
   "metadata": {},
   "source": [
    "#### 6.3 Random Forest"
   ]
  },
  {
   "cell_type": "markdown",
   "metadata": {},
   "source": [
    "\"A Random Forest is an ensemble technique capable of performing both regression and classification tasks with the use of multiple decision trees and a technique called Bootstrap and Aggregation, commonly known as bagging. The basic idea behind this is to combine multiple decision trees in determining the final output rather than relying on individual decision trees.\n",
    "Random Forest has multiple decision trees as base learning models. We randomly perform row sampling and feature sampling from the dataset forming sample datasets for every model.\"\n",
    "\n",
    "Source : https://www.geeksforgeeks.org/random-forest-regression-in-python/"
   ]
  },
  {
   "cell_type": "code",
   "execution_count": 61,
   "metadata": {},
   "outputs": [],
   "source": [
    "train_forest=pd.concat([train_set[num_features],train_set[dummLev.columns.tolist()],train_set[target]],axis=1)\n",
    "ind_features=num_features+dummLev.columns.tolist()"
   ]
  },
  {
   "cell_type": "code",
   "execution_count": 62,
   "metadata": {},
   "outputs": [],
   "source": [
    "# Let's prepare a simple wrapper for Random Forest\n",
    "def CVTestRFRegressor(nFolds = 5, randomState=42, debug=False, features=ind_features, *args, **kwargs):\n",
    "    kf = KFold(n_splits=nFolds, shuffle=True, random_state=randomState)\n",
    "    df=train_svm.copy()\n",
    "    # Lists for Results:\n",
    "    validMSE = []\n",
    "    trainMSE = []\n",
    "    trainR2=[]\n",
    "    validR2=[]\n",
    "    predictions = []\n",
    "    indices = []\n",
    "    \n",
    "    for train, valid in kf.split(df.index.values):\n",
    "        # Prepare estimator\n",
    "        clf = RandomForestRegressor(*args, **kwargs, random_state=randomState, n_jobs=-1)\n",
    "        # Displaying the function call\n",
    "        if debug:\n",
    "            print(clf)\n",
    "\n",
    "      # Training the model\n",
    "        clf.fit(df.iloc[train][features], df.iloc[train]['MSRP'])\n",
    "\n",
    "        # Prepare predictions for the training and test set\n",
    "        predsTrain = clf.predict(df.iloc[train][features])\n",
    "        preds = clf.predict(df.iloc[valid][features])\n",
    "        \n",
    "        predictions.append(preds.tolist().copy())\n",
    "        \n",
    "        indices.append(df.iloc[valid].index.tolist().copy())\n",
    "         #Calculating statistics for model evaluation       \n",
    "        trainScoreMSE = metrics.mean_squared_error(df['MSRP'].iloc[train], predsTrain)\n",
    "        validScoreMSE = metrics.mean_squared_error(df['MSRP'].iloc[valid], preds)\n",
    "        trainScoreR2 = metrics.r2_score(df['MSRP'].iloc[train], predsTrain)\n",
    "        validScoreR2 = metrics.r2_score(df['MSRP'].iloc[valid], preds)\n",
    "        \n",
    "        trainMSE.append(trainScoreMSE)\n",
    "        validMSE.append(validScoreMSE)\n",
    "        trainR2.append(trainScoreR2)\n",
    "        validR2.append(validScoreR2)\n",
    "        if debug:\n",
    "            print(\"Train MSE:\", trainScoreMSE,\n",
    "                  \"Valid MSE:\", validScoreMSE,\n",
    "                  \"Train R2:\", trainScoreR2,\n",
    "                  \"Valid R2:\", validScoreR2)\n",
    "       \n",
    "    return trainMSE, validMSE,trainR2,validR2, predictions, indices"
   ]
  },
  {
   "cell_type": "code",
   "execution_count": 63,
   "metadata": {},
   "outputs": [
    {
     "name": "stdout",
     "output_type": "stream",
     "text": [
      "RandomForestRegressor(n_jobs=-1, random_state=42)\n",
      "Train MSE: 0.005389444539321818 Valid MSE: 0.02500623894490224 Train R2: 0.9945350556133706 Valid R2: 0.9762832992892932\n",
      "RandomForestRegressor(n_jobs=-1, random_state=42)\n",
      "Train MSE: 0.005658083916314111 Valid MSE: 0.02299834215899977 Train R2: 0.9942543364386052 Valid R2: 0.9783099146673896\n",
      "RandomForestRegressor(n_jobs=-1, random_state=42)\n",
      "Train MSE: 0.005223390799921744 Valid MSE: 0.022506844806074473 Train R2: 0.9947794454850023 Valid R2: 0.9774303756664029\n",
      "RandomForestRegressor(n_jobs=-1, random_state=42)\n",
      "Train MSE: 0.005563084193108269 Valid MSE: 0.01665722892186587 Train R2: 0.9946099015229309 Valid R2: 0.9808587179440299\n",
      "RandomForestRegressor(n_jobs=-1, random_state=42)\n",
      "Train MSE: 0.005047222748873912 Valid MSE: 0.018611772049134355 Train R2: 0.9949313274154007 Valid R2: 0.9816864388547654\n",
      "Average Train MSE:  0.005376245239507971 Average Valid MSE: 0.021156085376195344\n",
      "Average Train R2:  0.994622013295062 Average Valid R2: 0.9789137492843762\n"
     ]
    }
   ],
   "source": [
    "trainMSE, validMSE,trainR2,validR2, predictions, indices = CVTestRFRegressor(debug=True)\n",
    "print('Average Train MSE: ',np.mean(trainMSE), 'Average Valid MSE:',np.mean(validMSE))\n",
    "print('Average Train R2: ',np.mean(trainR2), 'Average Valid R2:',np.mean(validR2))"
   ]
  },
  {
   "cell_type": "markdown",
   "metadata": {},
   "source": [
    "Without tuning hyperparameters, RandomForest gives the best results for this dataset. Let's tune to further improve the model and also combat the problem of overfitting. Let's start with n_estimators, which is the number of trees  "
   ]
  },
  {
   "cell_type": "code",
   "execution_count": 64,
   "metadata": {
    "scrolled": true
   },
   "outputs": [
    {
     "name": "stdout",
     "output_type": "stream",
     "text": [
      "10 Average Train MSE:  0.006827385115430124 Average Valid MSE: 0.02505098875105659\n",
      "10 Average Train R2:  0.9931675966360196 Average Valid R2: 0.9750942858420734\n",
      "--------------------------------------------------------\n",
      "25 Average Train MSE:  0.005985827057092894 Average Valid MSE: 0.022261495570626205\n",
      "25 Average Train R2:  0.9940111524063859 Average Valid R2: 0.9778377824165003\n",
      "--------------------------------------------------------\n",
      "50 Average Train MSE:  0.005603542738931072 Average Valid MSE: 0.02121466006404654\n",
      "50 Average Train R2:  0.9943953259882145 Average Valid R2: 0.9788557153534267\n",
      "--------------------------------------------------------\n",
      "100 Average Train MSE:  0.005376245239507971 Average Valid MSE: 0.021156085376195344\n",
      "100 Average Train R2:  0.994622013295062 Average Valid R2: 0.9789137492843762\n",
      "--------------------------------------------------------\n",
      "200 Average Train MSE:  0.005250552284431285 Average Valid MSE: 0.020926896994908257\n",
      "200 Average Train R2:  0.9947461902228127 Average Valid R2: 0.9791522695952505\n",
      "--------------------------------------------------------\n",
      "500 Average Train MSE:  0.00522240162713203 Average Valid MSE: 0.020970796831964927\n",
      "500 Average Train R2:  0.9947737035984143 Average Valid R2: 0.9791069147757474\n",
      "--------------------------------------------------------\n",
      "1000 Average Train MSE:  0.005243265073558035 Average Valid MSE: 0.020996108051717567\n",
      "1000 Average Train R2:  0.9947523556715355 Average Valid R2: 0.9790869113345166\n",
      "--------------------------------------------------------\n"
     ]
    }
   ],
   "source": [
    "for k in [10, 25, 50, 100, 200, 500, 1000]:\n",
    "    trainMSE, validMSE,trainR2,validR2, predictions, indices = CVTestRFRegressor(debug=False,n_estimators=k)\n",
    "    print(k,'Average Train MSE: ',np.mean(trainMSE), 'Average Valid MSE:',np.mean(validMSE))\n",
    "    print(k,'Average Train R2: ',np.mean(trainR2), 'Average Valid R2:',np.mean(validR2))\n",
    "    print('--------------------------------------------------------')"
   ]
  },
  {
   "cell_type": "markdown",
   "metadata": {},
   "source": [
    "According to the results, a model with 200 trees will be the best choice. Now let's see how the tree depth will affect the results"
   ]
  },
  {
   "cell_type": "code",
   "execution_count": 65,
   "metadata": {},
   "outputs": [
    {
     "name": "stdout",
     "output_type": "stream",
     "text": [
      "2 Average Train MSE:  0.24011998518512828 Average Valid MSE: 0.24568634705483955\n",
      "2 Average Train R2:  0.7599035171344097 Average Valid R2: 0.7538953568091289\n",
      "--------------------------------------------------------\n",
      "4 Average Train MSE:  0.0820808803351516 Average Valid MSE: 0.09068930913300237\n",
      "4 Average Train R2:  0.9179105446789322 Average Valid R2: 0.9093722752377612\n",
      "--------------------------------------------------------\n",
      "6 Average Train MSE:  0.03645382834875858 Average Valid MSE: 0.045689041946245776\n",
      "6 Average Train R2:  0.9635421541073497 Average Valid R2: 0.9544245545290282\n",
      "--------------------------------------------------------\n",
      "8 Average Train MSE:  0.018013218037784908 Average Valid MSE: 0.0298837026888966\n",
      "8 Average Train R2:  0.9819801435518626 Average Valid R2: 0.9701730549098798\n",
      "--------------------------------------------------------\n",
      "10 Average Train MSE:  0.010425768994931372 Average Valid MSE: 0.023829113930688078\n",
      "10 Average Train R2:  0.9895681008783874 Average Valid R2: 0.9762369062212528\n",
      "--------------------------------------------------------\n",
      "12 Average Train MSE:  0.007455231030150668 Average Valid MSE: 0.021578284366346442\n",
      "12 Average Train R2:  0.9925398825775632 Average Valid R2: 0.9784880697163579\n",
      "--------------------------------------------------------\n",
      "14 Average Train MSE:  0.006216268268663812 Average Valid MSE: 0.020875996821999913\n",
      "14 Average Train R2:  0.993779607682389 Average Valid R2: 0.9791948891004489\n",
      "--------------------------------------------------------\n",
      "16 Average Train MSE:  0.005651615659305508 Average Valid MSE: 0.020738430300977072\n",
      "16 Average Train R2:  0.9943445722493742 Average Valid R2: 0.9793360506829993\n",
      "--------------------------------------------------------\n",
      "18 Average Train MSE:  0.005381878783828967 Average Valid MSE: 0.02073525950240907\n",
      "18 Average Train R2:  0.9946147217219636 Average Valid R2: 0.9793343336051681\n",
      "--------------------------------------------------------\n",
      "20 Average Train MSE:  0.005312934501945917 Average Valid MSE: 0.020761533620641575\n",
      "20 Average Train R2:  0.99468362576742 Average Valid R2: 0.9793110822135956\n",
      "--------------------------------------------------------\n"
     ]
    }
   ],
   "source": [
    "for k in range(2,22,2):\n",
    "    trainMSE, validMSE,trainR2,validR2, predictions, indices = CVTestRFRegressor(debug=False,n_estimators=200,max_depth=k)\n",
    "    print(k,'Average Train MSE: ',np.mean(trainMSE), 'Average Valid MSE:',np.mean(validMSE))\n",
    "    print(k,'Average Train R2: ',np.mean(trainR2), 'Average Valid R2:',np.mean(validR2))\n",
    "    print('--------------------------------------------------------')"
   ]
  },
  {
   "cell_type": "markdown",
   "metadata": {},
   "source": [
    "In this case, a maximum depth of 16. Next parameter is a max features in one three."
   ]
  },
  {
   "cell_type": "code",
   "execution_count": 66,
   "metadata": {},
   "outputs": [
    {
     "name": "stdout",
     "output_type": "stream",
     "text": [
      "2 Average Train MSE:  0.01424256667797116 Average Valid MSE: 0.0357939475628864\n",
      "2 Average Train R2:  0.9857456959963834 Average Valid R2: 0.9643665514888091\n",
      "--------------------------------------------------------\n",
      "4 Average Train MSE:  0.00895085000710858 Average Valid MSE: 0.029067700128166424\n",
      "4 Average Train R2:  0.9910469234001497 Average Valid R2: 0.9709739354373642\n",
      "--------------------------------------------------------\n",
      "6 Average Train MSE:  0.007307604766900032 Average Valid MSE: 0.025864435623548426\n",
      "6 Average Train R2:  0.9926903765025168 Average Valid R2: 0.9741109322089206\n",
      "--------------------------------------------------------\n",
      "8 Average Train MSE:  0.006616728478138556 Average Valid MSE: 0.023982735146301157\n",
      "8 Average Train R2:  0.9933801793647616 Average Valid R2: 0.9760440184479208\n",
      "--------------------------------------------------------\n",
      "10 Average Train MSE:  0.006310465713039599 Average Valid MSE: 0.022622513819461936\n",
      "10 Average Train R2:  0.9936863532304882 Average Valid R2: 0.9773335522693285\n",
      "--------------------------------------------------------\n",
      "12 Average Train MSE:  0.00594104464046713 Average Valid MSE: 0.021151986992969492\n",
      "12 Average Train R2:  0.9940556489600171 Average Valid R2: 0.978796887853586\n",
      "--------------------------------------------------------\n",
      "14 Average Train MSE:  0.005831773415172758 Average Valid MSE: 0.021076753058132305\n",
      "14 Average Train R2:  0.9941655246152721 Average Valid R2: 0.9788556507883566\n",
      "--------------------------------------------------------\n",
      "16 Average Train MSE:  0.005604247496579581 Average Valid MSE: 0.020451669233820177\n",
      "16 Average Train R2:  0.9943916336642543 Average Valid R2: 0.9794406978937156\n",
      "--------------------------------------------------------\n",
      "18 Average Train MSE:  0.005569846466971691 Average Valid MSE: 0.020190152867946117\n",
      "18 Average Train R2:  0.994426605433139 Average Valid R2: 0.9797260040795164\n",
      "--------------------------------------------------------\n",
      "20 Average Train MSE:  0.005513647374891488 Average Valid MSE: 0.019628706388428577\n",
      "20 Average Train R2:  0.994482364026992 Average Valid R2: 0.9802849175560789\n",
      "--------------------------------------------------------\n",
      "22 Average Train MSE:  0.005502496073015015 Average Valid MSE: 0.020186434735396965\n",
      "22 Average Train R2:  0.9944931774461848 Average Valid R2: 0.9797783480601554\n",
      "--------------------------------------------------------\n",
      "24 Average Train MSE:  0.005475677552042215 Average Valid MSE: 0.01978870643598949\n",
      "24 Average Train R2:  0.9945208403429519 Average Valid R2: 0.9801510073076696\n",
      "--------------------------------------------------------\n",
      "26 Average Train MSE:  0.005469390110965622 Average Valid MSE: 0.019626785934657436\n",
      "26 Average Train R2:  0.9945265057001581 Average Valid R2: 0.98032915811102\n",
      "--------------------------------------------------------\n",
      "28 Average Train MSE:  0.005424960692415331 Average Valid MSE: 0.019652645318527544\n",
      "28 Average Train R2:  0.9945707285633733 Average Valid R2: 0.9802758578649442\n",
      "--------------------------------------------------------\n",
      "30 Average Train MSE:  0.00543692346960741 Average Valid MSE: 0.019565049526445565\n",
      "30 Average Train R2:  0.9945595023434336 Average Valid R2: 0.9803912912149055\n",
      "--------------------------------------------------------\n",
      "32 Average Train MSE:  0.005473832657548118 Average Valid MSE: 0.019737560878669395\n",
      "32 Average Train R2:  0.9945225614170509 Average Valid R2: 0.9802468381215433\n",
      "--------------------------------------------------------\n",
      "34 Average Train MSE:  0.005443492023513499 Average Valid MSE: 0.01940120530608511\n",
      "34 Average Train R2:  0.9945526550235095 Average Valid R2: 0.9806031604185279\n",
      "--------------------------------------------------------\n",
      "36 Average Train MSE:  0.005472676860790492 Average Valid MSE: 0.019578181740120357\n",
      "36 Average Train R2:  0.994523692489152 Average Valid R2: 0.9804185657268059\n",
      "--------------------------------------------------------\n",
      "38 Average Train MSE:  0.005472238232773481 Average Valid MSE: 0.019677048733454692\n",
      "38 Average Train R2:  0.9945245348915763 Average Valid R2: 0.980335345550807\n",
      "--------------------------------------------------------\n",
      "40 Average Train MSE:  0.0055327237826594275 Average Valid MSE: 0.01969679072692821\n",
      "40 Average Train R2:  0.9944638805395641 Average Valid R2: 0.9803379917926434\n",
      "--------------------------------------------------------\n",
      "42 Average Train MSE:  0.005527341482812388 Average Valid MSE: 0.020251558299387053\n",
      "42 Average Train R2:  0.9944692300550614 Average Valid R2: 0.979797785016973\n",
      "--------------------------------------------------------\n",
      "44 Average Train MSE:  0.005574241850072297 Average Valid MSE: 0.020224230298678834\n",
      "44 Average Train R2:  0.9944219386200206 Average Valid R2: 0.9798287897749445\n",
      "--------------------------------------------------------\n",
      "46 Average Train MSE:  0.005631645957038795 Average Valid MSE: 0.020703325105854077\n",
      "46 Average Train R2:  0.9943644828495829 Average Valid R2: 0.9793640732982984\n",
      "--------------------------------------------------------\n"
     ]
    }
   ],
   "source": [
    "for k in range(2,len(ind_features)+1,2):\n",
    "    trainMSE, validMSE,trainR2,validR2, predictions, indices = CVTestRFRegressor(debug=False,n_estimators=200,max_depth=16,max_features=k)\n",
    "    print(k,'Average Train MSE: ',np.mean(trainMSE), 'Average Valid MSE:',np.mean(validMSE))\n",
    "    print(k,'Average Train R2: ',np.mean(trainR2), 'Average Valid R2:',np.mean(validR2))\n",
    "    print('--------------------------------------------------------')"
   ]
  },
  {
   "cell_type": "markdown",
   "metadata": {},
   "source": [
    "The best result was found for max_features=20.In the next two loops we will check the operation of min_samples_split and min_samples_leaf"
   ]
  },
  {
   "cell_type": "code",
   "execution_count": 67,
   "metadata": {},
   "outputs": [
    {
     "name": "stdout",
     "output_type": "stream",
     "text": [
      "2 Average Train MSE:  0.005513647374891488 Average Valid MSE: 0.01962870638842858\n",
      "2 Average Train R2:  0.994482364026992 Average Valid R2: 0.9802849175560789\n",
      "--------------------------------------------------------\n",
      "4 Average Train MSE:  0.00728650624819725 Average Valid MSE: 0.020273992502764796\n",
      "4 Average Train R2:  0.9927069317651045 Average Valid R2: 0.9796786947194663\n",
      "--------------------------------------------------------\n",
      "6 Average Train MSE:  0.00962364982824865 Average Valid MSE: 0.022027490137435515\n",
      "6 Average Train R2:  0.9903695859236734 Average Valid R2: 0.9779580430059971\n",
      "--------------------------------------------------------\n",
      "8 Average Train MSE:  0.012267442561782794 Average Valid MSE: 0.02402335456494059\n",
      "8 Average Train R2:  0.9877252157020102 Average Valid R2: 0.9760256862264095\n",
      "--------------------------------------------------------\n",
      "10 Average Train MSE:  0.014755885640443663 Average Valid MSE: 0.02604403572238202\n",
      "10 Average Train R2:  0.9852371986644066 Average Valid R2: 0.9740196197951164\n",
      "--------------------------------------------------------\n",
      "15 Average Train MSE:  0.022055189981359857 Average Valid MSE: 0.0327266401400154\n",
      "15 Average Train R2:  0.9779379082565349 Average Valid R2: 0.9674125451944656\n",
      "--------------------------------------------------------\n",
      "20 Average Train MSE:  0.02901440643123676 Average Valid MSE: 0.038578827220359733\n",
      "20 Average Train R2:  0.9709810714561206 Average Valid R2: 0.9615765248114977\n",
      "--------------------------------------------------------\n",
      "30 Average Train MSE:  0.03861536554818351 Average Valid MSE: 0.048022540372733645\n",
      "30 Average Train R2:  0.9613774897526343 Average Valid R2: 0.9522140040357406\n",
      "--------------------------------------------------------\n"
     ]
    }
   ],
   "source": [
    "for k in [2, 4, 6, 8, 10, 15, 20, 30]:\n",
    "    trainMSE, validMSE,trainR2,validR2, predictions, indices = CVTestRFRegressor(debug=False,n_estimators=200,max_depth=16,max_features=20,min_samples_split=k)\n",
    "    print(k,'Average Train MSE: ',np.mean(trainMSE), 'Average Valid MSE:',np.mean(validMSE))\n",
    "    print(k,'Average Train R2: ',np.mean(trainR2), 'Average Valid R2:',np.mean(validR2))\n",
    "    print('--------------------------------------------------------')"
   ]
  },
  {
   "cell_type": "markdown",
   "metadata": {},
   "source": [
    "Since we must have at least 2 for the split then after the split we can only test values 1 and 2."
   ]
  },
  {
   "cell_type": "code",
   "execution_count": 68,
   "metadata": {},
   "outputs": [
    {
     "name": "stdout",
     "output_type": "stream",
     "text": [
      "1 Average Train MSE:  0.005513647374891488 Average Valid MSE: 0.019628706388428577\n",
      "1 Average Train R2:  0.994482364026992 Average Valid R2: 0.9802849175560789\n",
      "--------------------------------------------------------\n",
      "2 Average Train MSE:  0.010344088600005037 Average Valid MSE: 0.023167009147595178\n",
      "2 Average Train R2:  0.9896478452718858 Average Valid R2: 0.9768312502801054\n",
      "--------------------------------------------------------\n"
     ]
    }
   ],
   "source": [
    "for k in [1,2]:\n",
    "    trainMSE, validMSE,trainR2,validR2, predictions, indices = CVTestRFRegressor(debug=False,n_estimators=200,max_depth=16,max_features=20,min_samples_split=2,min_samples_leaf=k)\n",
    "    print(k,'Average Train MSE: ',np.mean(trainMSE), 'Average Valid MSE:',np.mean(validMSE))\n",
    "    print(k,'Average Train R2: ',np.mean(trainR2), 'Average Valid R2:',np.mean(validR2))\n",
    "    print('--------------------------------------------------------')"
   ]
  },
  {
   "cell_type": "markdown",
   "metadata": {},
   "source": [
    "Finally, we obtained the best result for 200 trees,\n",
    "depth 16, maximum number of variables 20, observations before split 2 and min in leaf after split 1.  Let's check it for the test set"
   ]
  },
  {
   "cell_type": "code",
   "execution_count": 69,
   "metadata": {},
   "outputs": [],
   "source": [
    "test_forest=pd.concat([test_set[num_features],test_set[dummLev.columns.tolist()],test_set[target]],axis=1)"
   ]
  },
  {
   "cell_type": "code",
   "execution_count": 70,
   "metadata": {
    "scrolled": true
   },
   "outputs": [
    {
     "name": "stdout",
     "output_type": "stream",
     "text": [
      "R^2 score:  0.9507759534970475\n",
      "Mean squared error: 0.05\n",
      "Mean absolute error: 0.10\n"
     ]
    },
    {
     "data": {
      "text/html": [
       "<div>\n",
       "<style scoped>\n",
       "    .dataframe tbody tr th:only-of-type {\n",
       "        vertical-align: middle;\n",
       "    }\n",
       "\n",
       "    .dataframe tbody tr th {\n",
       "        vertical-align: top;\n",
       "    }\n",
       "\n",
       "    .dataframe thead th {\n",
       "        text-align: right;\n",
       "    }\n",
       "</style>\n",
       "<table border=\"1\" class=\"dataframe\">\n",
       "  <thead>\n",
       "    <tr style=\"text-align: right;\">\n",
       "      <th></th>\n",
       "      <th>Model</th>\n",
       "      <th>Training Accuracy %</th>\n",
       "      <th>Testing Accuracy %</th>\n",
       "      <th>r2 score</th>\n",
       "      <th>MSE</th>\n",
       "      <th>MAE</th>\n",
       "    </tr>\n",
       "  </thead>\n",
       "  <tbody>\n",
       "    <tr>\n",
       "      <th>0</th>\n",
       "      <td>Linear Regression</td>\n",
       "      <td>0.807389</td>\n",
       "      <td>0.778990</td>\n",
       "      <td>0.778990</td>\n",
       "      <td>0.220905</td>\n",
       "      <td>0.235512</td>\n",
       "    </tr>\n",
       "    <tr>\n",
       "      <th>1</th>\n",
       "      <td>SVR(kernel=RBF,C=2)</td>\n",
       "      <td>0.948425</td>\n",
       "      <td>0.924689</td>\n",
       "      <td>0.924689</td>\n",
       "      <td>0.075276</td>\n",
       "      <td>0.117617</td>\n",
       "    </tr>\n",
       "    <tr>\n",
       "      <th>2</th>\n",
       "      <td>RandomForest(n_estimators=200,max_depth=16,max...</td>\n",
       "      <td>0.994650</td>\n",
       "      <td>0.950776</td>\n",
       "      <td>0.950776</td>\n",
       "      <td>0.049201</td>\n",
       "      <td>0.098726</td>\n",
       "    </tr>\n",
       "  </tbody>\n",
       "</table>\n",
       "</div>"
      ],
      "text/plain": [
       "                                               Model  Training Accuracy %  \\\n",
       "0                                  Linear Regression             0.807389   \n",
       "1                                SVR(kernel=RBF,C=2)             0.948425   \n",
       "2  RandomForest(n_estimators=200,max_depth=16,max...             0.994650   \n",
       "\n",
       "   Testing Accuracy %  r2 score       MSE       MAE  \n",
       "0            0.778990  0.778990  0.220905  0.235512  \n",
       "1            0.924689  0.924689  0.075276  0.117617  \n",
       "2            0.950776  0.950776  0.049201  0.098726  "
      ]
     },
     "metadata": {},
     "output_type": "display_data"
    }
   ],
   "source": [
    "forest_best= RandomForestRegressor(n_estimators=200,max_depth=16,max_features=20,min_samples_split=2,min_samples_leaf=1,random_state=42)\n",
    "forest_best.fit(train_forest[ind_features],train_forest['MSRP'])\n",
    "preds=forest_best.predict(test_forest[ind_features])\n",
    "\n",
    "print('R^2 score: ',metrics.r2_score(test_forest['MSRP'],preds))\n",
    "print(\"Mean squared error: %.2f\" % metrics.mean_squared_error(test_forest[\"MSRP\"], preds))\n",
    "print(\"Mean absolute error: %.2f\" % metrics.mean_absolute_error(test_forest['MSRP'], preds))   \n",
    "\n",
    "#Create Dataframe with statistics to compare\n",
    "results_df=results_df.append(pd.DataFrame(data=[[\"RandomForest(n_estimators=200,max_depth=16,max_features=20,min_samples_split=2,min_samples_leaf=1)\",forest_best.score(train_forest[ind_features],train_forest['MSRP']),forest_best.score(test_forest[ind_features],test_forest['MSRP']),metrics.r2_score(test_forest[\"MSRP\"],preds),metrics.mean_squared_error(test_forest[\"MSRP\"],preds),metrics.mean_absolute_error(test_forest[\"MSRP\"],preds)]], \n",
    "                          columns=['Model', 'Training Accuracy %', 'Testing Accuracy %','r2 score','MSE','MAE']),ignore_index=True)\n",
    "\n",
    "display(results_df)\n",
    "#Save Results to \n",
    "results_df.to_csv(path+'\\\\data\\\\Results_eval_models.csv')"
   ]
  },
  {
   "cell_type": "markdown",
   "metadata": {},
   "source": [
    "Random Forest on the test set scored 0.95 which is an improvement over the SVM model. \n",
    "In the case of Random Forest model, there is an additional method that helps to develop the result of the analysis, which is feature importance."
   ]
  },
  {
   "cell_type": "code",
   "execution_count": 71,
   "metadata": {},
   "outputs": [],
   "source": [
    "def plot_feature_importance(importance,names,model_type):\n",
    "\n",
    "    #Create arrays from feature importance and feature names\n",
    "    feature_importance = np.array(importance)\n",
    "    feature_names = np.array(names)\n",
    "\n",
    "    #Create a DataFrame using a Dictionary\n",
    "    data={'feature_names':feature_names,'feature_importance':feature_importance}\n",
    "    fi_df = pd.DataFrame(data)\n",
    "\n",
    "    #Sort the DataFrame in order decreasing feature importance\n",
    "    fi_df.sort_values(by=['feature_importance'], ascending=False,inplace=True)\n",
    "\n",
    "    #Define size of bar plot\n",
    "    plt.figure(figsize=(10,8))\n",
    "    #Plot Searborn bar chart\n",
    "    sns.barplot(x=fi_df['feature_importance'], y=fi_df['feature_names'])\n",
    "    #Add chart labels\n",
    "    plt.title(model_type + '-FEATURE IMPORTANCE')\n",
    "    plt.xlabel('FEATURE IMPORTANCE')\n",
    "    plt.ylabel('FEATURE NAMES')\n",
    "    #Save figure to png file\n",
    "    plt.savefig(path+'\\\\img\\\\RandomForest-FeatureImportance.png')\n",
    "    plt.show()"
   ]
  },
  {
   "cell_type": "code",
   "execution_count": 72,
   "metadata": {},
   "outputs": [
    {
     "data": {
      "image/png": "[encoded data removed]",
      "text/plain": [
       "<Figure size 720x576 with 1 Axes>"
      ]
     },
     "metadata": {},
     "output_type": "display_data"
    }
   ],
   "source": [
    "plot_feature_importance(forest_best.feature_importances_,ind_features,'RANDOM FOREST')\n"
   ]
  },
  {
   "cell_type": "markdown",
   "metadata": {},
   "source": [
    "The graph is moderately clear due to the large number of variables. However, you can see that the most important variable is the binary variable that determines whether a car is exotic. Another key variable is Engine HP. Together these variables comprise 50% of the importance. Besides these, Engine Cylinders, average total mpg, Year and popularity were found to be the important variables in modeling the price of cars\n",
    "\n"
   ]
  },
  {
   "cell_type": "markdown",
   "metadata": {},
   "source": [
    "## 7. Conclusion"
   ]
  },
  {
   "cell_type": "markdown",
   "metadata": {},
   "source": [
    "In summary, the project presents an analysis of car data. The main objective of the study was to perform modeling and create the best estimator that would predict car prices. For this task 3 models were used: linear regression, Support vector machine and Random Forest. Hyperparameter tuning was performed for each of them. Finally, 3 evaluation statistics were calculated for each model: r square, mean squared error and mean absolute error. It turned out that among the estimated models, the best results were obtained by Random Forest, for which R^2 was as high as 0.948.\n",
    "\n",
    "This is a good result, however I am convinced that better results can be achieved. Among other things, it would be worthwhile to take an interest in boosted decision trees from the xgboost library, which improve the results of classical decision tree-based models.\n",
    "Probably more accurate feature generation process and data manipulation would also improve the results"
   ]
  }
 ],
 "metadata": {
  "kernelspec": {
   "display_name": "Python 3",
   "language": "python",
   "name": "python3"
  },
  "language_info": {
   "codemirror_mode": {
    "name": "ipython",
    "version": 3
   },
   "file_extension": ".py",
   "mimetype": "text/x-python",
   "name": "python",
   "nbconvert_exporter": "python",
   "pygments_lexer": "ipython3",
   "version": "3.8.0"
  }
 },
 "nbformat": 4,
 "nbformat_minor": 4
}
